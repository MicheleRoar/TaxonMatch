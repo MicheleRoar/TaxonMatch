{
 "cells": [
  {
   "cell_type": "markdown",
   "id": "345fc9d0-5b30-41fc-8c89-033da97514c4",
   "metadata": {},
   "source": [
    "<center>\n",
    "<h1>Discovering Closest Living Relatives with sequenced genomes of Extinct Species in The Paleobiology Database</h1>\n",
    "</center>"
   ]
  },
  {
   "attachments": {},
   "cell_type": "markdown",
   "id": "6e01ed29-be09-46f4-907e-9840b0475054",
   "metadata": {},
   "source": [
    "![title](https://www.science.org/do/10.1126/science.aad1693/full/sn-pentecopterus-1644949894120.jpg)"
   ]
  },
  {
   "cell_type": "markdown",
   "id": "8bac95d0-cd86-4f93-bdc5-b41d4647d139",
   "metadata": {},
   "source": [
    "This notebook focuses on identifying the closest living relatives of the extinct Ristoria pliocaenica, a Pliocene leucosiid crab, by leveraging available taxonomic and genetic data from NCBI and fossil occurrences from the Paleobiology Database. By integrating paleontological records and molecular phylogenies, we aim to clarify the evolutionary position of Ristoria within the family Leucosiidae, tracing lineage continuity and divergence from extant species.\n",
    "\n",
    "Using the integrated taxonomic reconciliation functions in TaxonMatch, we aligned fossil taxa with extant clades in NCBI and GBIF, identifying candidate species that share the closest phylogenetic affinity with Ristoria pliocaenica. This comparative approach provides a framework for understanding morphological stasis and evolutionary innovation within the Leucosiidae lineage, offering insights into the persistence of carapace traits and ecological niches from the Pliocene to the present."
   ]
  },
  {
   "cell_type": "markdown",
   "id": "692ea14c-3ce9-4c60-a10b-6ffd215ac22f",
   "metadata": {},
   "source": [
    "## 1. Importing libraries"
   ]
  },
  {
   "cell_type": "code",
   "execution_count": null,
   "id": "a3503595-f408-4164-822e-45f2d7bad5de",
   "metadata": {},
   "outputs": [],
   "source": [
    "import taxonmatch as txm"
   ]
  },
  {
   "cell_type": "code",
   "execution_count": null,
   "id": "6b829554-f189-402d-a483-a81d65d4c68d",
   "metadata": {},
   "outputs": [],
   "source": [
    "import pandas as pd\n",
    "pd.set_option('display.max_colwidth', None)"
   ]
  },
  {
   "cell_type": "markdown",
   "id": "8825dbb5-129f-47a0-b410-c17e5e8c3356",
   "metadata": {},
   "source": [
    "## 2. Download the Paleobiology and the NCBI dataset"
   ]
  },
  {
   "cell_type": "markdown",
   "id": "7f9c4419-9787-4b12-9083-70a25fe6112e",
   "metadata": {},
   "source": [
    "Although the Paleobiology Database is the primary source for fossil occurrences, its taxonomic backbone in GBIF lacks many fossil taxa in structured form. As a result, extinct species like Ristoria pliocaenica may not be represented as taxonomic entries within the two Paleobiology datasets currently available in GBIF."
   ]
  },
  {
   "cell_type": "code",
   "execution_count": null,
   "id": "54a07458-7d59-4e2c-abd4-01606a1a8a12",
   "metadata": {},
   "outputs": [],
   "source": [
    "txm.find_dataset_ids_by_name(\"Paleobiology Database\")"
   ]
  },
  {
   "cell_type": "code",
   "execution_count": null,
   "id": "6c75f537-7930-4425-ba71-5a1976c0050f",
   "metadata": {},
   "outputs": [],
   "source": [
    "dataset_id = txm.get_dataset_from_species(\"Ristoria pliocaenica\")\n",
    "print(dataset_id)"
   ]
  },
  {
   "cell_type": "markdown",
   "id": "de689484-c20a-4208-bb1a-c3b463299ebb",
   "metadata": {},
   "source": [
    "Instead, we rely on the Catalogue of Life (CoL) to provide a standardized taxonomic placement for this extinct species, since Ristoria is included as a valid genus in the CoL taxonomy backbone integrated into GBIF (source: 7ddf754f-d193-4cc9-b351-99906754a03b).\n",
    "This approach ensures consistent lineage tracing and phylogenetic mapping across datasets, even when fossil taxa are missing from occurrence-based datasets such as Paleobiology DB."
   ]
  },
  {
   "cell_type": "code",
   "execution_count": null,
   "id": "b67820cf-0d73-4405-8d0a-630ee3779222",
   "metadata": {},
   "outputs": [],
   "source": [
    "catalogue_of_life_dataset = txm.download_gbif_taxonomy(source=\"7ddf754f-d193-4cc9-b351-99906754a03b\")"
   ]
  },
  {
   "cell_type": "code",
   "execution_count": null,
   "id": "232dc575-187f-4b4a-8679-502d54fa7f30",
   "metadata": {},
   "outputs": [],
   "source": [
    "ncbi_dataset = txm.download_ncbi_taxonomy()"
   ]
  },
  {
   "cell_type": "markdown",
   "id": "d19c9c2f-5f6a-4754-9df0-dae469619db7",
   "metadata": {},
   "source": [
    "## 3. Finding closest living relatives for single extinct species"
   ]
  },
  {
   "cell_type": "markdown",
   "id": "354ee011-12de-4a2c-b5d2-eaebc6a243d0",
   "metadata": {},
   "source": [
    "The process begins by extracting Ristoria pliocaenica and its parent lineage from both the Catalogue of Life and NCBI taxonomies. Using the select_closest_common_clade function, the two lineages are compared to identify the nearest shared ancestral clade. Discrepancies in rank depth and naming conventions are detected and resolved, enabling taxonomic reconciliation between the two sources."
   ]
  },
  {
   "cell_type": "code",
   "execution_count": null,
   "id": "759b55cf-8635-4140-9fc8-fef591c40ffd",
   "metadata": {},
   "outputs": [],
   "source": [
    "catalogue_of_life_parents, ncbi_parents = txm.select_closest_common_clade(\"Ristoria pliocaenica\", catalogue_of_life_dataset, ncbi_dataset)"
   ]
  },
  {
   "cell_type": "code",
   "execution_count": null,
   "id": "a15a1eca-4ae6-4ac9-9841-b113807706e1",
   "metadata": {},
   "outputs": [],
   "source": [
    "model = txm.load_xgb_model()"
   ]
  },
  {
   "cell_type": "code",
   "execution_count": null,
   "id": "4e5b5f19-0868-4fc0-b68a-396962a3ae62",
   "metadata": {},
   "outputs": [],
   "source": [
    "matched_df, unmatched_df, typos = txm.match_dataset(catalogue_of_life_parents, ncbi_parents, model, tree_generation = True)"
   ]
  },
  {
   "cell_type": "markdown",
   "id": "3857bc7d-883e-48bb-a902-52e95a4f5f6e",
   "metadata": {},
   "source": [
    "The resulting matched taxonomy is then used to position Ristoria pliocaenica within the broader evolutionary framework of decapod crustaceans. While genetic data is unavailable for this extinct species, the integration of curated taxonomic hierarchies allows for a meaningful approximation of its phylogenetic placement and its relation to extant leucosiid genera."
   ]
  },
  {
   "cell_type": "code",
   "execution_count": null,
   "id": "95e64e09-8002-49c3-b8b9-42fcdfb174f6",
   "metadata": {},
   "outputs": [],
   "source": [
    "tree = txm.generate_taxonomic_tree(matched_df, unmatched_df)"
   ]
  },
  {
   "cell_type": "code",
   "execution_count": null,
   "id": "220ec7a6-ca08-4b9b-a6d7-f9f0ec76478e",
   "metadata": {
    "scrolled": true
   },
   "outputs": [],
   "source": [
    "txm.print_tree(tree)"
   ]
  },
  {
   "cell_type": "code",
   "execution_count": null,
   "id": "d33841d2-2d11-436c-85bf-216a8dccd0ff",
   "metadata": {},
   "outputs": [],
   "source": [
    "df_leucosiidae = txm.convert_tree_to_dataframe(tree, catalogue_of_life_parents, ncbi_parents, \"leucosiidae_taxonomic_tree_df.txt\")"
   ]
  },
  {
   "cell_type": "code",
   "execution_count": null,
   "id": "6f5ddcbb-3a6f-4ca8-9b41-2036119bb535",
   "metadata": {},
   "outputs": [],
   "source": [
    "ncbi_binomials = df_leucosiidae.loc[\n",
    "    df_leucosiidae[\"ncbi_taxon_id\"].notna() &\n",
    "    (df_leucosiidae[\"ncbi_canonical_name\"].fillna(\"\").str.split().str.len() == 2)\n",
    "]"
   ]
  },
  {
   "cell_type": "code",
   "execution_count": null,
   "id": "b5765bdc-4f32-45ee-afd8-1d6ec9e4239d",
   "metadata": {},
   "outputs": [],
   "source": [
    "ncbi_binomials"
   ]
  },
  {
   "cell_type": "code",
   "execution_count": null,
   "id": "7674daa9-791e-4025-a5cf-18dba437f557",
   "metadata": {},
   "outputs": [],
   "source": []
  }
 ],
 "metadata": {
  "kernelspec": {
   "display_name": "Python 3 (ipykernel)",
   "language": "python",
   "name": "python3"
  },
  "language_info": {
   "codemirror_mode": {
    "name": "ipython",
    "version": 3
   },
   "file_extension": ".py",
   "mimetype": "text/x-python",
   "name": "python",
   "nbconvert_exporter": "python",
   "pygments_lexer": "ipython3",
   "version": "3.12.4"
  }
 },
 "nbformat": 4,
 "nbformat_minor": 5
}
