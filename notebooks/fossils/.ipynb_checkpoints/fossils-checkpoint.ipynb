{
 "cells": [
  {
   "cell_type": "code",
   "execution_count": 1,
   "id": "a3503595-f408-4164-822e-45f2d7bad5de",
   "metadata": {},
   "outputs": [],
   "source": [
    "import taxonmatch as txm"
   ]
  },
  {
   "cell_type": "code",
   "execution_count": 2,
   "id": "6b829554-f189-402d-a483-a81d65d4c68d",
   "metadata": {},
   "outputs": [],
   "source": [
    "import pandas as pd\n",
    "pd.set_option('display.max_colwidth', None)"
   ]
  },
  {
   "cell_type": "markdown",
   "id": "492c50e2-f586-4f7c-bcef-8c5e71332b66",
   "metadata": {},
   "source": [
    "## Download GBIF and NCBI dataset"
   ]
  },
  {
   "cell_type": "code",
   "execution_count": 3,
   "id": "e3a40006-103b-4eef-8f17-0e403fd9f1bd",
   "metadata": {},
   "outputs": [
    {
     "name": "stdout",
     "output_type": "stream",
     "text": [
      "GBIF backbone taxonomy data already downloaded.\n",
      "Processing samples...\n",
      "Done.\n"
     ]
    }
   ],
   "source": [
    "gbif_dataset = txm.download_gbif_taxonomy()"
   ]
  },
  {
   "cell_type": "code",
   "execution_count": 4,
   "id": "c86e8e4e-bb8a-416c-95fe-12cc4786a81d",
   "metadata": {},
   "outputs": [
    {
     "name": "stdout",
     "output_type": "stream",
     "text": [
      "NCBI taxonomy data already downloaded.\n",
      "Processing samples...\n",
      "Done.\n"
     ]
    }
   ],
   "source": [
    "ncbi_dataset = txm.download_ncbi_taxonomy()"
   ]
  },
  {
   "cell_type": "markdown",
   "id": "69a29812-2130-4011-8314-554b01a6d0ea",
   "metadata": {},
   "source": [
    "## Import A3CAT dataset"
   ]
  },
  {
   "cell_type": "code",
   "execution_count": 5,
   "id": "6bce8c43-32b5-45a4-8315-fe71cf0359f4",
   "metadata": {},
   "outputs": [],
   "source": [
    "#Importing the A3cat dataset\n",
    "a3cat = pd.read_csv(\"./a3cat_v2.tsv\", sep=\"\\t\")"
   ]
  },
  {
   "cell_type": "code",
   "execution_count": 6,
   "id": "14cd728a-e99e-4c4f-8335-77197f9e7e4b",
   "metadata": {},
   "outputs": [],
   "source": [
    "a3cat_filtered = ncbi_dataset[0][ncbi_dataset[0][\"ncbi_id\"].isin(list(a3cat.TaxId.astype(str)))]"
   ]
  },
  {
   "cell_type": "code",
   "execution_count": null,
   "id": "10754c45-b35a-4341-b726-bee4947d9fef",
   "metadata": {},
   "outputs": [],
   "source": []
  },
  {
   "cell_type": "markdown",
   "id": "064df44c-1bdd-4c8f-9e73-940f883ef146",
   "metadata": {},
   "source": [
    "## Import PaleoDB Dataset"
   ]
  },
  {
   "cell_type": "code",
   "execution_count": 7,
   "id": "2e289048-5d4c-48c6-962a-756df72edd97",
   "metadata": {},
   "outputs": [],
   "source": [
    "#Importing the pbdb dataset updated to 30/08/2023\n",
    "pbdb = pd.read_csv(\"./pbdb_data.tsv\", sep= \"\\t\", skiprows=17, low_memory=False)"
   ]
  },
  {
   "cell_type": "code",
   "execution_count": 8,
   "id": "6c7f9c6b-956a-46f6-83ce-db4344d7c257",
   "metadata": {},
   "outputs": [],
   "source": [
    "filtered_pbdb = pbdb[['orig_no', 'taxon_no', 'taxon_rank',\n",
    "       'taxon_name', 'common_name', 'parent_no', 'parent_name', 'immpar_no',\n",
    "       'immpar_name', 'reference_no', 'is_extant', 'n_occs', 'phylum',\n",
    "       'phylum_no', 'class', 'class_no', 'order', 'order_no', 'family',\n",
    "       'family_no', \"genus\"]]"
   ]
  },
  {
   "cell_type": "code",
   "execution_count": 43,
   "id": "38c6ff5f-6f7e-4d7d-bb69-84fe518986dd",
   "metadata": {},
   "outputs": [],
   "source": [
    "pbdb_arthropoda = filtered_pbdb[filtered_pbdb.phylum == \"Arthropoda\"]"
   ]
  },
  {
   "cell_type": "code",
   "execution_count": 45,
   "id": "999991bb-2807-4c30-82f5-c0464ead3a1c",
   "metadata": {},
   "outputs": [],
   "source": [
    "pbdb_arthropoda_ = pbdb_arthropoda.copy()\n",
    "#Creating a new column with the full taxononmical information\n",
    "pbdb_arthropoda_[\"taxonomy\"] = pbdb_arthropoda['phylum'] + \";\" + pbdb_arthropoda['class'] + \";\" + pbdb_arthropoda['order'] + \";\" + pbdb_arthropoda['family'] + \";\" + pbdb_arthropoda[\"taxon_name\"]"
   ]
  },
  {
   "cell_type": "code",
   "execution_count": null,
   "id": "53375879-2575-472c-97b3-2a74e54f3cd2",
   "metadata": {},
   "outputs": [],
   "source": []
  },
  {
   "cell_type": "code",
   "execution_count": null,
   "id": "a0cd76a3-a303-4dab-ab97-09019881ba90",
   "metadata": {},
   "outputs": [],
   "source": []
  },
  {
   "cell_type": "code",
   "execution_count": null,
   "id": "26b3bfa6-5143-423d-91dc-ab81cc649372",
   "metadata": {},
   "outputs": [],
   "source": []
  },
  {
   "cell_type": "code",
   "execution_count": 65,
   "id": "cbf14500-7c3c-45de-9cf9-efd3d39f01ac",
   "metadata": {},
   "outputs": [],
   "source": [
    "query = \"Arthropoda;Insecta;Hymenoptera;Formicidae;Formica:Formica seuberti\""
   ]
  },
  {
   "cell_type": "code",
   "execution_count": 66,
   "id": "eee0fed2-fc8d-41e9-812f-ea34eee6ad2f",
   "metadata": {},
   "outputs": [
    {
     "data": {
      "text/html": [
       "<div>\n",
       "<style scoped>\n",
       "    .dataframe tbody tr th:only-of-type {\n",
       "        vertical-align: middle;\n",
       "    }\n",
       "\n",
       "    .dataframe tbody tr th {\n",
       "        vertical-align: top;\n",
       "    }\n",
       "\n",
       "    .dataframe thead th {\n",
       "        text-align: right;\n",
       "    }\n",
       "</style>\n",
       "<table border=\"1\" class=\"dataframe\">\n",
       "  <thead>\n",
       "    <tr style=\"text-align: right;\">\n",
       "      <th></th>\n",
       "      <th>Matched Target</th>\n",
       "      <th>Distance</th>\n",
       "    </tr>\n",
       "  </thead>\n",
       "  <tbody>\n",
       "    <tr>\n",
       "      <th>0</th>\n",
       "      <td>arthropoda;insecta;hymenoptera;formicidae;formica;formica exsecta</td>\n",
       "      <td>0.55</td>\n",
       "    </tr>\n",
       "    <tr>\n",
       "      <th>1</th>\n",
       "      <td>arthropoda;insecta;hymenoptera;formicidae;formica;formica selysi</td>\n",
       "      <td>0.55</td>\n",
       "    </tr>\n",
       "    <tr>\n",
       "      <th>2</th>\n",
       "      <td>arthropoda;insecta;hymenoptera;formicidae;formica;formica aquilonia x formica polyctena</td>\n",
       "      <td>0.58</td>\n",
       "    </tr>\n",
       "  </tbody>\n",
       "</table>\n",
       "</div>"
      ],
      "text/plain": [
       "                                                                            Matched Target  \\\n",
       "0                        arthropoda;insecta;hymenoptera;formicidae;formica;formica exsecta   \n",
       "1                         arthropoda;insecta;hymenoptera;formicidae;formica;formica selysi   \n",
       "2  arthropoda;insecta;hymenoptera;formicidae;formica;formica aquilonia x formica polyctena   \n",
       "\n",
       "   Distance  \n",
       "0      0.55  \n",
       "1      0.55  \n",
       "2      0.58  "
      ]
     },
     "execution_count": 66,
     "metadata": {},
     "output_type": "execute_result"
    }
   ],
   "source": [
    "txm.find_similar(a3cat_filtered, query, 3)"
   ]
  },
  {
   "cell_type": "code",
   "execution_count": 67,
   "id": "00bea804-2d45-472b-9184-b68acb4704da",
   "metadata": {},
   "outputs": [],
   "source": [
    "query = \"Arthropoda;Insecta;Lepidoptera;Zygaenidae;Zygaenites;Zygaenites controversus\""
   ]
  },
  {
   "cell_type": "code",
   "execution_count": 68,
   "id": "e88a2f29-5b40-4ad2-807f-3bc579138df4",
   "metadata": {},
   "outputs": [
    {
     "data": {
      "text/html": [
       "<div>\n",
       "<style scoped>\n",
       "    .dataframe tbody tr th:only-of-type {\n",
       "        vertical-align: middle;\n",
       "    }\n",
       "\n",
       "    .dataframe tbody tr th {\n",
       "        vertical-align: top;\n",
       "    }\n",
       "\n",
       "    .dataframe thead th {\n",
       "        text-align: right;\n",
       "    }\n",
       "</style>\n",
       "<table border=\"1\" class=\"dataframe\">\n",
       "  <thead>\n",
       "    <tr style=\"text-align: right;\">\n",
       "      <th></th>\n",
       "      <th>Matched Target</th>\n",
       "      <th>Distance</th>\n",
       "    </tr>\n",
       "  </thead>\n",
       "  <tbody>\n",
       "    <tr>\n",
       "      <th>0</th>\n",
       "      <td>arthropoda;insecta;lepidoptera;zygaenidae;zygaena;zygaena filipendulae</td>\n",
       "      <td>0.71</td>\n",
       "    </tr>\n",
       "    <tr>\n",
       "      <th>1</th>\n",
       "      <td>arthropoda;insecta;lepidoptera;nymphalidae;limenitis;limenitis arthemis</td>\n",
       "      <td>0.87</td>\n",
       "    </tr>\n",
       "    <tr>\n",
       "      <th>2</th>\n",
       "      <td>arthropoda;arachnida;araneae;uloboridae;uloborus;uloborus diversus</td>\n",
       "      <td>0.90</td>\n",
       "    </tr>\n",
       "  </tbody>\n",
       "</table>\n",
       "</div>"
      ],
      "text/plain": [
       "                                                            Matched Target  \\\n",
       "0   arthropoda;insecta;lepidoptera;zygaenidae;zygaena;zygaena filipendulae   \n",
       "1  arthropoda;insecta;lepidoptera;nymphalidae;limenitis;limenitis arthemis   \n",
       "2       arthropoda;arachnida;araneae;uloboridae;uloborus;uloborus diversus   \n",
       "\n",
       "   Distance  \n",
       "0      0.71  \n",
       "1      0.87  \n",
       "2      0.90  "
      ]
     },
     "execution_count": 68,
     "metadata": {},
     "output_type": "execute_result"
    }
   ],
   "source": [
    "txm.find_similar(a3cat_filtered, query, 3)"
   ]
  },
  {
   "cell_type": "code",
   "execution_count": null,
   "id": "a5d62e04-5ecd-4c6d-8335-9b3ad9e70f62",
   "metadata": {},
   "outputs": [],
   "source": []
  },
  {
   "cell_type": "code",
   "execution_count": 131,
   "id": "f9d8bfe9-ac1a-40e2-bc22-ae10516f5e64",
   "metadata": {},
   "outputs": [],
   "source": [
    "query = 'Arthropoda;Malacostraca;Decapoda;Portunidae;Portunus;Portunus yaucoensis'"
   ]
  },
  {
   "cell_type": "code",
   "execution_count": 128,
   "id": "ccf75944-7df7-4802-bea5-22bcae057c6b",
   "metadata": {},
   "outputs": [],
   "source": [
    "query = list(pbdb_arthropoda_.sample(1).taxonomy)[0]"
   ]
  },
  {
   "cell_type": "code",
   "execution_count": 132,
   "id": "7bed2480-15a8-4226-98da-be002d23f4f4",
   "metadata": {},
   "outputs": [
    {
     "data": {
      "text/plain": [
       "'Arthropoda;Malacostraca;Decapoda;Portunidae;Portunus;Portunus yaucoensis'"
      ]
     },
     "execution_count": 132,
     "metadata": {},
     "output_type": "execute_result"
    }
   ],
   "source": [
    "query"
   ]
  },
  {
   "cell_type": "code",
   "execution_count": 133,
   "id": "2872e106-5da7-4039-ad3e-561db37e5441",
   "metadata": {},
   "outputs": [
    {
     "data": {
      "text/html": [
       "<div>\n",
       "<style scoped>\n",
       "    .dataframe tbody tr th:only-of-type {\n",
       "        vertical-align: middle;\n",
       "    }\n",
       "\n",
       "    .dataframe tbody tr th {\n",
       "        vertical-align: top;\n",
       "    }\n",
       "\n",
       "    .dataframe thead th {\n",
       "        text-align: right;\n",
       "    }\n",
       "</style>\n",
       "<table border=\"1\" class=\"dataframe\">\n",
       "  <thead>\n",
       "    <tr style=\"text-align: right;\">\n",
       "      <th></th>\n",
       "      <th>Matched Target</th>\n",
       "      <th>Distance</th>\n",
       "    </tr>\n",
       "  </thead>\n",
       "  <tbody>\n",
       "    <tr>\n",
       "      <th>0</th>\n",
       "      <td>arthropoda;malacostraca;decapoda;portunidae;portunus;portunus trituberculatus</td>\n",
       "      <td>0.58</td>\n",
       "    </tr>\n",
       "    <tr>\n",
       "      <th>1</th>\n",
       "      <td>arthropoda;insecta;lepidoptera;papilionidae;losaria;losaria neptunus;losaria neptunus creber</td>\n",
       "      <td>0.87</td>\n",
       "    </tr>\n",
       "    <tr>\n",
       "      <th>2</th>\n",
       "      <td>arthropoda;insecta;hymenoptera;apidae;habropoda;habropoda laboriosa</td>\n",
       "      <td>0.88</td>\n",
       "    </tr>\n",
       "  </tbody>\n",
       "</table>\n",
       "</div>"
      ],
      "text/plain": [
       "                                                                                 Matched Target  \\\n",
       "0                 arthropoda;malacostraca;decapoda;portunidae;portunus;portunus trituberculatus   \n",
       "1  arthropoda;insecta;lepidoptera;papilionidae;losaria;losaria neptunus;losaria neptunus creber   \n",
       "2                           arthropoda;insecta;hymenoptera;apidae;habropoda;habropoda laboriosa   \n",
       "\n",
       "   Distance  \n",
       "0      0.58  \n",
       "1      0.87  \n",
       "2      0.88  "
      ]
     },
     "execution_count": 133,
     "metadata": {},
     "output_type": "execute_result"
    }
   ],
   "source": [
    "txm.find_similar(a3cat_filtered, query, 3)"
   ]
  },
  {
   "cell_type": "code",
   "execution_count": null,
   "id": "1635d5b4-c650-4d03-ac9f-82d27a423fe0",
   "metadata": {},
   "outputs": [],
   "source": []
  },
  {
   "cell_type": "code",
   "execution_count": null,
   "id": "294b1652-fa7e-4e30-b3c1-4080bbc1dc84",
   "metadata": {},
   "outputs": [],
   "source": []
  },
  {
   "cell_type": "code",
   "execution_count": null,
   "id": "99a8d758-e756-4d23-b0ca-6d92dbc056a8",
   "metadata": {},
   "outputs": [],
   "source": []
  },
  {
   "cell_type": "code",
   "execution_count": null,
   "id": "0cff33b9-0c84-466c-a3c6-6567891a5c13",
   "metadata": {},
   "outputs": [],
   "source": []
  },
  {
   "cell_type": "code",
   "execution_count": null,
   "id": "abd4462f-c854-4930-96d8-363791ee175c",
   "metadata": {},
   "outputs": [],
   "source": []
  }
 ],
 "metadata": {
  "kernelspec": {
   "display_name": "Python 3 (ipykernel)",
   "language": "python",
   "name": "python3"
  },
  "language_info": {
   "codemirror_mode": {
    "name": "ipython",
    "version": 3
   },
   "file_extension": ".py",
   "mimetype": "text/x-python",
   "name": "python",
   "nbconvert_exporter": "python",
   "pygments_lexer": "ipython3",
   "version": "3.12.3"
  }
 },
 "nbformat": 4,
 "nbformat_minor": 5
}
