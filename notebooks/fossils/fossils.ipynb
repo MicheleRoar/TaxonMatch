{
 "cells": [
  {
   "cell_type": "markdown",
   "id": "345fc9d0-5b30-41fc-8c89-033da97514c4",
   "metadata": {},
   "source": [
    "## Discovering Closest Living Relatives with sequenced genomes of Extinct Species in PaleoDB"
   ]
  },
  {
   "cell_type": "markdown",
   "id": "6e01ed29-be09-46f4-907e-9840b0475054",
   "metadata": {},
   "source": [
    "![title](https://imagedelivery.net/wKQ19LTSBT0ARz08tkssqQ/www.courthousenews.com/2020/11/Kylinxia_zhangi.jpg/w=1880)"
   ]
  },
  {
   "cell_type": "markdown",
   "id": "8bac95d0-cd86-4f93-bdc5-b41d4647d139",
   "metadata": {},
   "source": [
    "This notebook is about identifying the closest living relatives of extinct species cataloged in the PaleoDB using genomic data from the Arthropoda Assembly Assessment Catalogue (A3Cat). A3Cat provides a comprehensive overview of genomic data for Arthropoda, facilitating detailed analyses of taxonomic coverage and genome assembly quality. \n",
    "\n",
    "By linking extinct species with their extant counterparts, we aim to trace genetic continuities and divergence points, enhancing our understanding of evolutionary trends and ecological adaptations. Using the integrated function in TaxonMatch, we processed taxonomic data from both datasets to identify the closest living relatives of extinct species. "
   ]
  },
  {
   "cell_type": "markdown",
   "id": "692ea14c-3ce9-4c60-a10b-6ffd215ac22f",
   "metadata": {},
   "source": [
    "## 1. Importing libraries"
   ]
  },
  {
   "cell_type": "code",
   "execution_count": 1,
   "id": "a3503595-f408-4164-822e-45f2d7bad5de",
   "metadata": {},
   "outputs": [],
   "source": [
    "import taxonmatch as txm"
   ]
  },
  {
   "cell_type": "code",
   "execution_count": 2,
   "id": "6b829554-f189-402d-a483-a81d65d4c68d",
   "metadata": {},
   "outputs": [],
   "source": [
    "import pandas as pd\n",
    "pd.set_option('display.max_colwidth', None)"
   ]
  },
  {
   "cell_type": "markdown",
   "id": "8825dbb5-129f-47a0-b410-c17e5e8c3356",
   "metadata": {},
   "source": [
    "## 2. Download the Paleobiology and the a3cat dataset"
   ]
  },
  {
   "cell_type": "code",
   "execution_count": 3,
   "id": "e3a40006-103b-4eef-8f17-0e403fd9f1bd",
   "metadata": {},
   "outputs": [
    {
     "name": "stdout",
     "output_type": "stream",
     "text": [
      "GBIF backbone taxonomy data already downloaded.\n",
      "Processing samples...\n",
      "Done.\n"
     ]
    }
   ],
   "source": [
    "paleodb_dataset = txm.download_gbif_taxonomy(source=\"c33ce2f2-c3cc-43a5-a380-fe4526d63650\")"
   ]
  },
  {
   "cell_type": "code",
   "execution_count": 4,
   "id": "c86e8e4e-bb8a-416c-95fe-12cc4786a81d",
   "metadata": {},
   "outputs": [
    {
     "name": "stdout",
     "output_type": "stream",
     "text": [
      "NCBI taxonomy data already downloaded.\n",
      "Processing samples...\n",
      "Done.\n",
      "a3cat v.2024-08-01 downloaded\n"
     ]
    }
   ],
   "source": [
    "a3cat = txm.download_ncbi_taxonomy(source = \"a3cat\")"
   ]
  },
  {
   "cell_type": "code",
   "execution_count": null,
   "id": "232dc575-187f-4b4a-8679-502d54fa7f30",
   "metadata": {},
   "outputs": [],
   "source": []
  },
  {
   "cell_type": "markdown",
   "id": "d19c9c2f-5f6a-4754-9df0-dae469619db7",
   "metadata": {},
   "source": [
    "## 3. Fininding closest living relatives for single extinct species"
   ]
  },
  {
   "cell_type": "markdown",
   "id": "354ee011-12de-4a2c-b5d2-eaebc6a243d0",
   "metadata": {},
   "source": [
    "In this section, we focus on identifying the closest living relatives for a specific extinct species using taxonomic data. By querying the dataset with detailed taxonomic information for an extinct species, such as Formica seuberti, we can find its closest extant counterparts. This process involves leveraging the TaxonMatch function, which integrates taxonomic data from both the PaleoDB and A3Cat databases to identify genetic similarities. "
   ]
  },
  {
   "cell_type": "code",
   "execution_count": 5,
   "id": "cbf14500-7c3c-45de-9cf9-efd3d39f01ac",
   "metadata": {},
   "outputs": [],
   "source": [
    "query = \"Arthropoda;Insecta;Hymenoptera;Formicidae;Formica;Formica seuberti\""
   ]
  },
  {
   "cell_type": "code",
   "execution_count": 6,
   "id": "9a11087e-d7aa-447c-a4ec-ff0dae557039",
   "metadata": {},
   "outputs": [
    {
     "data": {
      "text/html": [
       "<div>\n",
       "<style scoped>\n",
       "    .dataframe tbody tr th:only-of-type {\n",
       "        vertical-align: middle;\n",
       "    }\n",
       "\n",
       "    .dataframe tbody tr th {\n",
       "        vertical-align: top;\n",
       "    }\n",
       "\n",
       "    .dataframe thead th {\n",
       "        text-align: right;\n",
       "    }\n",
       "</style>\n",
       "<table border=\"1\" class=\"dataframe\">\n",
       "  <thead>\n",
       "    <tr style=\"text-align: right;\">\n",
       "      <th></th>\n",
       "      <th>Query</th>\n",
       "      <th>ncbi_id</th>\n",
       "      <th>Matched Target</th>\n",
       "      <th>Distance</th>\n",
       "    </tr>\n",
       "  </thead>\n",
       "  <tbody>\n",
       "    <tr>\n",
       "      <th>0</th>\n",
       "      <td>Arthropoda;Insecta;Hymenoptera;Formicidae;Formica;Formica seuberti</td>\n",
       "      <td>72781</td>\n",
       "      <td>Formica exsecta</td>\n",
       "      <td>0.56</td>\n",
       "    </tr>\n",
       "    <tr>\n",
       "      <th>1</th>\n",
       "      <td>Arthropoda;Insecta;Hymenoptera;Formicidae;Formica;Formica seuberti</td>\n",
       "      <td>208979</td>\n",
       "      <td>Formica selysi</td>\n",
       "      <td>0.56</td>\n",
       "    </tr>\n",
       "    <tr>\n",
       "      <th>2</th>\n",
       "      <td>Arthropoda;Insecta;Hymenoptera;Formicidae;Formica;Formica seuberti</td>\n",
       "      <td>2796348</td>\n",
       "      <td>Formica aquilonia x Formica polyctena</td>\n",
       "      <td>0.59</td>\n",
       "    </tr>\n",
       "    <tr>\n",
       "      <th>3</th>\n",
       "      <td>Arthropoda;Insecta;Hymenoptera;Formicidae;Formica;Formica seuberti</td>\n",
       "      <td>1830378</td>\n",
       "      <td>Formica aserva</td>\n",
       "      <td>0.64</td>\n",
       "    </tr>\n",
       "  </tbody>\n",
       "</table>\n",
       "</div>"
      ],
      "text/plain": [
       "                                                                Query  \\\n",
       "0  Arthropoda;Insecta;Hymenoptera;Formicidae;Formica;Formica seuberti   \n",
       "1  Arthropoda;Insecta;Hymenoptera;Formicidae;Formica;Formica seuberti   \n",
       "2  Arthropoda;Insecta;Hymenoptera;Formicidae;Formica;Formica seuberti   \n",
       "3  Arthropoda;Insecta;Hymenoptera;Formicidae;Formica;Formica seuberti   \n",
       "\n",
       "   ncbi_id                         Matched Target  Distance  \n",
       "0    72781                        Formica exsecta      0.56  \n",
       "1   208979                         Formica selysi      0.56  \n",
       "2  2796348  Formica aquilonia x Formica polyctena      0.59  \n",
       "3  1830378                         Formica aserva      0.64  "
      ]
     },
     "execution_count": 6,
     "metadata": {},
     "output_type": "execute_result"
    }
   ],
   "source": [
    "txm.find_top_n_similar(query, a3cat, n_neighbors=4)"
   ]
  },
  {
   "cell_type": "code",
   "execution_count": 7,
   "id": "00bea804-2d45-472b-9184-b68acb4704da",
   "metadata": {},
   "outputs": [],
   "source": [
    "query_2 = \"Arthropoda;Insecta;Lepidoptera;Zygaenidae;Zygaenites;Zygaenites controversus\""
   ]
  },
  {
   "cell_type": "code",
   "execution_count": 8,
   "id": "e88a2f29-5b40-4ad2-807f-3bc579138df4",
   "metadata": {},
   "outputs": [
    {
     "data": {
      "text/html": [
       "<div>\n",
       "<style scoped>\n",
       "    .dataframe tbody tr th:only-of-type {\n",
       "        vertical-align: middle;\n",
       "    }\n",
       "\n",
       "    .dataframe tbody tr th {\n",
       "        vertical-align: top;\n",
       "    }\n",
       "\n",
       "    .dataframe thead th {\n",
       "        text-align: right;\n",
       "    }\n",
       "</style>\n",
       "<table border=\"1\" class=\"dataframe\">\n",
       "  <thead>\n",
       "    <tr style=\"text-align: right;\">\n",
       "      <th></th>\n",
       "      <th>Query</th>\n",
       "      <th>ncbi_id</th>\n",
       "      <th>Matched Target</th>\n",
       "      <th>Distance</th>\n",
       "    </tr>\n",
       "  </thead>\n",
       "  <tbody>\n",
       "    <tr>\n",
       "      <th>0</th>\n",
       "      <td>Arthropoda;Insecta;Lepidoptera;Zygaenidae;Zygaenites;Zygaenites controversus</td>\n",
       "      <td>287375</td>\n",
       "      <td>Zygaena filipendulae</td>\n",
       "      <td>0.70</td>\n",
       "    </tr>\n",
       "    <tr>\n",
       "      <th>1</th>\n",
       "      <td>Arthropoda;Insecta;Lepidoptera;Zygaenidae;Zygaenites;Zygaenites controversus</td>\n",
       "      <td>124411</td>\n",
       "      <td>Limenitis arthemis</td>\n",
       "      <td>0.87</td>\n",
       "    </tr>\n",
       "    <tr>\n",
       "      <th>2</th>\n",
       "      <td>Arthropoda;Insecta;Lepidoptera;Zygaenidae;Zygaenites;Zygaenites controversus</td>\n",
       "      <td>327109</td>\n",
       "      <td>Uloborus diversus</td>\n",
       "      <td>0.90</td>\n",
       "    </tr>\n",
       "  </tbody>\n",
       "</table>\n",
       "</div>"
      ],
      "text/plain": [
       "                                                                          Query  \\\n",
       "0  Arthropoda;Insecta;Lepidoptera;Zygaenidae;Zygaenites;Zygaenites controversus   \n",
       "1  Arthropoda;Insecta;Lepidoptera;Zygaenidae;Zygaenites;Zygaenites controversus   \n",
       "2  Arthropoda;Insecta;Lepidoptera;Zygaenidae;Zygaenites;Zygaenites controversus   \n",
       "\n",
       "  ncbi_id        Matched Target  Distance  \n",
       "0  287375  Zygaena filipendulae      0.70  \n",
       "1  124411    Limenitis arthemis      0.87  \n",
       "2  327109     Uloborus diversus      0.90  "
      ]
     },
     "execution_count": 8,
     "metadata": {},
     "output_type": "execute_result"
    }
   ],
   "source": [
    "txm.find_top_n_similar(query_2, a3cat, 3)"
   ]
  },
  {
   "cell_type": "code",
   "execution_count": 9,
   "id": "f9d8bfe9-ac1a-40e2-bc22-ae10516f5e64",
   "metadata": {},
   "outputs": [],
   "source": [
    "query_3 = 'Arthropoda;Malacostraca;Decapoda;Portunidae;Portunus;Portunus yaucoensis'"
   ]
  },
  {
   "cell_type": "code",
   "execution_count": 10,
   "id": "2872e106-5da7-4039-ad3e-561db37e5441",
   "metadata": {},
   "outputs": [
    {
     "data": {
      "text/html": [
       "<div>\n",
       "<style scoped>\n",
       "    .dataframe tbody tr th:only-of-type {\n",
       "        vertical-align: middle;\n",
       "    }\n",
       "\n",
       "    .dataframe tbody tr th {\n",
       "        vertical-align: top;\n",
       "    }\n",
       "\n",
       "    .dataframe thead th {\n",
       "        text-align: right;\n",
       "    }\n",
       "</style>\n",
       "<table border=\"1\" class=\"dataframe\">\n",
       "  <thead>\n",
       "    <tr style=\"text-align: right;\">\n",
       "      <th></th>\n",
       "      <th>Query</th>\n",
       "      <th>ncbi_id</th>\n",
       "      <th>Matched Target</th>\n",
       "      <th>Distance</th>\n",
       "    </tr>\n",
       "  </thead>\n",
       "  <tbody>\n",
       "    <tr>\n",
       "      <th>0</th>\n",
       "      <td>Arthropoda;Malacostraca;Decapoda;Portunidae;Portunus;Portunus yaucoensis</td>\n",
       "      <td>80836</td>\n",
       "      <td>Portunus pelagicus</td>\n",
       "      <td>0.53</td>\n",
       "    </tr>\n",
       "    <tr>\n",
       "      <th>1</th>\n",
       "      <td>Arthropoda;Malacostraca;Decapoda;Portunidae;Portunus;Portunus yaucoensis</td>\n",
       "      <td>210409</td>\n",
       "      <td>Portunus trituberculatus</td>\n",
       "      <td>0.59</td>\n",
       "    </tr>\n",
       "    <tr>\n",
       "      <th>2</th>\n",
       "      <td>Arthropoda;Malacostraca;Decapoda;Portunidae;Portunus;Portunus yaucoensis</td>\n",
       "      <td>7098</td>\n",
       "      <td>Malacosoma neustria</td>\n",
       "      <td>0.86</td>\n",
       "    </tr>\n",
       "  </tbody>\n",
       "</table>\n",
       "</div>"
      ],
      "text/plain": [
       "                                                                      Query  \\\n",
       "0  Arthropoda;Malacostraca;Decapoda;Portunidae;Portunus;Portunus yaucoensis   \n",
       "1  Arthropoda;Malacostraca;Decapoda;Portunidae;Portunus;Portunus yaucoensis   \n",
       "2  Arthropoda;Malacostraca;Decapoda;Portunidae;Portunus;Portunus yaucoensis   \n",
       "\n",
       "  ncbi_id            Matched Target  Distance  \n",
       "0   80836        Portunus pelagicus      0.53  \n",
       "1  210409  Portunus trituberculatus      0.59  \n",
       "2    7098       Malacosoma neustria      0.86  "
      ]
     },
     "execution_count": 10,
     "metadata": {},
     "output_type": "execute_result"
    }
   ],
   "source": [
    "txm.find_top_n_similar(query_3, a3cat, 3)"
   ]
  },
  {
   "cell_type": "markdown",
   "id": "492c50e2-f586-4f7c-bcef-8c5e71332b66",
   "metadata": {},
   "source": [
    "## 4. Fininding closest living relatives for all extinct species"
   ]
  },
  {
   "cell_type": "markdown",
   "id": "90adc55f-d292-45e3-81ca-5b154f47496c",
   "metadata": {},
   "source": [
    "This final section of the analysis involves a comprehensive search to find the closest living relatives for all extinct species in the dataset. By applying the TaxonMatch function to the entire dataset, we can generate a complete mapping of extinct species to their extant counterparts. This mapping process involves analyzing large volumes of genomic and taxonomic data to identify the nearest genetic matches between extinct and living species. "
   ]
  },
  {
   "cell_type": "code",
   "execution_count": 11,
   "id": "abd4462f-c854-4930-96d8-363791ee175c",
   "metadata": {
    "scrolled": true
   },
   "outputs": [
    {
     "data": {
      "text/html": [
       "<div>\n",
       "<style scoped>\n",
       "    .dataframe tbody tr th:only-of-type {\n",
       "        vertical-align: middle;\n",
       "    }\n",
       "\n",
       "    .dataframe tbody tr th {\n",
       "        vertical-align: top;\n",
       "    }\n",
       "\n",
       "    .dataframe thead th {\n",
       "        text-align: right;\n",
       "    }\n",
       "</style>\n",
       "<table border=\"1\" class=\"dataframe\">\n",
       "  <thead>\n",
       "    <tr style=\"text-align: right;\">\n",
       "      <th></th>\n",
       "      <th>Query</th>\n",
       "      <th>Matched_id</th>\n",
       "      <th>Matched Target</th>\n",
       "      <th>Distance</th>\n",
       "    </tr>\n",
       "  </thead>\n",
       "  <tbody>\n",
       "    <tr>\n",
       "      <th>0</th>\n",
       "      <td>bacca</td>\n",
       "      <td>226178</td>\n",
       "      <td>Baccha elongata</td>\n",
       "      <td>0.68</td>\n",
       "    </tr>\n",
       "    <tr>\n",
       "      <th>1</th>\n",
       "      <td>celtitis</td>\n",
       "      <td>56958</td>\n",
       "      <td>Ceratitis rosa</td>\n",
       "      <td>0.66</td>\n",
       "    </tr>\n",
       "    <tr>\n",
       "      <th>2</th>\n",
       "      <td>aroides</td>\n",
       "      <td>95590</td>\n",
       "      <td>Troides helena</td>\n",
       "      <td>0.62</td>\n",
       "    </tr>\n",
       "    <tr>\n",
       "      <th>3</th>\n",
       "      <td>halleia</td>\n",
       "      <td>2795559</td>\n",
       "      <td>Helleia helle</td>\n",
       "      <td>0.67</td>\n",
       "    </tr>\n",
       "    <tr>\n",
       "      <th>4</th>\n",
       "      <td>amyelon</td>\n",
       "      <td>680683</td>\n",
       "      <td>Amyelois transitella</td>\n",
       "      <td>0.57</td>\n",
       "    </tr>\n",
       "    <tr>\n",
       "      <th>...</th>\n",
       "      <td>...</td>\n",
       "      <td>...</td>\n",
       "      <td>...</td>\n",
       "      <td>...</td>\n",
       "    </tr>\n",
       "    <tr>\n",
       "      <th>1433</th>\n",
       "      <td>echinodermata;crinoidea;dendrocrinidae;dendrocrinus;dendrocrinus tener</td>\n",
       "      <td>77173</td>\n",
       "      <td>Dendroctonus valens</td>\n",
       "      <td>0.67</td>\n",
       "    </tr>\n",
       "    <tr>\n",
       "      <th>1434</th>\n",
       "      <td>echinodermata;crinoidea;dendrocrinidae;dendrocrinus;dendrocrinus minutus</td>\n",
       "      <td>77173</td>\n",
       "      <td>Dendroctonus valens</td>\n",
       "      <td>0.67</td>\n",
       "    </tr>\n",
       "    <tr>\n",
       "      <th>1435</th>\n",
       "      <td>echinodermata;crinoidea;dendrocrinidae;dendrocrinus;dendrocrinus longidactylus</td>\n",
       "      <td>77173</td>\n",
       "      <td>Dendroctonus valens</td>\n",
       "      <td>0.68</td>\n",
       "    </tr>\n",
       "    <tr>\n",
       "      <th>1436</th>\n",
       "      <td>echinodermata;crinoidea;dendrocrinidae;dendrocrinus;dendrocrinus leptos</td>\n",
       "      <td>77173</td>\n",
       "      <td>Dendroctonus valens</td>\n",
       "      <td>0.67</td>\n",
       "    </tr>\n",
       "    <tr>\n",
       "      <th>1437</th>\n",
       "      <td>arthropoda;insecta;diptera;xylophagidae;xylophagus;xylophagus pallidus</td>\n",
       "      <td>1689122</td>\n",
       "      <td>Xylophagus ater</td>\n",
       "      <td>0.42</td>\n",
       "    </tr>\n",
       "  </tbody>\n",
       "</table>\n",
       "<p>1438 rows × 4 columns</p>\n",
       "</div>"
      ],
      "text/plain": [
       "                                                                               Query  \\\n",
       "0                                                                              bacca   \n",
       "1                                                                           celtitis   \n",
       "2                                                                            aroides   \n",
       "3                                                                            halleia   \n",
       "4                                                                            amyelon   \n",
       "...                                                                              ...   \n",
       "1433          echinodermata;crinoidea;dendrocrinidae;dendrocrinus;dendrocrinus tener   \n",
       "1434        echinodermata;crinoidea;dendrocrinidae;dendrocrinus;dendrocrinus minutus   \n",
       "1435  echinodermata;crinoidea;dendrocrinidae;dendrocrinus;dendrocrinus longidactylus   \n",
       "1436         echinodermata;crinoidea;dendrocrinidae;dendrocrinus;dendrocrinus leptos   \n",
       "1437          arthropoda;insecta;diptera;xylophagidae;xylophagus;xylophagus pallidus   \n",
       "\n",
       "     Matched_id        Matched Target  Distance  \n",
       "0        226178       Baccha elongata      0.68  \n",
       "1         56958        Ceratitis rosa      0.66  \n",
       "2         95590        Troides helena      0.62  \n",
       "3       2795559         Helleia helle      0.67  \n",
       "4        680683  Amyelois transitella      0.57  \n",
       "...         ...                   ...       ...  \n",
       "1433      77173   Dendroctonus valens      0.67  \n",
       "1434      77173   Dendroctonus valens      0.67  \n",
       "1435      77173   Dendroctonus valens      0.68  \n",
       "1436      77173   Dendroctonus valens      0.67  \n",
       "1437    1689122       Xylophagus ater      0.42  \n",
       "\n",
       "[1438 rows x 4 columns]"
      ]
     },
     "execution_count": 11,
     "metadata": {},
     "output_type": "execute_result"
    }
   ],
   "source": [
    "txm.find_closest_sample(a3cat, paleodb_dataset[0])"
   ]
  },
  {
   "cell_type": "code",
   "execution_count": null,
   "id": "b188cdc9-a6d9-43e1-a393-ab580c9d4e7e",
   "metadata": {},
   "outputs": [],
   "source": []
  }
 ],
 "metadata": {
  "kernelspec": {
   "display_name": "Python 3 (ipykernel)",
   "language": "python",
   "name": "python3"
  },
  "language_info": {
   "codemirror_mode": {
    "name": "ipython",
    "version": 3
   },
   "file_extension": ".py",
   "mimetype": "text/x-python",
   "name": "python",
   "nbconvert_exporter": "python",
   "pygments_lexer": "ipython3",
   "version": "3.12.4"
  }
 },
 "nbformat": 4,
 "nbformat_minor": 5
}
