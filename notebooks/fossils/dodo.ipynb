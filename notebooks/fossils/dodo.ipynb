{
 "cells": [
  {
   "cell_type": "markdown",
   "id": "345fc9d0-5b30-41fc-8c89-033da97514c4",
   "metadata": {},
   "source": [
    "# Discovering Closest Living Relatives with sequenced genomes of Extinct Species in The Paleobiology Database"
   ]
  },
  {
   "attachments": {},
   "cell_type": "markdown",
   "id": "6e01ed29-be09-46f4-907e-9840b0475054",
   "metadata": {},
   "source": [
    "![title](https://staticgeopop.akamaized.net/wp-content/uploads/sites/32/2023/04/THUMB-VIDEO-DODO-CLEAN.jpg?)"
   ]
  },
  {
   "cell_type": "markdown",
   "id": "8bac95d0-cd86-4f93-bdc5-b41d4647d139",
   "metadata": {},
   "source": [
    "This notebook focuses on identifying the closest living relatives of the extinct Dodo (Raphus cucullatus) using available genomic data from NCBI and fossil records from The Paleobiology Database. By integrating taxonomic and genetic information, we aim to establish phylogenetic relationships between the Dodo and its extant relatives, tracing evolutionary continuities and divergence points.\n",
    "\n",
    "Using the integrated function in TaxonMatch, we processed taxonomic data from both NCBI and The Paleobiology Database to identify species that share the highest genetic similarity with the Dodo. This approach enhances our understanding of its evolutionary placement and provides insights into the genetic traits preserved in its closest living relatives"
   ]
  },
  {
   "cell_type": "markdown",
   "id": "692ea14c-3ce9-4c60-a10b-6ffd215ac22f",
   "metadata": {},
   "source": [
    "## 1. Importing libraries"
   ]
  },
  {
   "cell_type": "code",
   "execution_count": 1,
   "id": "a3503595-f408-4164-822e-45f2d7bad5de",
   "metadata": {},
   "outputs": [],
   "source": [
    "import taxonmatch as txm"
   ]
  },
  {
   "cell_type": "code",
   "execution_count": 2,
   "id": "6b829554-f189-402d-a483-a81d65d4c68d",
   "metadata": {},
   "outputs": [],
   "source": [
    "import pandas as pd\n",
    "pd.set_option('display.max_colwidth', None)"
   ]
  },
  {
   "cell_type": "markdown",
   "id": "8825dbb5-129f-47a0-b410-c17e5e8c3356",
   "metadata": {},
   "source": [
    "## 2. Download the Paleobiology and the NCBI dataset"
   ]
  },
  {
   "cell_type": "code",
   "execution_count": 3,
   "id": "54a07458-7d59-4e2c-abd4-01606a1a8a12",
   "metadata": {},
   "outputs": [
    {
     "name": "stdout",
     "output_type": "stream",
     "text": [
      "Title: Paleobiology Database, ID: bb5b30b4-827e-4d5e-a86a-825d65cb6583\n",
      "Title: The Paleobiology Database, ID: c33ce2f2-c3cc-43a5-a380-fe4526d63650\n",
      "Title: GBIF Backbone Taxonomy, ID: d7dddbf4-2cf0-4f39-9b2a-bb099caae36c\n",
      "Title: Catalogue of Life, ID: 7ddf754f-d193-4cc9-b351-99906754a03b\n"
     ]
    }
   ],
   "source": [
    "txm.find_dataset_ids_by_name(\"Paleobiology Database\")"
   ]
  },
  {
   "cell_type": "code",
   "execution_count": 4,
   "id": "b67820cf-0d73-4405-8d0a-630ee3779222",
   "metadata": {},
   "outputs": [
    {
     "name": "stdout",
     "output_type": "stream",
     "text": [
      "GBIF backbone taxonomy data already downloaded.\n",
      "Processing samples...\n",
      "Done.\n"
     ]
    }
   ],
   "source": [
    "paleobiology_dataset = txm.download_gbif_taxonomy(source=\"c33ce2f2-c3cc-43a5-a380-fe4526d63650\")"
   ]
  },
  {
   "cell_type": "code",
   "execution_count": 5,
   "id": "232dc575-187f-4b4a-8679-502d54fa7f30",
   "metadata": {},
   "outputs": [
    {
     "name": "stdout",
     "output_type": "stream",
     "text": [
      "NCBI taxonomy data already downloaded.\n",
      "Processing samples...\n",
      "Done.\n"
     ]
    }
   ],
   "source": [
    "ncbi_dataset = txm.download_ncbi_taxonomy()"
   ]
  },
  {
   "cell_type": "markdown",
   "id": "d19c9c2f-5f6a-4754-9df0-dae469619db7",
   "metadata": {},
   "source": [
    "## 3. Finding closest living relatives for single extinct species"
   ]
  },
  {
   "cell_type": "markdown",
   "id": "354ee011-12de-4a2c-b5d2-eaebc6a243d0",
   "metadata": {},
   "source": [
    "This section reconstructs the Dodo’s phylogenetic relationships by integrating taxonomic data from The Paleobiology Database, GBIF, and NCBI. The process begins by extracting \"Raphus cucullatus\" data from The Paleobiology Database and retrieving Columbidae taxonomy from GBIF and NCBI. An XGBoost model is then used to reconcile taxonomic entries, identifying matches and inconsistencies across datasets. The matched taxonomy is used to generate a phylogenetic tree, which is finally visualized to highlight the Dodo’s closest living relatives and its evolutionary placement."
   ]
  },
  {
   "cell_type": "code",
   "execution_count": 6,
   "id": "f62f3964-b24b-40e1-a940-a3fe8659c4f1",
   "metadata": {},
   "outputs": [
    {
     "data": {
      "text/html": [
       "<div>\n",
       "<style scoped>\n",
       "    .dataframe tbody tr th:only-of-type {\n",
       "        vertical-align: middle;\n",
       "    }\n",
       "\n",
       "    .dataframe tbody tr th {\n",
       "        vertical-align: top;\n",
       "    }\n",
       "\n",
       "    .dataframe thead th {\n",
       "        text-align: right;\n",
       "    }\n",
       "</style>\n",
       "<table border=\"1\" class=\"dataframe\">\n",
       "  <thead>\n",
       "    <tr style=\"text-align: right;\">\n",
       "      <th></th>\n",
       "      <th>taxonID</th>\n",
       "      <th>datasetID</th>\n",
       "      <th>parentNameUsageID</th>\n",
       "      <th>acceptedNameUsageID</th>\n",
       "      <th>canonicalName</th>\n",
       "      <th>taxonRank</th>\n",
       "      <th>taxonomicStatus</th>\n",
       "      <th>kingdom</th>\n",
       "      <th>phylum</th>\n",
       "      <th>class</th>\n",
       "      <th>order</th>\n",
       "      <th>family</th>\n",
       "      <th>genus</th>\n",
       "      <th>gbif_taxonomy</th>\n",
       "      <th>gbif_taxonomy_ids</th>\n",
       "    </tr>\n",
       "  </thead>\n",
       "  <tbody>\n",
       "    <tr>\n",
       "      <th>106343</th>\n",
       "      <td>2496198</td>\n",
       "      <td>7ddf754f-d193-4cc9-b351-99906754a03b</td>\n",
       "      <td>2496196</td>\n",
       "      <td>NaN</td>\n",
       "      <td>Raphus cucullatus</td>\n",
       "      <td>species</td>\n",
       "      <td>accepted</td>\n",
       "      <td>Animalia</td>\n",
       "      <td>Chordata</td>\n",
       "      <td>Aves</td>\n",
       "      <td>Columbiformes</td>\n",
       "      <td>Columbidae</td>\n",
       "      <td>Raphus</td>\n",
       "      <td>chordata;aves;columbiformes;columbidae;raphus;raphus cucullatus</td>\n",
       "      <td>44;212;1446;5233;2496196;2496198</td>\n",
       "    </tr>\n",
       "  </tbody>\n",
       "</table>\n",
       "</div>"
      ],
      "text/plain": [
       "        taxonID                             datasetID  parentNameUsageID  \\\n",
       "106343  2496198  7ddf754f-d193-4cc9-b351-99906754a03b            2496196   \n",
       "\n",
       "       acceptedNameUsageID      canonicalName taxonRank taxonomicStatus  \\\n",
       "106343                 NaN  Raphus cucullatus   species        accepted   \n",
       "\n",
       "         kingdom    phylum class          order      family   genus  \\\n",
       "106343  Animalia  Chordata  Aves  Columbiformes  Columbidae  Raphus   \n",
       "\n",
       "                                                          gbif_taxonomy  \\\n",
       "106343  chordata;aves;columbiformes;columbidae;raphus;raphus cucullatus   \n",
       "\n",
       "                       gbif_taxonomy_ids  \n",
       "106343  44;212;1446;5233;2496196;2496198  "
      ]
     },
     "execution_count": 6,
     "metadata": {},
     "output_type": "execute_result"
    }
   ],
   "source": [
    "txm.find_species_information(\"Raphus cucullatus\", paleobiology_dataset)"
   ]
  },
  {
   "cell_type": "code",
   "execution_count": 7,
   "id": "40b68c4d-a487-4a87-aac5-850fa3696c09",
   "metadata": {},
   "outputs": [],
   "source": [
    "paleo_columbidae, ncbi_columbidae = txm.select_taxonomic_clade(\"Columbidae\", paleobiology_dataset, ncbi_dataset)"
   ]
  },
  {
   "cell_type": "code",
   "execution_count": 8,
   "id": "a15a1eca-4ae6-4ac9-9841-b113807706e1",
   "metadata": {},
   "outputs": [],
   "source": [
    "model = txm.load_xgb_model()"
   ]
  },
  {
   "cell_type": "code",
   "execution_count": 9,
   "id": "4e5b5f19-0868-4fc0-b68a-396962a3ae62",
   "metadata": {},
   "outputs": [],
   "source": [
    "matched_df, unmatched_df, typos = txm.match_dataset(paleo_columbidae, ncbi_columbidae, model, tree_generation = True)"
   ]
  },
  {
   "cell_type": "code",
   "execution_count": 10,
   "id": "95e64e09-8002-49c3-b8b9-42fcdfb174f6",
   "metadata": {},
   "outputs": [],
   "source": [
    "tree = txm.generate_taxonomic_tree(matched_df, unmatched_df)"
   ]
  },
  {
   "cell_type": "code",
   "execution_count": 11,
   "id": "220ec7a6-ca08-4b9b-a6d7-f9f0ec76478e",
   "metadata": {},
   "outputs": [
    {
     "name": "stdout",
     "output_type": "stream",
     "text": [
      "\n",
      "└── columbidae (NCBI ID: 8930, GBIF ID: 5233)\n",
      "    ├── geotrygon (NCBI ID: 115649, GBIF ID: 2496103)\n",
      "    │   ├── geotrygon chrysia (NCBI ID: 1471290, GBIF ID: 2496120)\n",
      "    │   └── geotrygon montana (NCBI ID: 115651, GBIF ID: 2496121)\n",
      "    ├── gallicolumba (NCBI ID: 187119, GBIF ID: 2495214)\n",
      "    │   ├── gallicolumba keayi (NCBI ID: 977961)\n",
      "    │   └── gallicolumba leonpascoi (GBIF ID: 11221070)\n",
      "    ├── alectroenas (NCBI ID: 187103, GBIF ID: 2495383)\n",
      "    ├── pampusana (NCBI ID: 2953413)\n",
      "    │   ├── pampusana beccarii (NCBI ID: 2953425, GBIF ID: 10674903)\n",
      "    │   ├── pampusana jobiensis (NCBI ID: 2953430, GBIF ID: 10747886)\n",
      "    │   ├── pampusana canifrons (NCBI ID: 2953426, GBIF ID: 10773621)\n",
      "    │   └── pampusana xanthonura (NCBI ID: 2953437, GBIF ID: 10783350)\n",
      "    ├── nesoenas (NCBI ID: 187125, GBIF ID: 7758956)\n",
      "    │   ├── nesoenas mayeri (NCBI ID: 187126, GBIF ID: 5788471)\n",
      "    │   ├── nesoenas picturatus (NCBI ID: 2953424, GBIF ID: 5788470)\n",
      "    │   └── nesoenas rodericanus (GBIF ID: 7708406)\n",
      "    ├── columbina (NCBI ID: 111973, GBIF ID: 2495852)\n",
      "    │   ├── columbina passerina (NCBI ID: 111974, GBIF ID: 2495869)\n",
      "    │   ├── columbina picui (NCBI ID: 115618)\n",
      "    │   └── columbina prattae (GBIF ID: 8575052)\n",
      "    ├── zenaida (NCBI ID: 47244)\n",
      "    │   └── zenaida macroura (NCBI ID: 47245, GBIF ID: 2495347)\n",
      "    ├── columba (NCBI ID: 8931, GBIF ID: 2495404)\n",
      "    │   ├── unclassified columba (NCBI ID: 2643597)\n",
      "    │   │   ├── columba sp. wl-2007 (NCBI ID: 489119)\n",
      "    │   │   ├── columba sp. ara-2012 (NCBI ID: 1242994)\n",
      "    │   │   └── columba sp. (NCBI ID: 8933)\n",
      "    │   ├── columba oenas (NCBI ID: 160229)\n",
      "    │   ├── columba omnisanctorum (GBIF ID: 8452358)\n",
      "    │   ├── columba micula (GBIF ID: 11177713)\n",
      "    │   └── columba melitensis (GBIF ID: 11129166)\n",
      "    ├── leucosarcia (NCBI ID: 115672, GBIF ID: 2495909)\n",
      "    │   ├── leucosarcia melanoleuca (NCBI ID: 115673)\n",
      "    │   └── leucosarcia proevisa (GBIF ID: 8623299)\n",
      "    ├── didunculus (NCBI ID: 187110, GBIF ID: 3242876)\n",
      "    │   ├── didunculus strigirostris (NCBI ID: 187111)\n",
      "    │   └── didunculus placopedetes (GBIF ID: 11126235)\n",
      "    ├── ducula (NCBI ID: 115625, GBIF ID: 2495933)\n",
      "    │   ├── ducula aenea (NCBI ID: 187114)\n",
      "    │   ├── ducula badia (NCBI ID: 1463953)\n",
      "    │   ├── ducula latrans (NCBI ID: 1965263)\n",
      "    │   ├── ducula lakeba (GBIF ID: 11113972)\n",
      "    │   ├── ducula harrisoni (GBIF ID: 11140833)\n",
      "    │   └── ducula david (GBIF ID: 11166022)\n",
      "    ├── uropelia (NCBI ID: 444152)\n",
      "    │   └── uropelia campestris (NCBI ID: 444153)\n",
      "    ├── geophaps (NCBI ID: 137253)\n",
      "    │   ├── geophaps scripta (NCBI ID: 471129)\n",
      "    │   └── geophaps smithii (NCBI ID: 471130)\n",
      "    ├── ptilinopus (NCBI ID: 115696)\n",
      "    │   └── ptilinopus coronulatus (NCBI ID: 1390561)\n",
      "    ├── microgoura (NCBI ID: 2953412)\n",
      "    │   └── microgoura meeki (NCBI ID: 2953422)\n",
      "    ├── chloroenas (GBIF ID: 11118089)\n",
      "    │   └── chloroenas micula (GBIF ID: 9105075)\n",
      "    ├── lithophaps (GBIF ID: 4848636)\n",
      "    │   └── lithophaps ulnaris (GBIF ID: 11168924)\n",
      "    ├── microena (GBIF ID: 4851762)\n",
      "    │   └── microena goodwini (GBIF ID: 11178337)\n",
      "    ├── primophaps (GBIF ID: 9312554)\n",
      "    │   └── primophaps schoddei (GBIF ID: 11180546)\n",
      "    ├── natunaornis (GBIF ID: 4851763)\n",
      "    │   └── natunaornis gigoura (GBIF ID: 11137938)\n",
      "    ├── dysmoropelia (GBIF ID: 4851613)\n",
      "    │   └── dysmoropelia dekarchiskos (GBIF ID: 5788475)\n",
      "    └── raphus (GBIF ID: 2496196)\n",
      "        └── raphus cucullatus (GBIF ID: 2496198)\n"
     ]
    }
   ],
   "source": [
    "txm.print_tree(tree)"
   ]
  },
  {
   "cell_type": "code",
   "execution_count": 12,
   "id": "d33841d2-2d11-436c-85bf-216a8dccd0ff",
   "metadata": {},
   "outputs": [],
   "source": [
    "df_columbidae = txm.convert_tree_to_dataframe(tree, paleo_columbidae, ncbi_columbidae, \"columbidae_taxonomic_tree_df.txt\")"
   ]
  },
  {
   "cell_type": "code",
   "execution_count": 13,
   "id": "828c2e1b-883d-4d4d-87cb-ae12b36bda57",
   "metadata": {},
   "outputs": [],
   "source": [
    "ncbi_samples = df_columbidae[df_columbidae.ncbi_taxon_id.notna()]"
   ]
  },
  {
   "cell_type": "code",
   "execution_count": null,
   "id": "a6b691de-d568-48a7-bde1-d9496bf40e65",
   "metadata": {},
   "outputs": [],
   "source": []
  },
  {
   "cell_type": "code",
   "execution_count": null,
   "id": "d745f50f-4e1f-41d3-9262-93f6ed7f8301",
   "metadata": {},
   "outputs": [],
   "source": []
  }
 ],
 "metadata": {
  "kernelspec": {
   "display_name": "Python 3 (ipykernel)",
   "language": "python",
   "name": "python3"
  },
  "language_info": {
   "codemirror_mode": {
    "name": "ipython",
    "version": 3
   },
   "file_extension": ".py",
   "mimetype": "text/x-python",
   "name": "python",
   "nbconvert_exporter": "python",
   "pygments_lexer": "ipython3",
   "version": "3.12.4"
  }
 },
 "nbformat": 4,
 "nbformat_minor": 5
}
