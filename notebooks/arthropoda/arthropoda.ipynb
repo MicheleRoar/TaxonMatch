{
 "cells": [
  {
   "cell_type": "markdown",
   "id": "61e1c29a-55b5-4cd5-9811-72f84dee84a2",
   "metadata": {},
   "source": [
    "# Analyzing Arthropoda Taxonomy: Integrating GBIF, NCBI and iNaturalist Data"
   ]
  },
  {
   "attachments": {},
   "cell_type": "markdown",
   "id": "042224f1-32a1-45d7-8958-e0a51bcaa556",
   "metadata": {},
   "source": [
    "![title](https://wallpapercave.com/wp/wp1870417.jpg)"
   ]
  },
  {
   "cell_type": "markdown",
   "id": "c0faa846-70dd-4bb0-b51d-1a787438a3d7",
   "metadata": {},
   "source": [
    "This Python notebook is designed for the purpose of integrating taxonomic data from two major biological databases, GBIF (Global Biodiversity Information Facility) and NCBI (National Center for Biotechnology Information) and iNaturalist, to enhance the accuracy and comprehensiveness of ecological and biological research. GBIF primarily focuses on biodiversity data including species distribution and ecological information, whereas NCBI provides a broader range of data including genomic and taxonomic details. \n",
    "\n",
    "Combining these sources enables researchers to cross-validate species identifications and improve the richness of ecological datasets with genetic information. A key biological task performed in this notebook is the construction of a taxonomic tree, which helps in visualizing and understanding the evolutionary relationships and classification hierarchy among different species within a chosen taxon (in this case, the Arthropda pyhlum)."
   ]
  },
  {
   "cell_type": "markdown",
   "id": "37bb79a2",
   "metadata": {},
   "source": [
    "## 1. Importing libraries"
   ]
  },
  {
   "cell_type": "code",
   "execution_count": 1,
   "id": "0b648242",
   "metadata": {},
   "outputs": [],
   "source": [
    "import pandas as pd\n",
    "pd.set_option('display.max_colwidth', None)"
   ]
  },
  {
   "cell_type": "code",
   "execution_count": 2,
   "id": "2d48547a-bc68-4298-9181-0d8ebdc63262",
   "metadata": {},
   "outputs": [],
   "source": [
    "import taxonmatch as txm"
   ]
  },
  {
   "cell_type": "markdown",
   "id": "f3a25bee-fe59-42c3-97ed-e8e646bd3071",
   "metadata": {},
   "source": [
    "## 2. Downloading and processing samples"
   ]
  },
  {
   "cell_type": "markdown",
   "id": "498cecca-0073-43e9-b2a8-225cac66113d",
   "metadata": {},
   "source": [
    "The initial steps involve downloading the most recent taxonomic data from GBIF and NCBI to ensure the analysis is based on the latest available information. "
   ]
  },
  {
   "cell_type": "code",
   "execution_count": 3,
   "id": "96a78a02",
   "metadata": {},
   "outputs": [
    {
     "name": "stdout",
     "output_type": "stream",
     "text": [
      "GBIF backbone taxonomy data already downloaded.\n",
      "Processing samples...\n",
      "Done.\n"
     ]
    }
   ],
   "source": [
    "gbif_dataset = txm.download_gbif_taxonomy()"
   ]
  },
  {
   "cell_type": "code",
   "execution_count": 4,
   "id": "600be659",
   "metadata": {},
   "outputs": [
    {
     "name": "stdout",
     "output_type": "stream",
     "text": [
      "NCBI taxonomy data already downloaded.\n",
      "Processing samples...\n",
      "Done.\n"
     ]
    }
   ],
   "source": [
    "ncbi_dataset = txm.download_ncbi_taxonomy()"
   ]
  },
  {
   "cell_type": "markdown",
   "id": "ec55f447-cb40-4f54-9d56-ab52c1c091df",
   "metadata": {},
   "source": [
    "## 2.1 Checking Inconsistencies in nomenclature"
   ]
  },
  {
   "cell_type": "markdown",
   "id": "3d86fe9e-ecb7-4d6c-94af-3c26b80a2d02",
   "metadata": {},
   "source": [
    "Matching based on canonical names between the GBIF and NCBI datasets is unreliable due to significant taxonomic inconsistencies. In particular, the same canonical name may be assigned to multiple kingdoms, highlighting classification discrepancies. Even when the taxonomic status is accepted, the taxonomic structures in GBIF and NCBI can differ substantially. This necessitates filtering and evaluating differences before considering a match valid, preventing false correspondences between incongruent taxonomies."
   ]
  },
  {
   "cell_type": "code",
   "execution_count": 5,
   "id": "d6852031-d96d-479a-aca2-ba590ae5cced",
   "metadata": {},
   "outputs": [],
   "source": [
    "df_inconsistencies = txm.get_inconsistencies(gbif_dataset, ncbi_dataset)"
   ]
  },
  {
   "cell_type": "code",
   "execution_count": 6,
   "id": "483e1c20-93fd-4151-8510-a3fc5d23177c",
   "metadata": {},
   "outputs": [
    {
     "data": {
      "text/html": [
       "<div>\n",
       "<style scoped>\n",
       "    .dataframe tbody tr th:only-of-type {\n",
       "        vertical-align: middle;\n",
       "    }\n",
       "\n",
       "    .dataframe tbody tr th {\n",
       "        vertical-align: top;\n",
       "    }\n",
       "\n",
       "    .dataframe thead th {\n",
       "        text-align: right;\n",
       "    }\n",
       "</style>\n",
       "<table border=\"1\" class=\"dataframe\">\n",
       "  <thead>\n",
       "    <tr style=\"text-align: right;\">\n",
       "      <th></th>\n",
       "      <th>canonicalName</th>\n",
       "      <th>gbif_id</th>\n",
       "      <th>ncbi_id</th>\n",
       "      <th>gbif_rank</th>\n",
       "      <th>ncbi_rank</th>\n",
       "      <th>gbif_taxonomy</th>\n",
       "      <th>ncbi_taxonomy</th>\n",
       "    </tr>\n",
       "  </thead>\n",
       "  <tbody>\n",
       "    <tr>\n",
       "      <th>566695</th>\n",
       "      <td>Salix alba</td>\n",
       "      <td>7882712</td>\n",
       "      <td>75704</td>\n",
       "      <td>species</td>\n",
       "      <td>species</td>\n",
       "      <td>chordata;ascidiacea;aplousobranchia;polycitoridae;salix;salix alba</td>\n",
       "      <td>streptophyta;magnoliopsida;malpighiales;salicaceae;salix;salix alba</td>\n",
       "    </tr>\n",
       "    <tr>\n",
       "      <th>205618</th>\n",
       "      <td>Bosea psychrotolerans</td>\n",
       "      <td>11618487</td>\n",
       "      <td>1871628</td>\n",
       "      <td>species</td>\n",
       "      <td>species</td>\n",
       "      <td>tracheophyta;magnoliopsida;caryophyllales;amaranthaceae;bosea;bosea psychrotolerans</td>\n",
       "      <td>pseudomonadota;alphaproteobacteria;hyphomicrobiales;boseaceae;bosea;bosea psychrotolerans</td>\n",
       "    </tr>\n",
       "    <tr>\n",
       "      <th>589774</th>\n",
       "      <td>Diploderma polygonatum</td>\n",
       "      <td>10561030</td>\n",
       "      <td>70539</td>\n",
       "      <td>species</td>\n",
       "      <td>species</td>\n",
       "      <td>basidiomycota;agaricomycetes;boletales;diplocystidiaceae;diploderma;diploderma polygonatum</td>\n",
       "      <td>chordata;lepidosauria;squamata;agamidae;diploderma;diploderma polygonatum</td>\n",
       "    </tr>\n",
       "    <tr>\n",
       "      <th>126987</th>\n",
       "      <td>Cyrtostrombidium paralongisomum</td>\n",
       "      <td>11200089</td>\n",
       "      <td>1537145</td>\n",
       "      <td>species</td>\n",
       "      <td>species</td>\n",
       "      <td>cyrtostrombidium;cyrtostrombidium paralongisomum</td>\n",
       "      <td>ciliophora;spirotrichea;cyrtostrombidiidae;cyrtostrombidium;cyrtostrombidium paralongisomum</td>\n",
       "    </tr>\n",
       "    <tr>\n",
       "      <th>125063</th>\n",
       "      <td>Euplotes daidaleos</td>\n",
       "      <td>8284379</td>\n",
       "      <td>471435</td>\n",
       "      <td>species</td>\n",
       "      <td>species</td>\n",
       "      <td>euplotes;euplotes daidaleos</td>\n",
       "      <td>ciliophora;spirotrichea;euplotida;euplotidae;euplotes;euplotes daidaleos</td>\n",
       "    </tr>\n",
       "  </tbody>\n",
       "</table>\n",
       "</div>"
      ],
      "text/plain": [
       "                          canonicalName   gbif_id  ncbi_id gbif_rank  \\\n",
       "566695                       Salix alba   7882712    75704   species   \n",
       "205618            Bosea psychrotolerans  11618487  1871628   species   \n",
       "589774           Diploderma polygonatum  10561030    70539   species   \n",
       "126987  Cyrtostrombidium paralongisomum  11200089  1537145   species   \n",
       "125063               Euplotes daidaleos   8284379   471435   species   \n",
       "\n",
       "       ncbi_rank  \\\n",
       "566695   species   \n",
       "205618   species   \n",
       "589774   species   \n",
       "126987   species   \n",
       "125063   species   \n",
       "\n",
       "                                                                                     gbif_taxonomy  \\\n",
       "566695                          chordata;ascidiacea;aplousobranchia;polycitoridae;salix;salix alba   \n",
       "205618         tracheophyta;magnoliopsida;caryophyllales;amaranthaceae;bosea;bosea psychrotolerans   \n",
       "589774  basidiomycota;agaricomycetes;boletales;diplocystidiaceae;diploderma;diploderma polygonatum   \n",
       "126987                                            cyrtostrombidium;cyrtostrombidium paralongisomum   \n",
       "125063                                                                 euplotes;euplotes daidaleos   \n",
       "\n",
       "                                                                                      ncbi_taxonomy  \n",
       "566695                          streptophyta;magnoliopsida;malpighiales;salicaceae;salix;salix alba  \n",
       "205618    pseudomonadota;alphaproteobacteria;hyphomicrobiales;boseaceae;bosea;bosea psychrotolerans  \n",
       "589774                    chordata;lepidosauria;squamata;agamidae;diploderma;diploderma polygonatum  \n",
       "126987  ciliophora;spirotrichea;cyrtostrombidiidae;cyrtostrombidium;cyrtostrombidium paralongisomum  \n",
       "125063                     ciliophora;spirotrichea;euplotida;euplotidae;euplotes;euplotes daidaleos  "
      ]
     },
     "execution_count": 6,
     "metadata": {},
     "output_type": "execute_result"
    }
   ],
   "source": [
    "df_inconsistencies.sample(5)"
   ]
  },
  {
   "cell_type": "markdown",
   "id": "d791a166",
   "metadata": {},
   "source": [
    "## 3.a Training the classifier model"
   ]
  },
  {
   "cell_type": "markdown",
   "id": "96c04fd4-af7a-4009-a33d-9e0b3dae1661",
   "metadata": {},
   "source": [
    "If required, the notebook outlines steps to train a machine learning classifier to distinguish between correct and incorrect taxonomic matches. This involves generating positive and negative examples, preparing the training dataset, and comparing different models."
   ]
  },
  {
   "cell_type": "code",
   "execution_count": 90,
   "id": "262e9267",
   "metadata": {},
   "outputs": [],
   "source": [
    "#positive_matches = txm.generate_positive_set(gbif_dataset, ncbi_dataset, 25000)"
   ]
  },
  {
   "cell_type": "code",
   "execution_count": 91,
   "id": "3121bb6d",
   "metadata": {},
   "outputs": [],
   "source": [
    "#negative_matches = txm.generate_negative_set(gbif_dataset, ncbi_dataset, 25000)"
   ]
  },
  {
   "cell_type": "code",
   "execution_count": 92,
   "id": "96858b5b-b5fe-400e-8321-dfc5effa0267",
   "metadata": {},
   "outputs": [],
   "source": [
    "#full_training_set = txm.prepare_data(positive_matches, negative_matches)"
   ]
  },
  {
   "cell_type": "code",
   "execution_count": 93,
   "id": "2e638cbb-5f25-4b49-8ab4-1ebea0e5b6ce",
   "metadata": {},
   "outputs": [],
   "source": [
    "#full_training_set.to_csv(\"training_set.txt\", index = False)"
   ]
  },
  {
   "cell_type": "code",
   "execution_count": 94,
   "id": "add84e22",
   "metadata": {},
   "outputs": [],
   "source": [
    "#X_train, X_test, y_train, y_test = txm.generate_training_test(full_training_set)"
   ]
  },
  {
   "cell_type": "code",
   "execution_count": 95,
   "id": "d5cfcf41",
   "metadata": {},
   "outputs": [],
   "source": [
    "#txm.compare_models(X_train, X_test, y_train, y_test)"
   ]
  },
  {
   "cell_type": "code",
   "execution_count": 96,
   "id": "a4428617",
   "metadata": {},
   "outputs": [],
   "source": [
    "#model = txm.XGBClassifier(learning_rate=0.1,n_estimators=500, max_depth=9, n_jobs=-1, colsample_bytree = 1, subsample = 0.8)"
   ]
  },
  {
   "cell_type": "code",
   "execution_count": 97,
   "id": "560276c3-6c40-41da-af49-6e1a8ed156f5",
   "metadata": {},
   "outputs": [],
   "source": [
    "#model.fit(X_train, y_train, verbose=False)"
   ]
  },
  {
   "cell_type": "code",
   "execution_count": 98,
   "id": "61b6bf3c-08f6-4fb6-8306-a61607836359",
   "metadata": {},
   "outputs": [],
   "source": [
    "#txm.save_model(model, \"xgb_model\")"
   ]
  },
  {
   "cell_type": "markdown",
   "id": "a903f53e-c5b7-44c2-b408-9ed939e8c302",
   "metadata": {},
   "source": [
    "## 3.b Load a pre-trained model"
   ]
  },
  {
   "cell_type": "markdown",
   "id": "736529c4-ae7f-4eff-915d-69bf4c104a48",
   "metadata": {},
   "source": [
    " Alternatively, it provides the option to load a pre-trained model, simplifying the process for routine analyses."
   ]
  },
  {
   "cell_type": "code",
   "execution_count": 16,
   "id": "31c68318-1244-42c1-af18-ab3ebe51fed3",
   "metadata": {},
   "outputs": [],
   "source": [
    "model = txm.load_xgb_model() "
   ]
  },
  {
   "cell_type": "markdown",
   "id": "2d4729e2",
   "metadata": {},
   "source": [
    "## 4. Match NCBI with GBIF dataset "
   ]
  },
  {
   "cell_type": "markdown",
   "id": "e9b3a248-fee2-4673-b484-902214c109e1",
   "metadata": {},
   "source": [
    "In this section, the focus is on comparing and aligning the taxonomic data from NCBI and GBIF datasets. It specifically targets the taxon \"Arthropoda\" to narrow down the analysis to a specific family of bees. Using a pre-trained machine learning model, the notebook matches records from both datasets, categorizing them as exact matches, unmatched, or potentially mislabeled due to typographical errors"
   ]
  },
  {
   "cell_type": "code",
   "execution_count": 17,
   "id": "379a86c6-7c69-46db-94b5-53dc159cb0bd",
   "metadata": {},
   "outputs": [],
   "source": [
    "gbif_arthropoda, ncbi_arthropoda = txm.select_taxonomic_clade(\"arthropoda\", gbif_dataset, ncbi_dataset)"
   ]
  },
  {
   "cell_type": "code",
   "execution_count": 18,
   "id": "4052b9b2-920c-4e52-8ca0-8978bb841779",
   "metadata": {},
   "outputs": [
    {
     "name": "stderr",
     "output_type": "stream",
     "text": [
      "/Users/mleone1/miniconda3/envs/test_2/lib/python3.12/site-packages/taxonmatch/matching.py:276: FutureWarning: The behavior of DataFrame concatenation with empty or all-NA entries is deprecated. In a future version, this will no longer exclude empty or all-NA columns when determining the result dtypes. To retain the old behavior, exclude the relevant entries before the concat operation.\n",
      "  return pd.concat([matched_df, missing_ncbi_rows], ignore_index=True)\n"
     ]
    }
   ],
   "source": [
    "matched_df, unmatched_df, possible_typos_df = txm.match_dataset(gbif_arthropoda, ncbi_arthropoda, model, tree_generation = True)"
   ]
  },
  {
   "cell_type": "markdown",
   "id": "9bd0098f-8a32-4f76-b825-e5c66ad9ba21",
   "metadata": {},
   "source": [
    "## 5. Generate the taxonomic tree "
   ]
  },
  {
   "cell_type": "markdown",
   "id": "78cb8f2a-2a79-4b26-a8d3-cadf50980287",
   "metadata": {},
   "source": [
    "In the last section, the notebook constructs a taxonomic tree from the matched and unmatched data between the GBIF and NCBI datasets, focusing on the Apidae family. This visual representation helps to illustrate the evolutionary relationships and classification hierarchy among the species. The tree is then converted into a dataframe for further analysis and saved in textual format for documentation and review purposes."
   ]
  },
  {
   "cell_type": "code",
   "execution_count": null,
   "id": "b47152fc-4c7b-4a97-b601-954d81bc2f2c",
   "metadata": {},
   "outputs": [],
   "source": [
    "tree = txm.generate_taxonomic_tree(matched_df, unmatched_df)"
   ]
  },
  {
   "cell_type": "code",
   "execution_count": null,
   "id": "11e4ac64-ca05-42ad-9516-d1974c43e6f2",
   "metadata": {
    "scrolled": true
   },
   "outputs": [],
   "source": [
    "#txm.print_tree(tree)"
   ]
  },
  {
   "cell_type": "code",
   "execution_count": null,
   "id": "d57cb953-de55-4223-8249-811d76ff28a9",
   "metadata": {},
   "outputs": [],
   "source": [
    "cicadetta_tree = txm.reroot_tree(tree, root_name=\"cicadetta\")"
   ]
  },
  {
   "cell_type": "code",
   "execution_count": null,
   "id": "1478d6c6-9048-4fa1-a2dd-d144dc36e675",
   "metadata": {
    "scrolled": true
   },
   "outputs": [],
   "source": [
    "txm.print_tree(cicadetta_tree)"
   ]
  },
  {
   "cell_type": "code",
   "execution_count": null,
   "id": "0df04baf-8904-460b-a7b7-366c6ac09efb",
   "metadata": {},
   "outputs": [],
   "source": [
    "df_from_tree = txm.convert_tree_to_dataframe(tree, gbif_dataset[1], ncbi_dataset[1], \"df_arthropoda.txt\", index=False)"
   ]
  },
  {
   "cell_type": "code",
   "execution_count": null,
   "id": "1a5c15e9-08c7-4ddb-895d-9bc0687f267e",
   "metadata": {},
   "outputs": [],
   "source": [
    "txm.save_tree(tree, \"./arthropoda_tree.txt\", output_format='txt')"
   ]
  },
  {
   "cell_type": "markdown",
   "id": "89a97a71-729d-4904-b06e-e677f064ece6",
   "metadata": {},
   "source": [
    "## 6. Add iNaturalist information"
   ]
  },
  {
   "cell_type": "code",
   "execution_count": null,
   "id": "d24ac9ed-5388-452d-b0bd-b92309a1ad0b",
   "metadata": {},
   "outputs": [],
   "source": [
    "inat_dataset = txm.download_inat_taxonomy()"
   ]
  },
  {
   "cell_type": "code",
   "execution_count": null,
   "id": "e1ea807d-a8c8-4190-b13d-cbf021213186",
   "metadata": {},
   "outputs": [],
   "source": [
    "inat_tree = txm.add_inat_taxonomy(tree, inat_dataset)"
   ]
  },
  {
   "cell_type": "code",
   "execution_count": null,
   "id": "b483f8dd-1d9c-4a2b-8dec-8f84789b8985",
   "metadata": {},
   "outputs": [],
   "source": [
    "cicadetta_tree_with_inat = txm.reroot_tree(inat_tree, root_name=\"cicadetta\")"
   ]
  },
  {
   "cell_type": "code",
   "execution_count": null,
   "id": "57764f43-73b2-4a1c-8fd2-482197fbaa30",
   "metadata": {},
   "outputs": [],
   "source": [
    "txm.print_tree(cicadetta_tree_with_inat)"
   ]
  },
  {
   "cell_type": "code",
   "execution_count": null,
   "id": "368e8c0b-0431-48d9-99be-95b47fa60223",
   "metadata": {},
   "outputs": [],
   "source": [
    "df_with_inat = txm.convert_tree_to_dataframe(inat_tree, gbif_dataset[1], ncbi_dataset[1], \"df_arthropoda_with_inat.txt\", inat_dataset=inat_dataset, index=True)"
   ]
  },
  {
   "cell_type": "code",
   "execution_count": 58,
   "id": "7f91f81e-3b0e-49ab-b294-1d816b9413ca",
   "metadata": {},
   "outputs": [
    {
     "name": "stdout",
     "output_type": "stream",
     "text": [
      "The tree is saved as TXT in the file: test_tree_final.txt.\n"
     ]
    }
   ],
   "source": [
    "txm.save_tree(inat_tree, \"arthropoda_tree_with_inat.txt\", output_format='txt')"
   ]
  },
  {
   "cell_type": "code",
   "execution_count": null,
   "id": "bf73086e-aedf-4a62-815d-bed7e40502fa",
   "metadata": {},
   "outputs": [],
   "source": []
  },
  {
   "cell_type": "code",
   "execution_count": null,
   "id": "60b2ad23-b573-46d5-8c7a-c3cdf69d152e",
   "metadata": {},
   "outputs": [],
   "source": []
  }
 ],
 "metadata": {
  "kernelspec": {
   "display_name": "Python 3 (ipykernel)",
   "language": "python",
   "name": "python3"
  },
  "language_info": {
   "codemirror_mode": {
    "name": "ipython",
    "version": 3
   },
   "file_extension": ".py",
   "mimetype": "text/x-python",
   "name": "python",
   "nbconvert_exporter": "python",
   "pygments_lexer": "ipython3",
   "version": "3.12.4"
  }
 },
 "nbformat": 4,
 "nbformat_minor": 5
}
