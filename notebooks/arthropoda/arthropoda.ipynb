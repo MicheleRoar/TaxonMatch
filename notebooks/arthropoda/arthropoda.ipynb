{
 "cells": [
  {
   "cell_type": "markdown",
   "id": "61e1c29a-55b5-4cd5-9811-72f84dee84a2",
   "metadata": {},
   "source": [
    "# Analyzing Arthropoda Taxonomy: Integrating GBIF, NCBI and iNaturalist Data"
   ]
  },
  {
   "attachments": {},
   "cell_type": "markdown",
   "id": "042224f1-32a1-45d7-8958-e0a51bcaa556",
   "metadata": {},
   "source": [
    "![title](https://wallpapercave.com/wp/wp1870417.jpg)"
   ]
  },
  {
   "cell_type": "markdown",
   "id": "c0faa846-70dd-4bb0-b51d-1a787438a3d7",
   "metadata": {},
   "source": [
    "This Python notebook is designed for the purpose of integrating taxonomic data from two major biological databases, GBIF (Global Biodiversity Information Facility) and NCBI (National Center for Biotechnology Information) and iNaturalist, to enhance the accuracy and comprehensiveness of ecological and biological research. GBIF primarily focuses on biodiversity data including species distribution and ecological information, whereas NCBI provides a broader range of data including genomic and taxonomic details. \n",
    "\n",
    "Combining these sources enables researchers to cross-validate species identifications and improve the richness of ecological datasets with genetic information. A key biological task performed in this notebook is the construction of a taxonomic tree, which helps in visualizing and understanding the evolutionary relationships and classification hierarchy among different species within a chosen taxon (in this case, the Arthropda pyhlum)."
   ]
  },
  {
   "cell_type": "markdown",
   "id": "37bb79a2",
   "metadata": {},
   "source": [
    "## 1. Importing libraries"
   ]
  },
  {
   "cell_type": "code",
   "execution_count": 1,
   "id": "0b648242",
   "metadata": {},
   "outputs": [],
   "source": [
    "import pandas as pd\n",
    "pd.set_option('display.max_colwidth', None)"
   ]
  },
  {
   "cell_type": "code",
   "execution_count": 2,
   "id": "2d48547a-bc68-4298-9181-0d8ebdc63262",
   "metadata": {},
   "outputs": [],
   "source": [
    "import taxonmatch as txm"
   ]
  },
  {
   "cell_type": "markdown",
   "id": "f3a25bee-fe59-42c3-97ed-e8e646bd3071",
   "metadata": {},
   "source": [
    "## 2. Downloading and processing samples"
   ]
  },
  {
   "cell_type": "markdown",
   "id": "498cecca-0073-43e9-b2a8-225cac66113d",
   "metadata": {},
   "source": [
    "The initial steps involve downloading the most recent taxonomic data from GBIF and NCBI to ensure the analysis is based on the latest available information. "
   ]
  },
  {
   "cell_type": "code",
   "execution_count": 3,
   "id": "96a78a02",
   "metadata": {},
   "outputs": [
    {
     "name": "stdout",
     "output_type": "stream",
     "text": [
      "GBIF backbone taxonomy data already downloaded.\n",
      "Processing samples...\n",
      "Done.\n"
     ]
    }
   ],
   "source": [
    "gbif_dataset = txm.download_gbif_taxonomy()"
   ]
  },
  {
   "cell_type": "code",
   "execution_count": 4,
   "id": "600be659",
   "metadata": {},
   "outputs": [
    {
     "name": "stdout",
     "output_type": "stream",
     "text": [
      "NCBI taxonomy data already downloaded.\n",
      "Processing samples...\n",
      "Done.\n"
     ]
    }
   ],
   "source": [
    "ncbi_dataset = txm.download_ncbi_taxonomy()"
   ]
  },
  {
   "cell_type": "markdown",
   "id": "ec55f447-cb40-4f54-9d56-ab52c1c091df",
   "metadata": {},
   "source": [
    "## 2.1 Checking Inconsistencies in nomenclature"
   ]
  },
  {
   "cell_type": "markdown",
   "id": "3d86fe9e-ecb7-4d6c-94af-3c26b80a2d02",
   "metadata": {},
   "source": [
    "Matching based on canonical names between the GBIF and NCBI datasets is unreliable due to significant taxonomic inconsistencies. In particular, the same canonical name may be assigned to multiple kingdoms, highlighting classification discrepancies. Even when the taxonomic status is accepted, the taxonomic structures in GBIF and NCBI can differ substantially. This necessitates filtering and evaluating differences before considering a match valid, preventing false correspondences between incongruent taxonomies."
   ]
  },
  {
   "cell_type": "code",
   "execution_count": 5,
   "id": "d6852031-d96d-479a-aca2-ba590ae5cced",
   "metadata": {},
   "outputs": [],
   "source": [
    "df_inconsistencies = txm.get_inconsistencies(gbif_dataset, ncbi_dataset)"
   ]
  },
  {
   "cell_type": "code",
   "execution_count": 6,
   "id": "483e1c20-93fd-4151-8510-a3fc5d23177c",
   "metadata": {},
   "outputs": [
    {
     "data": {
      "text/html": [
       "<div>\n",
       "<style scoped>\n",
       "    .dataframe tbody tr th:only-of-type {\n",
       "        vertical-align: middle;\n",
       "    }\n",
       "\n",
       "    .dataframe tbody tr th {\n",
       "        vertical-align: top;\n",
       "    }\n",
       "\n",
       "    .dataframe thead th {\n",
       "        text-align: right;\n",
       "    }\n",
       "</style>\n",
       "<table border=\"1\" class=\"dataframe\">\n",
       "  <thead>\n",
       "    <tr style=\"text-align: right;\">\n",
       "      <th></th>\n",
       "      <th>canonicalName</th>\n",
       "      <th>gbif_id</th>\n",
       "      <th>ncbi_id</th>\n",
       "      <th>gbif_rank</th>\n",
       "      <th>ncbi_rank</th>\n",
       "      <th>gbif_taxonomy</th>\n",
       "      <th>ncbi_taxonomy</th>\n",
       "    </tr>\n",
       "  </thead>\n",
       "  <tbody>\n",
       "    <tr>\n",
       "      <th>372005</th>\n",
       "      <td>Clavulina rugosa</td>\n",
       "      <td>7690415</td>\n",
       "      <td>149346</td>\n",
       "      <td>species</td>\n",
       "      <td>species</td>\n",
       "      <td>foraminifera;globothalamea;textulariida;valvulinidae;clavulina;clavulina rugosa</td>\n",
       "      <td>basidiomycota;agaricomycetes;cantharellales;hydnaceae;clavulina;clavulina rugosa</td>\n",
       "    </tr>\n",
       "    <tr>\n",
       "      <th>469678</th>\n",
       "      <td>Annularia spinulosa</td>\n",
       "      <td>11152599</td>\n",
       "      <td>1981406</td>\n",
       "      <td>species</td>\n",
       "      <td>species</td>\n",
       "      <td>tracheophyta;polypodiopsida;equisetales;calamitaceae;annularia;annularia spinulosa</td>\n",
       "      <td>mollusca;gastropoda;littorinimorpha;annulariidae;annularia;annularia spinulosa</td>\n",
       "    </tr>\n",
       "    <tr>\n",
       "      <th>585549</th>\n",
       "      <td>Helicopsis persica</td>\n",
       "      <td>7438932</td>\n",
       "      <td>1766789</td>\n",
       "      <td>species</td>\n",
       "      <td>species</td>\n",
       "      <td>ascomycota;dothideomycetes;tubeufiales;tubeufiaceae;helicopsis;helicopsis persica</td>\n",
       "      <td>mollusca;gastropoda;stylommatophora;geomitridae;helicopsis;helicopsis persica</td>\n",
       "    </tr>\n",
       "    <tr>\n",
       "      <th>566695</th>\n",
       "      <td>Salix alba</td>\n",
       "      <td>7882712</td>\n",
       "      <td>75704</td>\n",
       "      <td>species</td>\n",
       "      <td>species</td>\n",
       "      <td>chordata;ascidiacea;aplousobranchia;polycitoridae;salix;salix alba</td>\n",
       "      <td>streptophyta;magnoliopsida;malpighiales;salicaceae;salix;salix alba</td>\n",
       "    </tr>\n",
       "    <tr>\n",
       "      <th>515403</th>\n",
       "      <td>Trichospira verticillata</td>\n",
       "      <td>3087526</td>\n",
       "      <td>2067439</td>\n",
       "      <td>species</td>\n",
       "      <td>species</td>\n",
       "      <td>ciliophora;kinetofragminophora;trichostomatida;trichospiridae;trichospira;trichospira verticillata</td>\n",
       "      <td>streptophyta;magnoliopsida;asterales;asteraceae;trichospira;trichospira verticillata</td>\n",
       "    </tr>\n",
       "  </tbody>\n",
       "</table>\n",
       "</div>"
      ],
      "text/plain": [
       "                   canonicalName   gbif_id  ncbi_id gbif_rank ncbi_rank  \\\n",
       "372005          Clavulina rugosa   7690415   149346   species   species   \n",
       "469678       Annularia spinulosa  11152599  1981406   species   species   \n",
       "585549        Helicopsis persica   7438932  1766789   species   species   \n",
       "566695                Salix alba   7882712    75704   species   species   \n",
       "515403  Trichospira verticillata   3087526  2067439   species   species   \n",
       "\n",
       "                                                                                             gbif_taxonomy  \\\n",
       "372005                     foraminifera;globothalamea;textulariida;valvulinidae;clavulina;clavulina rugosa   \n",
       "469678                  tracheophyta;polypodiopsida;equisetales;calamitaceae;annularia;annularia spinulosa   \n",
       "585549                   ascomycota;dothideomycetes;tubeufiales;tubeufiaceae;helicopsis;helicopsis persica   \n",
       "566695                                  chordata;ascidiacea;aplousobranchia;polycitoridae;salix;salix alba   \n",
       "515403  ciliophora;kinetofragminophora;trichostomatida;trichospiridae;trichospira;trichospira verticillata   \n",
       "\n",
       "                                                                               ncbi_taxonomy  \n",
       "372005      basidiomycota;agaricomycetes;cantharellales;hydnaceae;clavulina;clavulina rugosa  \n",
       "469678        mollusca;gastropoda;littorinimorpha;annulariidae;annularia;annularia spinulosa  \n",
       "585549         mollusca;gastropoda;stylommatophora;geomitridae;helicopsis;helicopsis persica  \n",
       "566695                   streptophyta;magnoliopsida;malpighiales;salicaceae;salix;salix alba  \n",
       "515403  streptophyta;magnoliopsida;asterales;asteraceae;trichospira;trichospira verticillata  "
      ]
     },
     "execution_count": 6,
     "metadata": {},
     "output_type": "execute_result"
    }
   ],
   "source": [
    "df_inconsistencies.sample(5)"
   ]
  },
  {
   "cell_type": "markdown",
   "id": "d791a166",
   "metadata": {},
   "source": [
    "## 3.a Training the classifier model"
   ]
  },
  {
   "cell_type": "markdown",
   "id": "96c04fd4-af7a-4009-a33d-9e0b3dae1661",
   "metadata": {},
   "source": [
    "If required, the notebook outlines steps to train a machine learning classifier to distinguish between correct and incorrect taxonomic matches. This involves generating positive and negative examples, preparing the training dataset, and comparing different models."
   ]
  },
  {
   "cell_type": "code",
   "execution_count": 7,
   "id": "262e9267",
   "metadata": {},
   "outputs": [
    {
     "name": "stdout",
     "output_type": "stream",
     "text": [
      "Generating positive set: 100.0%\n"
     ]
    }
   ],
   "source": [
    "positive_matches = txm.generate_positive_set(gbif_dataset, ncbi_dataset, 5000)"
   ]
  },
  {
   "cell_type": "code",
   "execution_count": 8,
   "id": "3121bb6d",
   "metadata": {},
   "outputs": [
    {
     "name": "stdout",
     "output_type": "stream",
     "text": [
      "Generating negative set: 100.0%\n"
     ]
    }
   ],
   "source": [
    "negative_matches = txm.generate_negative_set(gbif_dataset, ncbi_dataset, 5000)"
   ]
  },
  {
   "cell_type": "code",
   "execution_count": 9,
   "id": "96858b5b-b5fe-400e-8321-dfc5effa0267",
   "metadata": {},
   "outputs": [],
   "source": [
    "full_training_set = txm.prepare_data(positive_matches, negative_matches)"
   ]
  },
  {
   "cell_type": "code",
   "execution_count": 10,
   "id": "2e638cbb-5f25-4b49-8ab4-1ebea0e5b6ce",
   "metadata": {},
   "outputs": [],
   "source": [
    "#full_training_set.to_csv(\"training_set.txt\", index = False)"
   ]
  },
  {
   "cell_type": "code",
   "execution_count": 11,
   "id": "add84e22",
   "metadata": {},
   "outputs": [],
   "source": [
    "X_train, X_test, y_train, y_test = txm.generate_training_test(full_training_set)"
   ]
  },
  {
   "cell_type": "code",
   "execution_count": 12,
   "id": "d5cfcf41",
   "metadata": {},
   "outputs": [
    {
     "data": {
      "text/html": [
       "<div>\n",
       "<style scoped>\n",
       "    .dataframe tbody tr th:only-of-type {\n",
       "        vertical-align: middle;\n",
       "    }\n",
       "\n",
       "    .dataframe tbody tr th {\n",
       "        vertical-align: top;\n",
       "    }\n",
       "\n",
       "    .dataframe thead th {\n",
       "        text-align: right;\n",
       "    }\n",
       "</style>\n",
       "<table border=\"1\" class=\"dataframe\">\n",
       "  <thead>\n",
       "    <tr style=\"text-align: right;\">\n",
       "      <th></th>\n",
       "      <th>model</th>\n",
       "      <th>accuracy</th>\n",
       "      <th>mae</th>\n",
       "      <th>precision</th>\n",
       "      <th>recall</th>\n",
       "      <th>f1</th>\n",
       "      <th>roc</th>\n",
       "      <th>run_time</th>\n",
       "      <th>tp</th>\n",
       "      <th>fp</th>\n",
       "      <th>tn</th>\n",
       "      <th>fn</th>\n",
       "    </tr>\n",
       "  </thead>\n",
       "  <tbody>\n",
       "    <tr>\n",
       "      <th>0</th>\n",
       "      <td>RandomForestClassifier</td>\n",
       "      <td>0.975758</td>\n",
       "      <td>0.024242</td>\n",
       "      <td>0.981543</td>\n",
       "      <td>0.992005</td>\n",
       "      <td>0.986746</td>\n",
       "      <td>0.902043</td>\n",
       "      <td>0.01</td>\n",
       "      <td>121</td>\n",
       "      <td>28</td>\n",
       "      <td>1489</td>\n",
       "      <td>12</td>\n",
       "    </tr>\n",
       "    <tr>\n",
       "      <th>1</th>\n",
       "      <td>GradientBoostingClassifier</td>\n",
       "      <td>0.971515</td>\n",
       "      <td>0.028485</td>\n",
       "      <td>0.978920</td>\n",
       "      <td>0.990007</td>\n",
       "      <td>0.984432</td>\n",
       "      <td>0.887621</td>\n",
       "      <td>0.01</td>\n",
       "      <td>117</td>\n",
       "      <td>32</td>\n",
       "      <td>1486</td>\n",
       "      <td>15</td>\n",
       "    </tr>\n",
       "    <tr>\n",
       "      <th>2</th>\n",
       "      <td>XGBClassifier</td>\n",
       "      <td>0.970909</td>\n",
       "      <td>0.029091</td>\n",
       "      <td>0.979538</td>\n",
       "      <td>0.988674</td>\n",
       "      <td>0.984085</td>\n",
       "      <td>0.890310</td>\n",
       "      <td>0.0</td>\n",
       "      <td>118</td>\n",
       "      <td>31</td>\n",
       "      <td>1484</td>\n",
       "      <td>17</td>\n",
       "    </tr>\n",
       "    <tr>\n",
       "      <th>3</th>\n",
       "      <td>KNeighborsClassifier</td>\n",
       "      <td>0.969697</td>\n",
       "      <td>0.030303</td>\n",
       "      <td>0.978878</td>\n",
       "      <td>0.988008</td>\n",
       "      <td>0.983422</td>\n",
       "      <td>0.886621</td>\n",
       "      <td>0.0</td>\n",
       "      <td>117</td>\n",
       "      <td>32</td>\n",
       "      <td>1483</td>\n",
       "      <td>18</td>\n",
       "    </tr>\n",
       "    <tr>\n",
       "      <th>4</th>\n",
       "      <td>DecisionTreeClassifier</td>\n",
       "      <td>0.966061</td>\n",
       "      <td>0.033939</td>\n",
       "      <td>0.980705</td>\n",
       "      <td>0.982012</td>\n",
       "      <td>0.981358</td>\n",
       "      <td>0.893691</td>\n",
       "      <td>0.0</td>\n",
       "      <td>120</td>\n",
       "      <td>29</td>\n",
       "      <td>1474</td>\n",
       "      <td>27</td>\n",
       "    </tr>\n",
       "    <tr>\n",
       "      <th>5</th>\n",
       "      <td>AdaBoostClassifier</td>\n",
       "      <td>0.964848</td>\n",
       "      <td>0.035152</td>\n",
       "      <td>0.975610</td>\n",
       "      <td>0.986009</td>\n",
       "      <td>0.980782</td>\n",
       "      <td>0.868844</td>\n",
       "      <td>0.0</td>\n",
       "      <td>112</td>\n",
       "      <td>37</td>\n",
       "      <td>1480</td>\n",
       "      <td>21</td>\n",
       "    </tr>\n",
       "    <tr>\n",
       "      <th>6</th>\n",
       "      <td>SVC</td>\n",
       "      <td>0.960000</td>\n",
       "      <td>0.040000</td>\n",
       "      <td>0.959641</td>\n",
       "      <td>0.998001</td>\n",
       "      <td>0.978445</td>\n",
       "      <td>0.787591</td>\n",
       "      <td>0.0</td>\n",
       "      <td>86</td>\n",
       "      <td>63</td>\n",
       "      <td>1498</td>\n",
       "      <td>3</td>\n",
       "    </tr>\n",
       "    <tr>\n",
       "      <th>7</th>\n",
       "      <td>MLPClassifier</td>\n",
       "      <td>0.955758</td>\n",
       "      <td>0.044242</td>\n",
       "      <td>0.958280</td>\n",
       "      <td>0.994670</td>\n",
       "      <td>0.976136</td>\n",
       "      <td>0.779214</td>\n",
       "      <td>0.01</td>\n",
       "      <td>84</td>\n",
       "      <td>65</td>\n",
       "      <td>1493</td>\n",
       "      <td>8</td>\n",
       "    </tr>\n",
       "    <tr>\n",
       "      <th>8</th>\n",
       "      <td>DummyClassifier</td>\n",
       "      <td>0.821212</td>\n",
       "      <td>0.178788</td>\n",
       "      <td>0.909647</td>\n",
       "      <td>0.892072</td>\n",
       "      <td>0.900774</td>\n",
       "      <td>0.499727</td>\n",
       "      <td>0.0</td>\n",
       "      <td>16</td>\n",
       "      <td>133</td>\n",
       "      <td>1339</td>\n",
       "      <td>162</td>\n",
       "    </tr>\n",
       "    <tr>\n",
       "      <th>9</th>\n",
       "      <td>Perceptron</td>\n",
       "      <td>0.238788</td>\n",
       "      <td>0.761212</td>\n",
       "      <td>0.991968</td>\n",
       "      <td>0.164557</td>\n",
       "      <td>0.282286</td>\n",
       "      <td>0.575567</td>\n",
       "      <td>0.0</td>\n",
       "      <td>147</td>\n",
       "      <td>2</td>\n",
       "      <td>247</td>\n",
       "      <td>1254</td>\n",
       "    </tr>\n",
       "  </tbody>\n",
       "</table>\n",
       "</div>"
      ],
      "text/plain": [
       "                        model  accuracy       mae  precision    recall  \\\n",
       "0      RandomForestClassifier  0.975758  0.024242   0.981543  0.992005   \n",
       "1  GradientBoostingClassifier  0.971515  0.028485   0.978920  0.990007   \n",
       "2               XGBClassifier  0.970909  0.029091   0.979538  0.988674   \n",
       "3        KNeighborsClassifier  0.969697  0.030303   0.978878  0.988008   \n",
       "4      DecisionTreeClassifier  0.966061  0.033939   0.980705  0.982012   \n",
       "5          AdaBoostClassifier  0.964848  0.035152   0.975610  0.986009   \n",
       "6                         SVC  0.960000  0.040000   0.959641  0.998001   \n",
       "7               MLPClassifier  0.955758  0.044242   0.958280  0.994670   \n",
       "8             DummyClassifier  0.821212  0.178788   0.909647  0.892072   \n",
       "9                  Perceptron  0.238788  0.761212   0.991968  0.164557   \n",
       "\n",
       "         f1       roc run_time   tp   fp    tn    fn  \n",
       "0  0.986746  0.902043     0.01  121   28  1489    12  \n",
       "1  0.984432  0.887621     0.01  117   32  1486    15  \n",
       "2  0.984085  0.890310      0.0  118   31  1484    17  \n",
       "3  0.983422  0.886621      0.0  117   32  1483    18  \n",
       "4  0.981358  0.893691      0.0  120   29  1474    27  \n",
       "5  0.980782  0.868844      0.0  112   37  1480    21  \n",
       "6  0.978445  0.787591      0.0   86   63  1498     3  \n",
       "7  0.976136  0.779214     0.01   84   65  1493     8  \n",
       "8  0.900774  0.499727      0.0   16  133  1339   162  \n",
       "9  0.282286  0.575567      0.0  147    2   247  1254  "
      ]
     },
     "execution_count": 12,
     "metadata": {},
     "output_type": "execute_result"
    }
   ],
   "source": [
    "txm.compare_models(X_train, X_test, y_train, y_test)"
   ]
  },
  {
   "cell_type": "code",
   "execution_count": 13,
   "id": "a4428617",
   "metadata": {},
   "outputs": [],
   "source": [
    "model = txm.XGBClassifier(learning_rate=0.1,n_estimators=500, max_depth=9, n_jobs=-1, colsample_bytree = 1, subsample = 0.8)"
   ]
  },
  {
   "cell_type": "code",
   "execution_count": 14,
   "id": "560276c3-6c40-41da-af49-6e1a8ed156f5",
   "metadata": {},
   "outputs": [
    {
     "data": {
      "text/html": [
       "<style>#sk-container-id-1 {\n",
       "  /* Definition of color scheme common for light and dark mode */\n",
       "  --sklearn-color-text: black;\n",
       "  --sklearn-color-line: gray;\n",
       "  /* Definition of color scheme for unfitted estimators */\n",
       "  --sklearn-color-unfitted-level-0: #fff5e6;\n",
       "  --sklearn-color-unfitted-level-1: #f6e4d2;\n",
       "  --sklearn-color-unfitted-level-2: #ffe0b3;\n",
       "  --sklearn-color-unfitted-level-3: chocolate;\n",
       "  /* Definition of color scheme for fitted estimators */\n",
       "  --sklearn-color-fitted-level-0: #f0f8ff;\n",
       "  --sklearn-color-fitted-level-1: #d4ebff;\n",
       "  --sklearn-color-fitted-level-2: #b3dbfd;\n",
       "  --sklearn-color-fitted-level-3: cornflowerblue;\n",
       "\n",
       "  /* Specific color for light theme */\n",
       "  --sklearn-color-text-on-default-background: var(--sg-text-color, var(--theme-code-foreground, var(--jp-content-font-color1, black)));\n",
       "  --sklearn-color-background: var(--sg-background-color, var(--theme-background, var(--jp-layout-color0, white)));\n",
       "  --sklearn-color-border-box: var(--sg-text-color, var(--theme-code-foreground, var(--jp-content-font-color1, black)));\n",
       "  --sklearn-color-icon: #696969;\n",
       "\n",
       "  @media (prefers-color-scheme: dark) {\n",
       "    /* Redefinition of color scheme for dark theme */\n",
       "    --sklearn-color-text-on-default-background: var(--sg-text-color, var(--theme-code-foreground, var(--jp-content-font-color1, white)));\n",
       "    --sklearn-color-background: var(--sg-background-color, var(--theme-background, var(--jp-layout-color0, #111)));\n",
       "    --sklearn-color-border-box: var(--sg-text-color, var(--theme-code-foreground, var(--jp-content-font-color1, white)));\n",
       "    --sklearn-color-icon: #878787;\n",
       "  }\n",
       "}\n",
       "\n",
       "#sk-container-id-1 {\n",
       "  color: var(--sklearn-color-text);\n",
       "}\n",
       "\n",
       "#sk-container-id-1 pre {\n",
       "  padding: 0;\n",
       "}\n",
       "\n",
       "#sk-container-id-1 input.sk-hidden--visually {\n",
       "  border: 0;\n",
       "  clip: rect(1px 1px 1px 1px);\n",
       "  clip: rect(1px, 1px, 1px, 1px);\n",
       "  height: 1px;\n",
       "  margin: -1px;\n",
       "  overflow: hidden;\n",
       "  padding: 0;\n",
       "  position: absolute;\n",
       "  width: 1px;\n",
       "}\n",
       "\n",
       "#sk-container-id-1 div.sk-dashed-wrapped {\n",
       "  border: 1px dashed var(--sklearn-color-line);\n",
       "  margin: 0 0.4em 0.5em 0.4em;\n",
       "  box-sizing: border-box;\n",
       "  padding-bottom: 0.4em;\n",
       "  background-color: var(--sklearn-color-background);\n",
       "}\n",
       "\n",
       "#sk-container-id-1 div.sk-container {\n",
       "  /* jupyter's `normalize.less` sets `[hidden] { display: none; }`\n",
       "     but bootstrap.min.css set `[hidden] { display: none !important; }`\n",
       "     so we also need the `!important` here to be able to override the\n",
       "     default hidden behavior on the sphinx rendered scikit-learn.org.\n",
       "     See: https://github.com/scikit-learn/scikit-learn/issues/21755 */\n",
       "  display: inline-block !important;\n",
       "  position: relative;\n",
       "}\n",
       "\n",
       "#sk-container-id-1 div.sk-text-repr-fallback {\n",
       "  display: none;\n",
       "}\n",
       "\n",
       "div.sk-parallel-item,\n",
       "div.sk-serial,\n",
       "div.sk-item {\n",
       "  /* draw centered vertical line to link estimators */\n",
       "  background-image: linear-gradient(var(--sklearn-color-text-on-default-background), var(--sklearn-color-text-on-default-background));\n",
       "  background-size: 2px 100%;\n",
       "  background-repeat: no-repeat;\n",
       "  background-position: center center;\n",
       "}\n",
       "\n",
       "/* Parallel-specific style estimator block */\n",
       "\n",
       "#sk-container-id-1 div.sk-parallel-item::after {\n",
       "  content: \"\";\n",
       "  width: 100%;\n",
       "  border-bottom: 2px solid var(--sklearn-color-text-on-default-background);\n",
       "  flex-grow: 1;\n",
       "}\n",
       "\n",
       "#sk-container-id-1 div.sk-parallel {\n",
       "  display: flex;\n",
       "  align-items: stretch;\n",
       "  justify-content: center;\n",
       "  background-color: var(--sklearn-color-background);\n",
       "  position: relative;\n",
       "}\n",
       "\n",
       "#sk-container-id-1 div.sk-parallel-item {\n",
       "  display: flex;\n",
       "  flex-direction: column;\n",
       "}\n",
       "\n",
       "#sk-container-id-1 div.sk-parallel-item:first-child::after {\n",
       "  align-self: flex-end;\n",
       "  width: 50%;\n",
       "}\n",
       "\n",
       "#sk-container-id-1 div.sk-parallel-item:last-child::after {\n",
       "  align-self: flex-start;\n",
       "  width: 50%;\n",
       "}\n",
       "\n",
       "#sk-container-id-1 div.sk-parallel-item:only-child::after {\n",
       "  width: 0;\n",
       "}\n",
       "\n",
       "/* Serial-specific style estimator block */\n",
       "\n",
       "#sk-container-id-1 div.sk-serial {\n",
       "  display: flex;\n",
       "  flex-direction: column;\n",
       "  align-items: center;\n",
       "  background-color: var(--sklearn-color-background);\n",
       "  padding-right: 1em;\n",
       "  padding-left: 1em;\n",
       "}\n",
       "\n",
       "\n",
       "/* Toggleable style: style used for estimator/Pipeline/ColumnTransformer box that is\n",
       "clickable and can be expanded/collapsed.\n",
       "- Pipeline and ColumnTransformer use this feature and define the default style\n",
       "- Estimators will overwrite some part of the style using the `sk-estimator` class\n",
       "*/\n",
       "\n",
       "/* Pipeline and ColumnTransformer style (default) */\n",
       "\n",
       "#sk-container-id-1 div.sk-toggleable {\n",
       "  /* Default theme specific background. It is overwritten whether we have a\n",
       "  specific estimator or a Pipeline/ColumnTransformer */\n",
       "  background-color: var(--sklearn-color-background);\n",
       "}\n",
       "\n",
       "/* Toggleable label */\n",
       "#sk-container-id-1 label.sk-toggleable__label {\n",
       "  cursor: pointer;\n",
       "  display: block;\n",
       "  width: 100%;\n",
       "  margin-bottom: 0;\n",
       "  padding: 0.5em;\n",
       "  box-sizing: border-box;\n",
       "  text-align: center;\n",
       "}\n",
       "\n",
       "#sk-container-id-1 label.sk-toggleable__label-arrow:before {\n",
       "  /* Arrow on the left of the label */\n",
       "  content: \"▸\";\n",
       "  float: left;\n",
       "  margin-right: 0.25em;\n",
       "  color: var(--sklearn-color-icon);\n",
       "}\n",
       "\n",
       "#sk-container-id-1 label.sk-toggleable__label-arrow:hover:before {\n",
       "  color: var(--sklearn-color-text);\n",
       "}\n",
       "\n",
       "/* Toggleable content - dropdown */\n",
       "\n",
       "#sk-container-id-1 div.sk-toggleable__content {\n",
       "  max-height: 0;\n",
       "  max-width: 0;\n",
       "  overflow: hidden;\n",
       "  text-align: left;\n",
       "  /* unfitted */\n",
       "  background-color: var(--sklearn-color-unfitted-level-0);\n",
       "}\n",
       "\n",
       "#sk-container-id-1 div.sk-toggleable__content.fitted {\n",
       "  /* fitted */\n",
       "  background-color: var(--sklearn-color-fitted-level-0);\n",
       "}\n",
       "\n",
       "#sk-container-id-1 div.sk-toggleable__content pre {\n",
       "  margin: 0.2em;\n",
       "  border-radius: 0.25em;\n",
       "  color: var(--sklearn-color-text);\n",
       "  /* unfitted */\n",
       "  background-color: var(--sklearn-color-unfitted-level-0);\n",
       "}\n",
       "\n",
       "#sk-container-id-1 div.sk-toggleable__content.fitted pre {\n",
       "  /* unfitted */\n",
       "  background-color: var(--sklearn-color-fitted-level-0);\n",
       "}\n",
       "\n",
       "#sk-container-id-1 input.sk-toggleable__control:checked~div.sk-toggleable__content {\n",
       "  /* Expand drop-down */\n",
       "  max-height: 200px;\n",
       "  max-width: 100%;\n",
       "  overflow: auto;\n",
       "}\n",
       "\n",
       "#sk-container-id-1 input.sk-toggleable__control:checked~label.sk-toggleable__label-arrow:before {\n",
       "  content: \"▾\";\n",
       "}\n",
       "\n",
       "/* Pipeline/ColumnTransformer-specific style */\n",
       "\n",
       "#sk-container-id-1 div.sk-label input.sk-toggleable__control:checked~label.sk-toggleable__label {\n",
       "  color: var(--sklearn-color-text);\n",
       "  background-color: var(--sklearn-color-unfitted-level-2);\n",
       "}\n",
       "\n",
       "#sk-container-id-1 div.sk-label.fitted input.sk-toggleable__control:checked~label.sk-toggleable__label {\n",
       "  background-color: var(--sklearn-color-fitted-level-2);\n",
       "}\n",
       "\n",
       "/* Estimator-specific style */\n",
       "\n",
       "/* Colorize estimator box */\n",
       "#sk-container-id-1 div.sk-estimator input.sk-toggleable__control:checked~label.sk-toggleable__label {\n",
       "  /* unfitted */\n",
       "  background-color: var(--sklearn-color-unfitted-level-2);\n",
       "}\n",
       "\n",
       "#sk-container-id-1 div.sk-estimator.fitted input.sk-toggleable__control:checked~label.sk-toggleable__label {\n",
       "  /* fitted */\n",
       "  background-color: var(--sklearn-color-fitted-level-2);\n",
       "}\n",
       "\n",
       "#sk-container-id-1 div.sk-label label.sk-toggleable__label,\n",
       "#sk-container-id-1 div.sk-label label {\n",
       "  /* The background is the default theme color */\n",
       "  color: var(--sklearn-color-text-on-default-background);\n",
       "}\n",
       "\n",
       "/* On hover, darken the color of the background */\n",
       "#sk-container-id-1 div.sk-label:hover label.sk-toggleable__label {\n",
       "  color: var(--sklearn-color-text);\n",
       "  background-color: var(--sklearn-color-unfitted-level-2);\n",
       "}\n",
       "\n",
       "/* Label box, darken color on hover, fitted */\n",
       "#sk-container-id-1 div.sk-label.fitted:hover label.sk-toggleable__label.fitted {\n",
       "  color: var(--sklearn-color-text);\n",
       "  background-color: var(--sklearn-color-fitted-level-2);\n",
       "}\n",
       "\n",
       "/* Estimator label */\n",
       "\n",
       "#sk-container-id-1 div.sk-label label {\n",
       "  font-family: monospace;\n",
       "  font-weight: bold;\n",
       "  display: inline-block;\n",
       "  line-height: 1.2em;\n",
       "}\n",
       "\n",
       "#sk-container-id-1 div.sk-label-container {\n",
       "  text-align: center;\n",
       "}\n",
       "\n",
       "/* Estimator-specific */\n",
       "#sk-container-id-1 div.sk-estimator {\n",
       "  font-family: monospace;\n",
       "  border: 1px dotted var(--sklearn-color-border-box);\n",
       "  border-radius: 0.25em;\n",
       "  box-sizing: border-box;\n",
       "  margin-bottom: 0.5em;\n",
       "  /* unfitted */\n",
       "  background-color: var(--sklearn-color-unfitted-level-0);\n",
       "}\n",
       "\n",
       "#sk-container-id-1 div.sk-estimator.fitted {\n",
       "  /* fitted */\n",
       "  background-color: var(--sklearn-color-fitted-level-0);\n",
       "}\n",
       "\n",
       "/* on hover */\n",
       "#sk-container-id-1 div.sk-estimator:hover {\n",
       "  /* unfitted */\n",
       "  background-color: var(--sklearn-color-unfitted-level-2);\n",
       "}\n",
       "\n",
       "#sk-container-id-1 div.sk-estimator.fitted:hover {\n",
       "  /* fitted */\n",
       "  background-color: var(--sklearn-color-fitted-level-2);\n",
       "}\n",
       "\n",
       "/* Specification for estimator info (e.g. \"i\" and \"?\") */\n",
       "\n",
       "/* Common style for \"i\" and \"?\" */\n",
       "\n",
       ".sk-estimator-doc-link,\n",
       "a:link.sk-estimator-doc-link,\n",
       "a:visited.sk-estimator-doc-link {\n",
       "  float: right;\n",
       "  font-size: smaller;\n",
       "  line-height: 1em;\n",
       "  font-family: monospace;\n",
       "  background-color: var(--sklearn-color-background);\n",
       "  border-radius: 1em;\n",
       "  height: 1em;\n",
       "  width: 1em;\n",
       "  text-decoration: none !important;\n",
       "  margin-left: 1ex;\n",
       "  /* unfitted */\n",
       "  border: var(--sklearn-color-unfitted-level-1) 1pt solid;\n",
       "  color: var(--sklearn-color-unfitted-level-1);\n",
       "}\n",
       "\n",
       ".sk-estimator-doc-link.fitted,\n",
       "a:link.sk-estimator-doc-link.fitted,\n",
       "a:visited.sk-estimator-doc-link.fitted {\n",
       "  /* fitted */\n",
       "  border: var(--sklearn-color-fitted-level-1) 1pt solid;\n",
       "  color: var(--sklearn-color-fitted-level-1);\n",
       "}\n",
       "\n",
       "/* On hover */\n",
       "div.sk-estimator:hover .sk-estimator-doc-link:hover,\n",
       ".sk-estimator-doc-link:hover,\n",
       "div.sk-label-container:hover .sk-estimator-doc-link:hover,\n",
       ".sk-estimator-doc-link:hover {\n",
       "  /* unfitted */\n",
       "  background-color: var(--sklearn-color-unfitted-level-3);\n",
       "  color: var(--sklearn-color-background);\n",
       "  text-decoration: none;\n",
       "}\n",
       "\n",
       "div.sk-estimator.fitted:hover .sk-estimator-doc-link.fitted:hover,\n",
       ".sk-estimator-doc-link.fitted:hover,\n",
       "div.sk-label-container:hover .sk-estimator-doc-link.fitted:hover,\n",
       ".sk-estimator-doc-link.fitted:hover {\n",
       "  /* fitted */\n",
       "  background-color: var(--sklearn-color-fitted-level-3);\n",
       "  color: var(--sklearn-color-background);\n",
       "  text-decoration: none;\n",
       "}\n",
       "\n",
       "/* Span, style for the box shown on hovering the info icon */\n",
       ".sk-estimator-doc-link span {\n",
       "  display: none;\n",
       "  z-index: 9999;\n",
       "  position: relative;\n",
       "  font-weight: normal;\n",
       "  right: .2ex;\n",
       "  padding: .5ex;\n",
       "  margin: .5ex;\n",
       "  width: min-content;\n",
       "  min-width: 20ex;\n",
       "  max-width: 50ex;\n",
       "  color: var(--sklearn-color-text);\n",
       "  box-shadow: 2pt 2pt 4pt #999;\n",
       "  /* unfitted */\n",
       "  background: var(--sklearn-color-unfitted-level-0);\n",
       "  border: .5pt solid var(--sklearn-color-unfitted-level-3);\n",
       "}\n",
       "\n",
       ".sk-estimator-doc-link.fitted span {\n",
       "  /* fitted */\n",
       "  background: var(--sklearn-color-fitted-level-0);\n",
       "  border: var(--sklearn-color-fitted-level-3);\n",
       "}\n",
       "\n",
       ".sk-estimator-doc-link:hover span {\n",
       "  display: block;\n",
       "}\n",
       "\n",
       "/* \"?\"-specific style due to the `<a>` HTML tag */\n",
       "\n",
       "#sk-container-id-1 a.estimator_doc_link {\n",
       "  float: right;\n",
       "  font-size: 1rem;\n",
       "  line-height: 1em;\n",
       "  font-family: monospace;\n",
       "  background-color: var(--sklearn-color-background);\n",
       "  border-radius: 1rem;\n",
       "  height: 1rem;\n",
       "  width: 1rem;\n",
       "  text-decoration: none;\n",
       "  /* unfitted */\n",
       "  color: var(--sklearn-color-unfitted-level-1);\n",
       "  border: var(--sklearn-color-unfitted-level-1) 1pt solid;\n",
       "}\n",
       "\n",
       "#sk-container-id-1 a.estimator_doc_link.fitted {\n",
       "  /* fitted */\n",
       "  border: var(--sklearn-color-fitted-level-1) 1pt solid;\n",
       "  color: var(--sklearn-color-fitted-level-1);\n",
       "}\n",
       "\n",
       "/* On hover */\n",
       "#sk-container-id-1 a.estimator_doc_link:hover {\n",
       "  /* unfitted */\n",
       "  background-color: var(--sklearn-color-unfitted-level-3);\n",
       "  color: var(--sklearn-color-background);\n",
       "  text-decoration: none;\n",
       "}\n",
       "\n",
       "#sk-container-id-1 a.estimator_doc_link.fitted:hover {\n",
       "  /* fitted */\n",
       "  background-color: var(--sklearn-color-fitted-level-3);\n",
       "}\n",
       "</style><div id=\"sk-container-id-1\" class=\"sk-top-container\"><div class=\"sk-text-repr-fallback\"><pre>XGBClassifier(base_score=None, booster=None, callbacks=None,\n",
       "              colsample_bylevel=None, colsample_bynode=None, colsample_bytree=1,\n",
       "              device=None, early_stopping_rounds=None, enable_categorical=False,\n",
       "              eval_metric=None, feature_types=None, gamma=None,\n",
       "              grow_policy=None, importance_type=None,\n",
       "              interaction_constraints=None, learning_rate=0.1, max_bin=None,\n",
       "              max_cat_threshold=None, max_cat_to_onehot=None,\n",
       "              max_delta_step=None, max_depth=9, max_leaves=None,\n",
       "              min_child_weight=None, missing=nan, monotone_constraints=None,\n",
       "              multi_strategy=None, n_estimators=500, n_jobs=-1,\n",
       "              num_parallel_tree=None, random_state=None, ...)</pre><b>In a Jupyter environment, please rerun this cell to show the HTML representation or trust the notebook. <br />On GitHub, the HTML representation is unable to render, please try loading this page with nbviewer.org.</b></div><div class=\"sk-container\" hidden><div class=\"sk-item\"><div class=\"sk-estimator fitted sk-toggleable\"><input class=\"sk-toggleable__control sk-hidden--visually\" id=\"sk-estimator-id-1\" type=\"checkbox\" checked><label for=\"sk-estimator-id-1\" class=\"sk-toggleable__label fitted sk-toggleable__label-arrow fitted\">&nbsp;XGBClassifier<span class=\"sk-estimator-doc-link fitted\">i<span>Fitted</span></span></label><div class=\"sk-toggleable__content fitted\"><pre>XGBClassifier(base_score=None, booster=None, callbacks=None,\n",
       "              colsample_bylevel=None, colsample_bynode=None, colsample_bytree=1,\n",
       "              device=None, early_stopping_rounds=None, enable_categorical=False,\n",
       "              eval_metric=None, feature_types=None, gamma=None,\n",
       "              grow_policy=None, importance_type=None,\n",
       "              interaction_constraints=None, learning_rate=0.1, max_bin=None,\n",
       "              max_cat_threshold=None, max_cat_to_onehot=None,\n",
       "              max_delta_step=None, max_depth=9, max_leaves=None,\n",
       "              min_child_weight=None, missing=nan, monotone_constraints=None,\n",
       "              multi_strategy=None, n_estimators=500, n_jobs=-1,\n",
       "              num_parallel_tree=None, random_state=None, ...)</pre></div> </div></div></div></div>"
      ],
      "text/plain": [
       "XGBClassifier(base_score=None, booster=None, callbacks=None,\n",
       "              colsample_bylevel=None, colsample_bynode=None, colsample_bytree=1,\n",
       "              device=None, early_stopping_rounds=None, enable_categorical=False,\n",
       "              eval_metric=None, feature_types=None, gamma=None,\n",
       "              grow_policy=None, importance_type=None,\n",
       "              interaction_constraints=None, learning_rate=0.1, max_bin=None,\n",
       "              max_cat_threshold=None, max_cat_to_onehot=None,\n",
       "              max_delta_step=None, max_depth=9, max_leaves=None,\n",
       "              min_child_weight=None, missing=nan, monotone_constraints=None,\n",
       "              multi_strategy=None, n_estimators=500, n_jobs=-1,\n",
       "              num_parallel_tree=None, random_state=None, ...)"
      ]
     },
     "execution_count": 14,
     "metadata": {},
     "output_type": "execute_result"
    }
   ],
   "source": [
    "model.fit(X_train, y_train, verbose=False)"
   ]
  },
  {
   "cell_type": "code",
   "execution_count": 18,
   "id": "61b6bf3c-08f6-4fb6-8306-a61607836359",
   "metadata": {},
   "outputs": [],
   "source": [
    "#txm.save_model(model, \"xgb_model\")"
   ]
  },
  {
   "cell_type": "markdown",
   "id": "a903f53e-c5b7-44c2-b408-9ed939e8c302",
   "metadata": {},
   "source": [
    "## 3.b Load a pre-trained model"
   ]
  },
  {
   "cell_type": "markdown",
   "id": "736529c4-ae7f-4eff-915d-69bf4c104a48",
   "metadata": {},
   "source": [
    " Alternatively, it provides the option to load a pre-trained model, simplifying the process for routine analyses."
   ]
  },
  {
   "cell_type": "code",
   "execution_count": 19,
   "id": "31c68318-1244-42c1-af18-ab3ebe51fed3",
   "metadata": {},
   "outputs": [],
   "source": [
    "model = txm.load_xgb_model()"
   ]
  },
  {
   "cell_type": "markdown",
   "id": "2d4729e2",
   "metadata": {},
   "source": [
    "## 4. Match NCBI with GBIF dataset "
   ]
  },
  {
   "cell_type": "markdown",
   "id": "e9b3a248-fee2-4673-b484-902214c109e1",
   "metadata": {},
   "source": [
    "In this section, the focus is on comparing and aligning the taxonomic data from NCBI and GBIF datasets. It specifically targets the taxon \"Apidae\" to narrow down the analysis to a specific family of bees. Using a pre-trained machine learning model, the notebook matches records from both datasets, categorizing them as exact matches, unmatched, or potentially mislabeled due to typographical errors"
   ]
  },
  {
   "cell_type": "code",
   "execution_count": 15,
   "id": "379a86c6-7c69-46db-94b5-53dc159cb0bd",
   "metadata": {},
   "outputs": [],
   "source": [
    "gbif_arthropoda, ncbi_arthropoda = txm.select_taxonomic_clade(\"apidae\", gbif_dataset, ncbi_dataset) #\"formicidae\""
   ]
  },
  {
   "cell_type": "code",
   "execution_count": 20,
   "id": "4052b9b2-920c-4e52-8ca0-8978bb841779",
   "metadata": {},
   "outputs": [],
   "source": [
    "matched_df, unmatched_df, possible_typos_df = txm.match_dataset(gbif_arthropoda, ncbi_arthropoda, model2, tree_generation = True)"
   ]
  },
  {
   "cell_type": "markdown",
   "id": "9bd0098f-8a32-4f76-b825-e5c66ad9ba21",
   "metadata": {},
   "source": [
    "## 5. Generate the taxonomic tree "
   ]
  },
  {
   "cell_type": "markdown",
   "id": "78cb8f2a-2a79-4b26-a8d3-cadf50980287",
   "metadata": {},
   "source": [
    "In the last section, the notebook constructs a taxonomic tree from the matched and unmatched data between the GBIF and NCBI datasets, focusing on the Apidae family. This visual representation helps to illustrate the evolutionary relationships and classification hierarchy among the species. The tree is then converted into a dataframe for further analysis and saved in textual format for documentation and review purposes."
   ]
  },
  {
   "cell_type": "code",
   "execution_count": 20,
   "id": "b47152fc-4c7b-4a97-b601-954d81bc2f2c",
   "metadata": {},
   "outputs": [
    {
     "name": "stderr",
     "output_type": "stream",
     "text": [
      "/Users/mleone1/miniconda3/envs/test_2/lib/python3.12/site-packages/taxonmatch/tree_utils.py:667: FutureWarning: Downcasting behavior in Series and DataFrame methods 'where', 'mask', and 'clip' is deprecated. In a future version this will not infer object dtypes or cast all-round floats to integers. Instead call result.infer_objects(copy=False) for object inference, or cast round floats explicitly. To opt-in to the future behavior, set `pd.set_option('future.no_silent_downcasting', True)`\n",
      "  df.update(df_filtered_2)\n",
      "/Users/mleone1/miniconda3/envs/test_2/lib/python3.12/site-packages/taxonmatch/tree_utils.py:667: FutureWarning: Downcasting behavior in Series and DataFrame methods 'where', 'mask', and 'clip' is deprecated. In a future version this will not infer object dtypes or cast all-round floats to integers. Instead call result.infer_objects(copy=False) for object inference, or cast round floats explicitly. To opt-in to the future behavior, set `pd.set_option('future.no_silent_downcasting', True)`\n",
      "  df.update(df_filtered_2)\n"
     ]
    }
   ],
   "source": [
    "tree = txm.generate_taxonomic_tree(matched_df, unmatched_df)"
   ]
  },
  {
   "cell_type": "code",
   "execution_count": 21,
   "id": "11e4ac64-ca05-42ad-9516-d1974c43e6f2",
   "metadata": {
    "scrolled": true
   },
   "outputs": [],
   "source": [
    "#txm.print_tree(tree)"
   ]
  },
  {
   "cell_type": "code",
   "execution_count": 22,
   "id": "d57cb953-de55-4223-8249-811d76ff28a9",
   "metadata": {},
   "outputs": [],
   "source": [
    "cicadetta_tree = txm.reroot_tree(tree, root_name=\"cicadetta\")"
   ]
  },
  {
   "cell_type": "code",
   "execution_count": 23,
   "id": "1478d6c6-9048-4fa1-a2dd-d144dc36e675",
   "metadata": {
    "scrolled": true
   },
   "outputs": [
    {
     "name": "stdout",
     "output_type": "stream",
     "text": [
      "cicadetta (NCBI ID: 139461, GBIF ID: 4407744)\n",
      "├── cicadetta macedonica (NCBI ID: 1740319, GBIF ID: 7591128)\n",
      "├── cicadetta abscondita (NCBI ID: 2593298, GBIF ID: 7844511)\n",
      "├── cicadetta cantilatrix (NCBI ID: 1740312, GBIF ID: 7903126)\n",
      "├── cicadetta cerdaniensis (NCBI ID: 1740313, GBIF ID: 7491426)\n",
      "├── cicadetta hannekeae (NCBI ID: 1740317, GBIF ID: 7938246)\n",
      "├── cicadetta olympica (NCBI ID: 1740320, GBIF ID: 8176504)\n",
      "├── cicadetta sibillae (NCBI ID: 1740321, GBIF ID: 8466776)\n",
      "├── cicadetta fangoana (NCBI ID: 1740316, GBIF ID: 4482637)\n",
      "├── cicadetta anapaistica (NCBI ID: 1740310, GBIF ID: 8414980)\n",
      "│   ├── cicadetta anapaistica lucana (NCBI ID: 1889248, GBIF ID: 11198679)\n",
      "│   └── cicadetta anapaistica anapaistica (GBIF ID: 11192347)\n",
      "├── cicadetta brevipennis (NCBI ID: 1740311, GBIF ID: 7614613)\n",
      "│   ├── cicadetta brevipennis brevipennis (GBIF ID: 9428064)\n",
      "│   ├── cicadetta brevipennis litoralis (GBIF ID: 10243165)\n",
      "│   └── cicadetta brevipennis hippolaidica (GBIF ID: 11135606)\n",
      "├── cicadetta kissavi (NCBI ID: 1740318, GBIF ID: 8248604)\n",
      "├── cicadetta dirfica (NCBI ID: 1740315, GBIF ID: 8106826)\n",
      "├── cicadetta petryi (NCBI ID: 1889249, GBIF ID: 4482650)\n",
      "├── cicadetta pellosoma (NCBI ID: 179416, GBIF ID: 7782675)\n",
      "├── cicadetta concinna (NCBI ID: 1740314, GBIF ID: 4482645)\n",
      "│   ├── cicadetta concinna arachnocepta (GBIF ID: 9039515)\n",
      "│   └── cicadetta concinna concinna (GBIF ID: 8723819)\n",
      "├── cicadetta shansiensis (NCBI ID: 1210877, GBIF ID: 7890548)\n",
      "├── cicadetta montana (NCBI ID: 179415, GBIF ID: 9497766)\n",
      "│   ├── cicadetta montana montana (GBIF ID: 7343906)\n",
      "│   └── cicadetta montana peregrina (GBIF ID: 8754483)\n",
      "├── cicadettana camerona (NCBI ID: 1745387, GBIF ID: 9562301)\n",
      "├── cicadettana kansa (NCBI ID: 1464849)\n",
      "├── cicadetta calliope (NCBI ID: 139462)\n",
      "│   ├── cicadettana calliope calliope (NCBI ID: 1746195)\n",
      "│   └── cicadettana calliope floridensis (NCBI ID: 1746194, GBIF ID: 9281848)\n",
      "├── unclassified cicadetta (NCBI ID: 2638023)\n",
      "│   ├── cicadetta sp. 1 wxh-2012 (NCBI ID: 1210876)\n",
      "│   ├── cicadetta sp. 204es (NCBI ID: 1889246)\n",
      "│   └── cicadetta sp. 205es (NCBI ID: 1889247)\n",
      "├── cicadetta brevipennis sensu lato 439bg (NCBI ID: 1889244)\n",
      "├── cicadetta brevipennis sensu lato 440bg (NCBI ID: 1889245)\n",
      "├── cicadetta celis (NCBI ID: 140069)\n",
      "├── cicadetta radiator (NCBI ID: 179417)\n",
      "├── cicadetta afghanistanica (GBIF ID: 7518756)\n",
      "├── cicadetta diminuta (GBIF ID: 8201211)\n",
      "├── cicadetta hageni (GBIF ID: 4482653)\n",
      "├── cicadetta albipennis (GBIF ID: 4482651)\n",
      "├── cicadetta mediterranea (GBIF ID: 4482649)\n",
      "├── cicadetta haematophleps (GBIF ID: 7381536)\n",
      "├── cicadetta kollari (GBIF ID: 8163899)\n",
      "├── cicadetta petrophila (GBIF ID: 8282661)\n",
      "├── cicadetta inglisi (GBIF ID: 7717651)\n",
      "├── cicadetta inserta (GBIF ID: 8071451)\n",
      "├── cicadetta adbominalis (GBIF ID: 12219534)\n",
      "├── cicadetta walkerella (GBIF ID: 8368468)\n",
      "├── cicadetta pilosa (GBIF ID: 8330620)\n",
      "├── cicadetta nigropilosa (GBIF ID: 7732783)\n",
      "├── cicadetta transylvanica (GBIF ID: 7608384)\n",
      "├── cicadetta tumidifrons (GBIF ID: 8013357)\n",
      "├── cicadetta minuta (GBIF ID: 7909650)\n",
      "├── cicadetta intermedia (GBIF ID: 8116723)\n",
      "├── cicadetta chaharensis (GBIF ID: 7698150)\n",
      "├── cicadetta hodoharai (GBIF ID: 7765334)\n",
      "├── cicadetta juncta (GBIF ID: 4778490)\n",
      "├── cicadetta fraseri (GBIF ID: 7776067)\n",
      "├── cicadetta viridicincta (GBIF ID: 8488212)\n",
      "├── cicadetta konoi (GBIF ID: 7927294)\n",
      "├── cicadetta pieli (GBIF ID: 8002342)\n",
      "├── cicadetta tunisiaca (GBIF ID: 7507955)\n",
      "├── cicadetta laevifrons (GBIF ID: 8317574)\n",
      "└── cicadetta ventricosa (GBIF ID: 7358646)\n"
     ]
    }
   ],
   "source": [
    "txm.print_tree(cicadetta_tree)"
   ]
  },
  {
   "cell_type": "code",
   "execution_count": 24,
   "id": "0df04baf-8904-460b-a7b7-366c6ac09efb",
   "metadata": {},
   "outputs": [],
   "source": [
    "df_from_tree = txm.convert_tree_to_dataframe(tree, gbif_dataset[1], ncbi_dataset[1], \"df_arthropoda.txt\", index=False)"
   ]
  },
  {
   "cell_type": "code",
   "execution_count": 25,
   "id": "1a5c15e9-08c7-4ddb-895d-9bc0687f267e",
   "metadata": {},
   "outputs": [
    {
     "name": "stdout",
     "output_type": "stream",
     "text": [
      "The tree is saved as TXT in the file: ./tree_arthropoda.txt.\n"
     ]
    }
   ],
   "source": [
    "txm.save_tree(tree, \"./tree_arthropoda.txt\", output_format='txt')"
   ]
  },
  {
   "cell_type": "code",
   "execution_count": null,
   "id": "38113950-bc48-4148-b9b6-d86016270607",
   "metadata": {},
   "outputs": [],
   "source": []
  },
  {
   "cell_type": "markdown",
   "id": "89a97a71-729d-4904-b06e-e677f064ece6",
   "metadata": {},
   "source": [
    "## 6. Add iNaturalist information"
   ]
  },
  {
   "cell_type": "code",
   "execution_count": 29,
   "id": "d24ac9ed-5388-452d-b0bd-b92309a1ad0b",
   "metadata": {},
   "outputs": [
    {
     "name": "stdout",
     "output_type": "stream",
     "text": [
      "iNaturalist taxonomy data already downloaded.\n",
      "Processing samples...\n",
      "Done.\n"
     ]
    }
   ],
   "source": [
    "inat_dataset = txm.download_inat_taxonomy()"
   ]
  },
  {
   "cell_type": "code",
   "execution_count": 30,
   "id": "c5e08e1c-0ae0-4fe3-9223-59a812c75162",
   "metadata": {},
   "outputs": [],
   "source": [
    "inat_arthropoda = txm.select_inat_clade(inat_dataset, \"Arthropoda\")"
   ]
  },
  {
   "cell_type": "code",
   "execution_count": 31,
   "id": "e1ea807d-a8c8-4190-b13d-cbf021213186",
   "metadata": {},
   "outputs": [],
   "source": [
    "inat_tree = txm.add_inat_taxonomy(tree, inat_arthropoda)"
   ]
  },
  {
   "cell_type": "code",
   "execution_count": 32,
   "id": "368e8c0b-0431-48d9-99be-95b47fa60223",
   "metadata": {},
   "outputs": [],
   "source": [
    "df_with_inat = txm.convert_tree_to_dataframe(inat_tree, gbif_dataset[1], ncbi_dataset[1], \"MoultDB_backbone_v5.1.txt\", inat_dataset=inat_arthropoda, index=True)"
   ]
  },
  {
   "cell_type": "code",
   "execution_count": 33,
   "id": "1d46141b-848f-4ca7-9171-28a70c596fe6",
   "metadata": {
    "scrolled": true
   },
   "outputs": [],
   "source": [
    "#txm.print_tree(inat_tree)"
   ]
  },
  {
   "cell_type": "code",
   "execution_count": 34,
   "id": "7f91f81e-3b0e-49ab-b294-1d816b9413ca",
   "metadata": {},
   "outputs": [
    {
     "name": "stdout",
     "output_type": "stream",
     "text": [
      "The tree is saved as TXT in the file: final_tree_arthropoda.txt.\n"
     ]
    }
   ],
   "source": [
    "txm.save_tree(inat_tree, \"final_tree_arthropoda.txt\", output_format='txt')"
   ]
  },
  {
   "cell_type": "code",
   "execution_count": null,
   "id": "032bb184-c4a0-4b18-8cf3-87c2f7055f09",
   "metadata": {},
   "outputs": [],
   "source": []
  },
  {
   "cell_type": "code",
   "execution_count": null,
   "id": "9cff988c-3b07-4b5e-a668-eb44524be196",
   "metadata": {},
   "outputs": [],
   "source": []
  }
 ],
 "metadata": {
  "kernelspec": {
   "display_name": "Python 3 (ipykernel)",
   "language": "python",
   "name": "python3"
  },
  "language_info": {
   "codemirror_mode": {
    "name": "ipython",
    "version": 3
   },
   "file_extension": ".py",
   "mimetype": "text/x-python",
   "name": "python",
   "nbconvert_exporter": "python",
   "pygments_lexer": "ipython3",
   "version": "3.12.4"
  }
 },
 "nbformat": 4,
 "nbformat_minor": 5
}
