{
 "cells": [
  {
   "cell_type": "markdown",
   "id": "61e1c29a-55b5-4cd5-9811-72f84dee84a2",
   "metadata": {},
   "source": [
    "# Analyzing Arthropoda Taxonomy: Integrating GBIF, NCBI and iNaturalist Data"
   ]
  },
  {
   "attachments": {},
   "cell_type": "markdown",
   "id": "042224f1-32a1-45d7-8958-e0a51bcaa556",
   "metadata": {},
   "source": [
    "![title](https://wallpapercave.com/wp/wp1870417.jpg)"
   ]
  },
  {
   "cell_type": "markdown",
   "id": "c0faa846-70dd-4bb0-b51d-1a787438a3d7",
   "metadata": {},
   "source": [
    "This Python notebook is designed for the purpose of integrating taxonomic data from two major biological databases, GBIF (Global Biodiversity Information Facility) and NCBI (National Center for Biotechnology Information) and iNaturalist, to enhance the accuracy and comprehensiveness of ecological and biological research. GBIF primarily focuses on biodiversity data including species distribution and ecological information, whereas NCBI provides a broader range of data including genomic and taxonomic details. \n",
    "\n",
    "Combining these sources enables researchers to cross-validate species identifications and improve the richness of ecological datasets with genetic information. A key biological task performed in this notebook is the construction of a taxonomic tree, which helps in visualizing and understanding the evolutionary relationships and classification hierarchy among different species within a chosen taxon (in this case, the Arthropda pyhlum)."
   ]
  },
  {
   "cell_type": "markdown",
   "id": "37bb79a2",
   "metadata": {},
   "source": [
    "## 1. Importing libraries"
   ]
  },
  {
   "cell_type": "code",
   "execution_count": null,
   "id": "0b648242",
   "metadata": {},
   "outputs": [],
   "source": [
    "import pandas as pd\n",
    "pd.set_option('display.max_colwidth', None)"
   ]
  },
  {
   "cell_type": "code",
   "execution_count": null,
   "id": "2d48547a-bc68-4298-9181-0d8ebdc63262",
   "metadata": {},
   "outputs": [],
   "source": [
    "import taxonmatch as txm"
   ]
  },
  {
   "cell_type": "markdown",
   "id": "f3a25bee-fe59-42c3-97ed-e8e646bd3071",
   "metadata": {},
   "source": [
    "## 2. Downloading and processing samples"
   ]
  },
  {
   "cell_type": "markdown",
   "id": "498cecca-0073-43e9-b2a8-225cac66113d",
   "metadata": {},
   "source": [
    "The initial steps involve downloading the most recent taxonomic data from GBIF and NCBI to ensure the analysis is based on the latest available information. "
   ]
  },
  {
   "cell_type": "code",
   "execution_count": null,
   "id": "96a78a02",
   "metadata": {},
   "outputs": [],
   "source": [
    "gbif_dataset = txm.download_gbif_taxonomy()"
   ]
  },
  {
   "cell_type": "code",
   "execution_count": null,
   "id": "600be659",
   "metadata": {},
   "outputs": [],
   "source": [
    "ncbi_dataset = txm.download_ncbi_taxonomy()"
   ]
  },
  {
   "cell_type": "markdown",
   "id": "ec55f447-cb40-4f54-9d56-ab52c1c091df",
   "metadata": {},
   "source": [
    "## 2.1 Checking Inconsistencies in nomenclature"
   ]
  },
  {
   "cell_type": "markdown",
   "id": "3d86fe9e-ecb7-4d6c-94af-3c26b80a2d02",
   "metadata": {},
   "source": [
    "Matching based on canonical names between the GBIF and NCBI datasets is unreliable due to significant taxonomic inconsistencies. In particular, the same canonical name may be assigned to multiple kingdoms, highlighting classification discrepancies. Even when the taxonomic status is accepted, the taxonomic structures in GBIF and NCBI can differ substantially. This necessitates filtering and evaluating differences before considering a match valid, preventing false correspondences between incongruent taxonomies."
   ]
  },
  {
   "cell_type": "code",
   "execution_count": null,
   "id": "d6852031-d96d-479a-aca2-ba590ae5cced",
   "metadata": {},
   "outputs": [],
   "source": [
    "df_inconsistencies = txm.get_inconsistencies(gbif_dataset, ncbi_dataset)"
   ]
  },
  {
   "cell_type": "code",
   "execution_count": null,
   "id": "483e1c20-93fd-4151-8510-a3fc5d23177c",
   "metadata": {},
   "outputs": [],
   "source": [
    "df_inconsistencies.sample(5)"
   ]
  },
  {
   "cell_type": "markdown",
   "id": "d791a166",
   "metadata": {},
   "source": [
    "## 3.a Training the classifier from scratch"
   ]
  },
  {
   "cell_type": "markdown",
   "id": "96c04fd4-af7a-4009-a33d-9e0b3dae1661",
   "metadata": {},
   "source": [
    "If required, the notebook outlines steps to train a machine learning classifier to distinguish between correct and incorrect taxonomic matches. This involves generating positive and negative examples, preparing the training dataset, and comparing different models."
   ]
  },
  {
   "cell_type": "code",
   "execution_count": null,
   "id": "262e9267",
   "metadata": {},
   "outputs": [],
   "source": [
    "#positive_matches = txm.generate_positive_set(gbif_dataset, ncbi_dataset, 25000)"
   ]
  },
  {
   "cell_type": "code",
   "execution_count": null,
   "id": "3121bb6d",
   "metadata": {},
   "outputs": [],
   "source": [
    "#negative_matches = txm.generate_negative_set(gbif_dataset, ncbi_dataset, 25000)"
   ]
  },
  {
   "cell_type": "code",
   "execution_count": null,
   "id": "96858b5b-b5fe-400e-8321-dfc5effa0267",
   "metadata": {},
   "outputs": [],
   "source": [
    "#full_training_set = txm.prepare_data(positive_matches, negative_matches)"
   ]
  },
  {
   "cell_type": "code",
   "execution_count": null,
   "id": "2e638cbb-5f25-4b49-8ab4-1ebea0e5b6ce",
   "metadata": {},
   "outputs": [],
   "source": [
    "#full_training_set.to_csv(\"training_set.txt\", index = False)"
   ]
  },
  {
   "cell_type": "code",
   "execution_count": null,
   "id": "add84e22",
   "metadata": {},
   "outputs": [],
   "source": [
    "#X_train, X_test, y_train, y_test = txm.generate_training_test(full_training_set)"
   ]
  },
  {
   "cell_type": "code",
   "execution_count": null,
   "id": "a4428617",
   "metadata": {},
   "outputs": [],
   "source": [
    "#model = txm.XGBClassifier(learning_rate=0.1,n_estimators=500, max_depth=9, n_jobs=-1, colsample_bytree = 1, subsample = 0.8)"
   ]
  },
  {
   "cell_type": "code",
   "execution_count": null,
   "id": "560276c3-6c40-41da-af49-6e1a8ed156f5",
   "metadata": {},
   "outputs": [],
   "source": [
    "#model.fit(X_train, y_train, verbose=False)"
   ]
  },
  {
   "cell_type": "code",
   "execution_count": null,
   "id": "61b6bf3c-08f6-4fb6-8306-a61607836359",
   "metadata": {},
   "outputs": [],
   "source": [
    "#model.save_model(\"xgb_model.json\")"
   ]
  },
  {
   "cell_type": "markdown",
   "id": "a903f53e-c5b7-44c2-b408-9ed939e8c302",
   "metadata": {},
   "source": [
    "## 3.b Compare and load pre-trained models"
   ]
  },
  {
   "cell_type": "markdown",
   "id": "736529c4-ae7f-4eff-915d-69bf4c104a48",
   "metadata": {},
   "source": [
    " Alternatively, it provides the option to load a pre-trained model, simplifying the process for routine analyses."
   ]
  },
  {
   "cell_type": "code",
   "execution_count": null,
   "id": "31c68318-1244-42c1-af18-ab3ebe51fed3",
   "metadata": {},
   "outputs": [],
   "source": [
    "model = txm.load_xgb_model() "
   ]
  },
  {
   "cell_type": "code",
   "execution_count": null,
   "id": "598e2fa7-a36f-4332-8c73-335bf5e770dd",
   "metadata": {},
   "outputs": [],
   "source": []
  },
  {
   "cell_type": "markdown",
   "id": "ae0ce9c7-1eeb-4e3a-b958-80145dbb4b0d",
   "metadata": {},
   "source": [
    "The following steps explain why XGBoost was selected as the default model in TaxonMatch."
   ]
  },
  {
   "cell_type": "code",
   "execution_count": null,
   "id": "7d1fbbee-e0d8-4cb6-9079-45516e49530f",
   "metadata": {},
   "outputs": [],
   "source": [
    "full_training_set = txm.load_training_set()"
   ]
  },
  {
   "cell_type": "code",
   "execution_count": null,
   "id": "9a89b211-8bc5-482b-8d84-53fe09c0b5ab",
   "metadata": {},
   "outputs": [],
   "source": [
    "X_train, X_test, y_train, y_test = txm.generate_training_test(full_training_set)"
   ]
  },
  {
   "cell_type": "code",
   "execution_count": null,
   "id": "ce5e2f07-fb67-42f0-8e3c-899df10fe80a",
   "metadata": {},
   "outputs": [],
   "source": [
    "df_results, trained_models = txm.compare_models(X_train, X_test, y_train, y_test, cv_folds=5, random_seed=42)"
   ]
  },
  {
   "cell_type": "code",
   "execution_count": null,
   "id": "9ca0a1eb-ef3e-4b28-8d1a-a506c5bc7e46",
   "metadata": {},
   "outputs": [],
   "source": [
    "df_results"
   ]
  },
  {
   "cell_type": "code",
   "execution_count": null,
   "id": "6f43e425-d299-4511-9bbd-aa8df7062440",
   "metadata": {},
   "outputs": [],
   "source": [
    "txm.plot_roc_curves(trained_models, X_test, y_test, top_n=10, save_path=\"./roc_top10.png\")"
   ]
  },
  {
   "cell_type": "code",
   "execution_count": null,
   "id": "bdcc41c4-1c55-487e-9e57-58ff41f23084",
   "metadata": {},
   "outputs": [],
   "source": []
  },
  {
   "cell_type": "code",
   "execution_count": null,
   "id": "2bf7f7f8-f92a-489e-b775-18a36c78469b",
   "metadata": {},
   "outputs": [],
   "source": []
  },
  {
   "cell_type": "markdown",
   "id": "2d4729e2",
   "metadata": {},
   "source": [
    "## 4. Match NCBI with GBIF dataset "
   ]
  },
  {
   "cell_type": "markdown",
   "id": "e9b3a248-fee2-4673-b484-902214c109e1",
   "metadata": {},
   "source": [
    "In this section, the focus is on comparing and aligning the taxonomic data from NCBI and GBIF datasets. It specifically targets the taxon \"Arthropoda\" to narrow down the analysis of this clade. Using a pre-trained machine learning model, the notebook matches records from both datasets, categorizing them as exact matches, unmatched, or potentially mislabeled due to typographical errors"
   ]
  },
  {
   "cell_type": "code",
   "execution_count": null,
   "id": "379a86c6-7c69-46db-94b5-53dc159cb0bd",
   "metadata": {},
   "outputs": [],
   "source": [
    "gbif_arthropoda, ncbi_arthropoda = txm.select_taxonomic_clade(\"arthropoda\", gbif_dataset, ncbi_dataset)"
   ]
  },
  {
   "cell_type": "code",
   "execution_count": null,
   "id": "4052b9b2-920c-4e52-8ca0-8978bb841779",
   "metadata": {},
   "outputs": [],
   "source": [
    "matched_df, unmatched_df, possible_typos_df = txm.match_dataset(gbif_arthropoda, ncbi_arthropoda, model, tree_generation = True)"
   ]
  },
  {
   "cell_type": "markdown",
   "id": "9bd0098f-8a32-4f76-b825-e5c66ad9ba21",
   "metadata": {},
   "source": [
    "## 5. Generate the taxonomic tree "
   ]
  },
  {
   "cell_type": "markdown",
   "id": "78cb8f2a-2a79-4b26-a8d3-cadf50980287",
   "metadata": {},
   "source": [
    "In the last section, the notebook constructs a taxonomic tree from the matched and unmatched data between the GBIF and NCBI datasets, focusing on the Arthropoda phylum. This visual representation helps to illustrate the evolutionary relationships and classification hierarchy among the species. The tree is then converted into a dataframe for further analysis and saved in textual format for documentation and review purposes."
   ]
  },
  {
   "cell_type": "code",
   "execution_count": null,
   "id": "b47152fc-4c7b-4a97-b601-954d81bc2f2c",
   "metadata": {},
   "outputs": [],
   "source": [
    "tree = txm.generate_taxonomic_tree(matched_df, unmatched_df)"
   ]
  },
  {
   "cell_type": "code",
   "execution_count": null,
   "id": "11e4ac64-ca05-42ad-9516-d1974c43e6f2",
   "metadata": {
    "scrolled": true
   },
   "outputs": [],
   "source": [
    "#txm.print_tree(tree)"
   ]
  },
  {
   "cell_type": "code",
   "execution_count": null,
   "id": "d57cb953-de55-4223-8249-811d76ff28a9",
   "metadata": {},
   "outputs": [],
   "source": [
    "cicadetta_tree = txm.reroot_tree(tree, root_name=\"cicadetta\")"
   ]
  },
  {
   "cell_type": "code",
   "execution_count": null,
   "id": "1478d6c6-9048-4fa1-a2dd-d144dc36e675",
   "metadata": {
    "scrolled": true
   },
   "outputs": [],
   "source": [
    "txm.print_tree(cicadetta_tree)"
   ]
  },
  {
   "cell_type": "code",
   "execution_count": null,
   "id": "0df04baf-8904-460b-a7b7-366c6ac09efb",
   "metadata": {},
   "outputs": [],
   "source": [
    "df_from_tree = txm.convert_tree_to_dataframe(tree, gbif_dataset[1], ncbi_dataset[1], \"df_arthropoda.txt\", index=False)"
   ]
  },
  {
   "cell_type": "code",
   "execution_count": null,
   "id": "1a5c15e9-08c7-4ddb-895d-9bc0687f267e",
   "metadata": {},
   "outputs": [],
   "source": [
    "txm.save_tree(tree, \"./arthropoda_tree.txt\", output_format='txt')"
   ]
  },
  {
   "cell_type": "markdown",
   "id": "89a97a71-729d-4904-b06e-e677f064ece6",
   "metadata": {},
   "source": [
    "## 6. Add iNaturalist information"
   ]
  },
  {
   "cell_type": "code",
   "execution_count": null,
   "id": "d24ac9ed-5388-452d-b0bd-b92309a1ad0b",
   "metadata": {},
   "outputs": [],
   "source": [
    "inat_dataset = txm.download_inat_taxonomy()"
   ]
  },
  {
   "cell_type": "code",
   "execution_count": null,
   "id": "e1ea807d-a8c8-4190-b13d-cbf021213186",
   "metadata": {},
   "outputs": [],
   "source": [
    "inat_tree = txm.add_inat_taxonomy(tree, inat_dataset)"
   ]
  },
  {
   "cell_type": "code",
   "execution_count": null,
   "id": "b483f8dd-1d9c-4a2b-8dec-8f84789b8985",
   "metadata": {},
   "outputs": [],
   "source": [
    "cicadetta_tree_with_inat = txm.reroot_tree(inat_tree, root_name=\"cicadetta\")"
   ]
  },
  {
   "cell_type": "code",
   "execution_count": null,
   "id": "57764f43-73b2-4a1c-8fd2-482197fbaa30",
   "metadata": {},
   "outputs": [],
   "source": [
    "txm.print_tree(cicadetta_tree_with_inat)"
   ]
  },
  {
   "cell_type": "code",
   "execution_count": null,
   "id": "368e8c0b-0431-48d9-99be-95b47fa60223",
   "metadata": {},
   "outputs": [],
   "source": [
    "df_with_inat = txm.convert_tree_to_dataframe(inat_tree, gbif_dataset[1], ncbi_dataset[1], \"df_arthropoda_with_inat.txt\", inat_dataset=inat_dataset, index=True)"
   ]
  },
  {
   "cell_type": "code",
   "execution_count": null,
   "id": "7f91f81e-3b0e-49ab-b294-1d816b9413ca",
   "metadata": {},
   "outputs": [],
   "source": [
    "txm.save_tree(inat_tree, \"arthropoda_tree_with_inat.txt\", output_format='txt')"
   ]
  },
  {
   "cell_type": "code",
   "execution_count": null,
   "id": "bf73086e-aedf-4a62-815d-bed7e40502fa",
   "metadata": {},
   "outputs": [],
   "source": []
  },
  {
   "cell_type": "code",
   "execution_count": null,
   "id": "60b2ad23-b573-46d5-8c7a-c3cdf69d152e",
   "metadata": {},
   "outputs": [],
   "source": []
  }
 ],
 "metadata": {
  "kernelspec": {
   "display_name": "Python 3 (ipykernel)",
   "language": "python",
   "name": "python3"
  },
  "language_info": {
   "codemirror_mode": {
    "name": "ipython",
    "version": 3
   },
   "file_extension": ".py",
   "mimetype": "text/x-python",
   "name": "python",
   "nbconvert_exporter": "python",
   "pygments_lexer": "ipython3",
   "version": "3.12.4"
  }
 },
 "nbformat": 4,
 "nbformat_minor": 5
}
