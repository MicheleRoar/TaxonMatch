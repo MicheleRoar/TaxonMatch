{
 "cells": [
  {
   "cell_type": "markdown",
   "id": "e48c6009-b8f3-48f8-acbf-ca2f32bb5852",
   "metadata": {},
   "source": [
    "# Analyzing Arthropoda Taxonomy: Integrating GBIF and NCBI Data"
   ]
  },
  {
   "attachments": {},
   "cell_type": "markdown",
   "id": "ed34893e-8be3-42b7-b526-dd64e2bab3a4",
   "metadata": {},
   "source": [
    "![title](https://wallpapercave.com/wp/wp1870417.jpg)"
   ]
  },
  {
   "cell_type": "markdown",
   "id": "36c11ee1-f342-400a-83ba-45024eabaa54",
   "metadata": {},
   "source": [
    "This Python notebook is designed for the purpose of integrating taxonomic data from two major biological databases, GBIF (Global Biodiversity Information Facility) and NCBI (National Center for Biotechnology Information), to enhance the accuracy and comprehensiveness of ecological and biological research. GBIF primarily focuses on biodiversity data including species distribution and ecological information, whereas NCBI provides a broader range of data including genomic and taxonomic details. \n",
    "\n",
    "Combining these sources enables researchers to cross-validate species identifications and improve the richness of ecological datasets with genetic information. A key biological task performed in this notebook is the construction of a taxonomic tree, which helps in visualizing and understanding the evolutionary relationships and classification hierarchy among different species within a chosen taxon (in this case, the Arthropda pyhlum)."
   ]
  },
  {
   "cell_type": "markdown",
   "id": "37bb79a2",
   "metadata": {},
   "source": [
    "## 1. Importing libraries"
   ]
  },
  {
   "cell_type": "code",
   "execution_count": 1,
   "id": "0b648242",
   "metadata": {},
   "outputs": [
    {
     "ename": "ValueError",
     "evalue": "numpy.dtype size changed, may indicate binary incompatibility. Expected 96 from C header, got 88 from PyObject",
     "output_type": "error",
     "traceback": [
      "\u001b[0;31m---------------------------------------------------------------------------\u001b[0m",
      "\u001b[0;31mValueError\u001b[0m                                Traceback (most recent call last)",
      "Cell \u001b[0;32mIn[1], line 1\u001b[0m\n\u001b[0;32m----> 1\u001b[0m \u001b[38;5;28;01mimport\u001b[39;00m \u001b[38;5;21;01mpandas\u001b[39;00m \u001b[38;5;28;01mas\u001b[39;00m \u001b[38;5;21;01mpd\u001b[39;00m\n\u001b[1;32m      2\u001b[0m pd\u001b[38;5;241m.\u001b[39mset_option(\u001b[38;5;124m'\u001b[39m\u001b[38;5;124mdisplay.max_colwidth\u001b[39m\u001b[38;5;124m'\u001b[39m, \u001b[38;5;28;01mNone\u001b[39;00m)\n",
      "File \u001b[0;32m~/miniconda3/envs/test_1/lib/python3.12/site-packages/pandas/__init__.py:49\u001b[0m\n\u001b[1;32m     46\u001b[0m \u001b[38;5;66;03m# let init-time option registration happen\u001b[39;00m\n\u001b[1;32m     47\u001b[0m \u001b[38;5;28;01mimport\u001b[39;00m \u001b[38;5;21;01mpandas\u001b[39;00m\u001b[38;5;21;01m.\u001b[39;00m\u001b[38;5;21;01mcore\u001b[39;00m\u001b[38;5;21;01m.\u001b[39;00m\u001b[38;5;21;01mconfig_init\u001b[39;00m  \u001b[38;5;66;03m# pyright: ignore[reportUnusedImport] # noqa: F401\u001b[39;00m\n\u001b[0;32m---> 49\u001b[0m \u001b[38;5;28;01mfrom\u001b[39;00m \u001b[38;5;21;01mpandas\u001b[39;00m\u001b[38;5;21;01m.\u001b[39;00m\u001b[38;5;21;01mcore\u001b[39;00m\u001b[38;5;21;01m.\u001b[39;00m\u001b[38;5;21;01mapi\u001b[39;00m \u001b[38;5;28;01mimport\u001b[39;00m (\n\u001b[1;32m     50\u001b[0m     \u001b[38;5;66;03m# dtype\u001b[39;00m\n\u001b[1;32m     51\u001b[0m     ArrowDtype,\n\u001b[1;32m     52\u001b[0m     Int8Dtype,\n\u001b[1;32m     53\u001b[0m     Int16Dtype,\n\u001b[1;32m     54\u001b[0m     Int32Dtype,\n\u001b[1;32m     55\u001b[0m     Int64Dtype,\n\u001b[1;32m     56\u001b[0m     UInt8Dtype,\n\u001b[1;32m     57\u001b[0m     UInt16Dtype,\n\u001b[1;32m     58\u001b[0m     UInt32Dtype,\n\u001b[1;32m     59\u001b[0m     UInt64Dtype,\n\u001b[1;32m     60\u001b[0m     Float32Dtype,\n\u001b[1;32m     61\u001b[0m     Float64Dtype,\n\u001b[1;32m     62\u001b[0m     CategoricalDtype,\n\u001b[1;32m     63\u001b[0m     PeriodDtype,\n\u001b[1;32m     64\u001b[0m     IntervalDtype,\n\u001b[1;32m     65\u001b[0m     DatetimeTZDtype,\n\u001b[1;32m     66\u001b[0m     StringDtype,\n\u001b[1;32m     67\u001b[0m     BooleanDtype,\n\u001b[1;32m     68\u001b[0m     \u001b[38;5;66;03m# missing\u001b[39;00m\n\u001b[1;32m     69\u001b[0m     NA,\n\u001b[1;32m     70\u001b[0m     isna,\n\u001b[1;32m     71\u001b[0m     isnull,\n\u001b[1;32m     72\u001b[0m     notna,\n\u001b[1;32m     73\u001b[0m     notnull,\n\u001b[1;32m     74\u001b[0m     \u001b[38;5;66;03m# indexes\u001b[39;00m\n\u001b[1;32m     75\u001b[0m     Index,\n\u001b[1;32m     76\u001b[0m     CategoricalIndex,\n\u001b[1;32m     77\u001b[0m     RangeIndex,\n\u001b[1;32m     78\u001b[0m     MultiIndex,\n\u001b[1;32m     79\u001b[0m     IntervalIndex,\n\u001b[1;32m     80\u001b[0m     TimedeltaIndex,\n\u001b[1;32m     81\u001b[0m     DatetimeIndex,\n\u001b[1;32m     82\u001b[0m     PeriodIndex,\n\u001b[1;32m     83\u001b[0m     IndexSlice,\n\u001b[1;32m     84\u001b[0m     \u001b[38;5;66;03m# tseries\u001b[39;00m\n\u001b[1;32m     85\u001b[0m     NaT,\n\u001b[1;32m     86\u001b[0m     Period,\n\u001b[1;32m     87\u001b[0m     period_range,\n\u001b[1;32m     88\u001b[0m     Timedelta,\n\u001b[1;32m     89\u001b[0m     timedelta_range,\n\u001b[1;32m     90\u001b[0m     Timestamp,\n\u001b[1;32m     91\u001b[0m     date_range,\n\u001b[1;32m     92\u001b[0m     bdate_range,\n\u001b[1;32m     93\u001b[0m     Interval,\n\u001b[1;32m     94\u001b[0m     interval_range,\n\u001b[1;32m     95\u001b[0m     DateOffset,\n\u001b[1;32m     96\u001b[0m     \u001b[38;5;66;03m# conversion\u001b[39;00m\n\u001b[1;32m     97\u001b[0m     to_numeric,\n\u001b[1;32m     98\u001b[0m     to_datetime,\n\u001b[1;32m     99\u001b[0m     to_timedelta,\n\u001b[1;32m    100\u001b[0m     \u001b[38;5;66;03m# misc\u001b[39;00m\n\u001b[1;32m    101\u001b[0m     Flags,\n\u001b[1;32m    102\u001b[0m     Grouper,\n\u001b[1;32m    103\u001b[0m     factorize,\n\u001b[1;32m    104\u001b[0m     unique,\n\u001b[1;32m    105\u001b[0m     value_counts,\n\u001b[1;32m    106\u001b[0m     NamedAgg,\n\u001b[1;32m    107\u001b[0m     array,\n\u001b[1;32m    108\u001b[0m     Categorical,\n\u001b[1;32m    109\u001b[0m     set_eng_float_format,\n\u001b[1;32m    110\u001b[0m     Series,\n\u001b[1;32m    111\u001b[0m     DataFrame,\n\u001b[1;32m    112\u001b[0m )\n\u001b[1;32m    114\u001b[0m \u001b[38;5;28;01mfrom\u001b[39;00m \u001b[38;5;21;01mpandas\u001b[39;00m\u001b[38;5;21;01m.\u001b[39;00m\u001b[38;5;21;01mcore\u001b[39;00m\u001b[38;5;21;01m.\u001b[39;00m\u001b[38;5;21;01mdtypes\u001b[39;00m\u001b[38;5;21;01m.\u001b[39;00m\u001b[38;5;21;01mdtypes\u001b[39;00m \u001b[38;5;28;01mimport\u001b[39;00m SparseDtype\n\u001b[1;32m    116\u001b[0m \u001b[38;5;28;01mfrom\u001b[39;00m \u001b[38;5;21;01mpandas\u001b[39;00m\u001b[38;5;21;01m.\u001b[39;00m\u001b[38;5;21;01mtseries\u001b[39;00m\u001b[38;5;21;01m.\u001b[39;00m\u001b[38;5;21;01mapi\u001b[39;00m \u001b[38;5;28;01mimport\u001b[39;00m infer_freq\n",
      "File \u001b[0;32m~/miniconda3/envs/test_1/lib/python3.12/site-packages/pandas/core/api.py:1\u001b[0m\n\u001b[0;32m----> 1\u001b[0m \u001b[38;5;28;01mfrom\u001b[39;00m \u001b[38;5;21;01mpandas\u001b[39;00m\u001b[38;5;21;01m.\u001b[39;00m\u001b[38;5;21;01m_libs\u001b[39;00m \u001b[38;5;28;01mimport\u001b[39;00m (\n\u001b[1;32m      2\u001b[0m     NaT,\n\u001b[1;32m      3\u001b[0m     Period,\n\u001b[1;32m      4\u001b[0m     Timedelta,\n\u001b[1;32m      5\u001b[0m     Timestamp,\n\u001b[1;32m      6\u001b[0m )\n\u001b[1;32m      7\u001b[0m \u001b[38;5;28;01mfrom\u001b[39;00m \u001b[38;5;21;01mpandas\u001b[39;00m\u001b[38;5;21;01m.\u001b[39;00m\u001b[38;5;21;01m_libs\u001b[39;00m\u001b[38;5;21;01m.\u001b[39;00m\u001b[38;5;21;01mmissing\u001b[39;00m \u001b[38;5;28;01mimport\u001b[39;00m NA\n\u001b[1;32m      9\u001b[0m \u001b[38;5;28;01mfrom\u001b[39;00m \u001b[38;5;21;01mpandas\u001b[39;00m\u001b[38;5;21;01m.\u001b[39;00m\u001b[38;5;21;01mcore\u001b[39;00m\u001b[38;5;21;01m.\u001b[39;00m\u001b[38;5;21;01mdtypes\u001b[39;00m\u001b[38;5;21;01m.\u001b[39;00m\u001b[38;5;21;01mdtypes\u001b[39;00m \u001b[38;5;28;01mimport\u001b[39;00m (\n\u001b[1;32m     10\u001b[0m     ArrowDtype,\n\u001b[1;32m     11\u001b[0m     CategoricalDtype,\n\u001b[0;32m   (...)\u001b[0m\n\u001b[1;32m     14\u001b[0m     PeriodDtype,\n\u001b[1;32m     15\u001b[0m )\n",
      "File \u001b[0;32m~/miniconda3/envs/test_1/lib/python3.12/site-packages/pandas/_libs/__init__.py:18\u001b[0m\n\u001b[1;32m     16\u001b[0m \u001b[38;5;28;01mimport\u001b[39;00m \u001b[38;5;21;01mpandas\u001b[39;00m\u001b[38;5;21;01m.\u001b[39;00m\u001b[38;5;21;01m_libs\u001b[39;00m\u001b[38;5;21;01m.\u001b[39;00m\u001b[38;5;21;01mpandas_parser\u001b[39;00m  \u001b[38;5;66;03m# isort: skip # type: ignore[reportUnusedImport]\u001b[39;00m\n\u001b[1;32m     17\u001b[0m \u001b[38;5;28;01mimport\u001b[39;00m \u001b[38;5;21;01mpandas\u001b[39;00m\u001b[38;5;21;01m.\u001b[39;00m\u001b[38;5;21;01m_libs\u001b[39;00m\u001b[38;5;21;01m.\u001b[39;00m\u001b[38;5;21;01mpandas_datetime\u001b[39;00m  \u001b[38;5;66;03m# noqa: F401 # isort: skip # type: ignore[reportUnusedImport]\u001b[39;00m\n\u001b[0;32m---> 18\u001b[0m \u001b[38;5;28;01mfrom\u001b[39;00m \u001b[38;5;21;01mpandas\u001b[39;00m\u001b[38;5;21;01m.\u001b[39;00m\u001b[38;5;21;01m_libs\u001b[39;00m\u001b[38;5;21;01m.\u001b[39;00m\u001b[38;5;21;01minterval\u001b[39;00m \u001b[38;5;28;01mimport\u001b[39;00m Interval\n\u001b[1;32m     19\u001b[0m \u001b[38;5;28;01mfrom\u001b[39;00m \u001b[38;5;21;01mpandas\u001b[39;00m\u001b[38;5;21;01m.\u001b[39;00m\u001b[38;5;21;01m_libs\u001b[39;00m\u001b[38;5;21;01m.\u001b[39;00m\u001b[38;5;21;01mtslibs\u001b[39;00m \u001b[38;5;28;01mimport\u001b[39;00m (\n\u001b[1;32m     20\u001b[0m     NaT,\n\u001b[1;32m     21\u001b[0m     NaTType,\n\u001b[0;32m   (...)\u001b[0m\n\u001b[1;32m     26\u001b[0m     iNaT,\n\u001b[1;32m     27\u001b[0m )\n",
      "File \u001b[0;32minterval.pyx:1\u001b[0m, in \u001b[0;36minit pandas._libs.interval\u001b[0;34m()\u001b[0m\n",
      "\u001b[0;31mValueError\u001b[0m: numpy.dtype size changed, may indicate binary incompatibility. Expected 96 from C header, got 88 from PyObject"
     ]
    }
   ],
   "source": [
    "import pandas as pd\n",
    "pd.set_option('display.max_colwidth', None)"
   ]
  },
  {
   "cell_type": "code",
   "execution_count": 7,
   "id": "2d48547a-bc68-4298-9181-0d8ebdc63262",
   "metadata": {},
   "outputs": [
    {
     "ename": "ValueError",
     "evalue": "numpy.dtype size changed, may indicate binary incompatibility. Expected 96 from C header, got 88 from PyObject",
     "output_type": "error",
     "traceback": [
      "\u001b[0;31m---------------------------------------------------------------------------\u001b[0m",
      "\u001b[0;31mValueError\u001b[0m                                Traceback (most recent call last)",
      "Cell \u001b[0;32mIn[7], line 1\u001b[0m\n\u001b[0;32m----> 1\u001b[0m \u001b[38;5;28;01mimport\u001b[39;00m \u001b[38;5;21;01mtaxonmatch\u001b[39;00m \u001b[38;5;28;01mas\u001b[39;00m \u001b[38;5;21;01mtxm\u001b[39;00m\n",
      "File \u001b[0;32m~/miniconda3/envs/test_1/lib/python3.12/site-packages/taxonmatch/__init__.py:3\u001b[0m\n\u001b[1;32m      1\u001b[0m \u001b[38;5;66;03m# taxonmatch/__init__.py\u001b[39;00m\n\u001b[0;32m----> 3\u001b[0m \u001b[38;5;28;01mfrom\u001b[39;00m \u001b[38;5;21;01m.\u001b[39;00m\u001b[38;5;21;01mdownloader\u001b[39;00m \u001b[38;5;28;01mimport\u001b[39;00m \u001b[38;5;241m*\u001b[39m\n\u001b[1;32m      4\u001b[0m \u001b[38;5;28;01mfrom\u001b[39;00m \u001b[38;5;21;01m.\u001b[39;00m\u001b[38;5;21;01mloader\u001b[39;00m \u001b[38;5;28;01mimport\u001b[39;00m \u001b[38;5;241m*\u001b[39m\n\u001b[1;32m      5\u001b[0m \u001b[38;5;28;01mfrom\u001b[39;00m \u001b[38;5;21;01m.\u001b[39;00m\u001b[38;5;21;01manalysis_utils\u001b[39;00m \u001b[38;5;28;01mimport\u001b[39;00m \u001b[38;5;241m*\u001b[39m\n",
      "File \u001b[0;32m~/miniconda3/envs/test_1/lib/python3.12/site-packages/taxonmatch/downloader.py:9\u001b[0m\n\u001b[1;32m      7\u001b[0m \u001b[38;5;28;01mimport\u001b[39;00m \u001b[38;5;21;01mthreading\u001b[39;00m\n\u001b[1;32m      8\u001b[0m \u001b[38;5;28;01mimport\u001b[39;00m \u001b[38;5;21;01mnumpy\u001b[39;00m \u001b[38;5;28;01mas\u001b[39;00m \u001b[38;5;21;01mnp\u001b[39;00m\n\u001b[0;32m----> 9\u001b[0m \u001b[38;5;28;01mimport\u001b[39;00m \u001b[38;5;21;01mpandas\u001b[39;00m \u001b[38;5;28;01mas\u001b[39;00m \u001b[38;5;21;01mpd\u001b[39;00m\n\u001b[1;32m     10\u001b[0m \u001b[38;5;28;01mimport\u001b[39;00m \u001b[38;5;21;01murllib\u001b[39;00m\u001b[38;5;21;01m.\u001b[39;00m\u001b[38;5;21;01mrequest\u001b[39;00m\n\u001b[1;32m     11\u001b[0m \u001b[38;5;28;01mfrom\u001b[39;00m \u001b[38;5;21;01mtqdm\u001b[39;00m \u001b[38;5;28;01mimport\u001b[39;00m tqdm\n",
      "File \u001b[0;32m~/miniconda3/envs/test_1/lib/python3.12/site-packages/pandas/__init__.py:49\u001b[0m\n\u001b[1;32m     46\u001b[0m \u001b[38;5;66;03m# let init-time option registration happen\u001b[39;00m\n\u001b[1;32m     47\u001b[0m \u001b[38;5;28;01mimport\u001b[39;00m \u001b[38;5;21;01mpandas\u001b[39;00m\u001b[38;5;21;01m.\u001b[39;00m\u001b[38;5;21;01mcore\u001b[39;00m\u001b[38;5;21;01m.\u001b[39;00m\u001b[38;5;21;01mconfig_init\u001b[39;00m  \u001b[38;5;66;03m# pyright: ignore[reportUnusedImport] # noqa: F401\u001b[39;00m\n\u001b[0;32m---> 49\u001b[0m \u001b[38;5;28;01mfrom\u001b[39;00m \u001b[38;5;21;01mpandas\u001b[39;00m\u001b[38;5;21;01m.\u001b[39;00m\u001b[38;5;21;01mcore\u001b[39;00m\u001b[38;5;21;01m.\u001b[39;00m\u001b[38;5;21;01mapi\u001b[39;00m \u001b[38;5;28;01mimport\u001b[39;00m (\n\u001b[1;32m     50\u001b[0m     \u001b[38;5;66;03m# dtype\u001b[39;00m\n\u001b[1;32m     51\u001b[0m     ArrowDtype,\n\u001b[1;32m     52\u001b[0m     Int8Dtype,\n\u001b[1;32m     53\u001b[0m     Int16Dtype,\n\u001b[1;32m     54\u001b[0m     Int32Dtype,\n\u001b[1;32m     55\u001b[0m     Int64Dtype,\n\u001b[1;32m     56\u001b[0m     UInt8Dtype,\n\u001b[1;32m     57\u001b[0m     UInt16Dtype,\n\u001b[1;32m     58\u001b[0m     UInt32Dtype,\n\u001b[1;32m     59\u001b[0m     UInt64Dtype,\n\u001b[1;32m     60\u001b[0m     Float32Dtype,\n\u001b[1;32m     61\u001b[0m     Float64Dtype,\n\u001b[1;32m     62\u001b[0m     CategoricalDtype,\n\u001b[1;32m     63\u001b[0m     PeriodDtype,\n\u001b[1;32m     64\u001b[0m     IntervalDtype,\n\u001b[1;32m     65\u001b[0m     DatetimeTZDtype,\n\u001b[1;32m     66\u001b[0m     StringDtype,\n\u001b[1;32m     67\u001b[0m     BooleanDtype,\n\u001b[1;32m     68\u001b[0m     \u001b[38;5;66;03m# missing\u001b[39;00m\n\u001b[1;32m     69\u001b[0m     NA,\n\u001b[1;32m     70\u001b[0m     isna,\n\u001b[1;32m     71\u001b[0m     isnull,\n\u001b[1;32m     72\u001b[0m     notna,\n\u001b[1;32m     73\u001b[0m     notnull,\n\u001b[1;32m     74\u001b[0m     \u001b[38;5;66;03m# indexes\u001b[39;00m\n\u001b[1;32m     75\u001b[0m     Index,\n\u001b[1;32m     76\u001b[0m     CategoricalIndex,\n\u001b[1;32m     77\u001b[0m     RangeIndex,\n\u001b[1;32m     78\u001b[0m     MultiIndex,\n\u001b[1;32m     79\u001b[0m     IntervalIndex,\n\u001b[1;32m     80\u001b[0m     TimedeltaIndex,\n\u001b[1;32m     81\u001b[0m     DatetimeIndex,\n\u001b[1;32m     82\u001b[0m     PeriodIndex,\n\u001b[1;32m     83\u001b[0m     IndexSlice,\n\u001b[1;32m     84\u001b[0m     \u001b[38;5;66;03m# tseries\u001b[39;00m\n\u001b[1;32m     85\u001b[0m     NaT,\n\u001b[1;32m     86\u001b[0m     Period,\n\u001b[1;32m     87\u001b[0m     period_range,\n\u001b[1;32m     88\u001b[0m     Timedelta,\n\u001b[1;32m     89\u001b[0m     timedelta_range,\n\u001b[1;32m     90\u001b[0m     Timestamp,\n\u001b[1;32m     91\u001b[0m     date_range,\n\u001b[1;32m     92\u001b[0m     bdate_range,\n\u001b[1;32m     93\u001b[0m     Interval,\n\u001b[1;32m     94\u001b[0m     interval_range,\n\u001b[1;32m     95\u001b[0m     DateOffset,\n\u001b[1;32m     96\u001b[0m     \u001b[38;5;66;03m# conversion\u001b[39;00m\n\u001b[1;32m     97\u001b[0m     to_numeric,\n\u001b[1;32m     98\u001b[0m     to_datetime,\n\u001b[1;32m     99\u001b[0m     to_timedelta,\n\u001b[1;32m    100\u001b[0m     \u001b[38;5;66;03m# misc\u001b[39;00m\n\u001b[1;32m    101\u001b[0m     Flags,\n\u001b[1;32m    102\u001b[0m     Grouper,\n\u001b[1;32m    103\u001b[0m     factorize,\n\u001b[1;32m    104\u001b[0m     unique,\n\u001b[1;32m    105\u001b[0m     value_counts,\n\u001b[1;32m    106\u001b[0m     NamedAgg,\n\u001b[1;32m    107\u001b[0m     array,\n\u001b[1;32m    108\u001b[0m     Categorical,\n\u001b[1;32m    109\u001b[0m     set_eng_float_format,\n\u001b[1;32m    110\u001b[0m     Series,\n\u001b[1;32m    111\u001b[0m     DataFrame,\n\u001b[1;32m    112\u001b[0m )\n\u001b[1;32m    114\u001b[0m \u001b[38;5;28;01mfrom\u001b[39;00m \u001b[38;5;21;01mpandas\u001b[39;00m\u001b[38;5;21;01m.\u001b[39;00m\u001b[38;5;21;01mcore\u001b[39;00m\u001b[38;5;21;01m.\u001b[39;00m\u001b[38;5;21;01mdtypes\u001b[39;00m\u001b[38;5;21;01m.\u001b[39;00m\u001b[38;5;21;01mdtypes\u001b[39;00m \u001b[38;5;28;01mimport\u001b[39;00m SparseDtype\n\u001b[1;32m    116\u001b[0m \u001b[38;5;28;01mfrom\u001b[39;00m \u001b[38;5;21;01mpandas\u001b[39;00m\u001b[38;5;21;01m.\u001b[39;00m\u001b[38;5;21;01mtseries\u001b[39;00m\u001b[38;5;21;01m.\u001b[39;00m\u001b[38;5;21;01mapi\u001b[39;00m \u001b[38;5;28;01mimport\u001b[39;00m infer_freq\n",
      "File \u001b[0;32m~/miniconda3/envs/test_1/lib/python3.12/site-packages/pandas/core/api.py:1\u001b[0m\n\u001b[0;32m----> 1\u001b[0m \u001b[38;5;28;01mfrom\u001b[39;00m \u001b[38;5;21;01mpandas\u001b[39;00m\u001b[38;5;21;01m.\u001b[39;00m\u001b[38;5;21;01m_libs\u001b[39;00m \u001b[38;5;28;01mimport\u001b[39;00m (\n\u001b[1;32m      2\u001b[0m     NaT,\n\u001b[1;32m      3\u001b[0m     Period,\n\u001b[1;32m      4\u001b[0m     Timedelta,\n\u001b[1;32m      5\u001b[0m     Timestamp,\n\u001b[1;32m      6\u001b[0m )\n\u001b[1;32m      7\u001b[0m \u001b[38;5;28;01mfrom\u001b[39;00m \u001b[38;5;21;01mpandas\u001b[39;00m\u001b[38;5;21;01m.\u001b[39;00m\u001b[38;5;21;01m_libs\u001b[39;00m\u001b[38;5;21;01m.\u001b[39;00m\u001b[38;5;21;01mmissing\u001b[39;00m \u001b[38;5;28;01mimport\u001b[39;00m NA\n\u001b[1;32m      9\u001b[0m \u001b[38;5;28;01mfrom\u001b[39;00m \u001b[38;5;21;01mpandas\u001b[39;00m\u001b[38;5;21;01m.\u001b[39;00m\u001b[38;5;21;01mcore\u001b[39;00m\u001b[38;5;21;01m.\u001b[39;00m\u001b[38;5;21;01mdtypes\u001b[39;00m\u001b[38;5;21;01m.\u001b[39;00m\u001b[38;5;21;01mdtypes\u001b[39;00m \u001b[38;5;28;01mimport\u001b[39;00m (\n\u001b[1;32m     10\u001b[0m     ArrowDtype,\n\u001b[1;32m     11\u001b[0m     CategoricalDtype,\n\u001b[0;32m   (...)\u001b[0m\n\u001b[1;32m     14\u001b[0m     PeriodDtype,\n\u001b[1;32m     15\u001b[0m )\n",
      "File \u001b[0;32m~/miniconda3/envs/test_1/lib/python3.12/site-packages/pandas/_libs/__init__.py:18\u001b[0m\n\u001b[1;32m     16\u001b[0m \u001b[38;5;28;01mimport\u001b[39;00m \u001b[38;5;21;01mpandas\u001b[39;00m\u001b[38;5;21;01m.\u001b[39;00m\u001b[38;5;21;01m_libs\u001b[39;00m\u001b[38;5;21;01m.\u001b[39;00m\u001b[38;5;21;01mpandas_parser\u001b[39;00m  \u001b[38;5;66;03m# isort: skip # type: ignore[reportUnusedImport]\u001b[39;00m\n\u001b[1;32m     17\u001b[0m \u001b[38;5;28;01mimport\u001b[39;00m \u001b[38;5;21;01mpandas\u001b[39;00m\u001b[38;5;21;01m.\u001b[39;00m\u001b[38;5;21;01m_libs\u001b[39;00m\u001b[38;5;21;01m.\u001b[39;00m\u001b[38;5;21;01mpandas_datetime\u001b[39;00m  \u001b[38;5;66;03m# noqa: F401 # isort: skip # type: ignore[reportUnusedImport]\u001b[39;00m\n\u001b[0;32m---> 18\u001b[0m \u001b[38;5;28;01mfrom\u001b[39;00m \u001b[38;5;21;01mpandas\u001b[39;00m\u001b[38;5;21;01m.\u001b[39;00m\u001b[38;5;21;01m_libs\u001b[39;00m\u001b[38;5;21;01m.\u001b[39;00m\u001b[38;5;21;01minterval\u001b[39;00m \u001b[38;5;28;01mimport\u001b[39;00m Interval\n\u001b[1;32m     19\u001b[0m \u001b[38;5;28;01mfrom\u001b[39;00m \u001b[38;5;21;01mpandas\u001b[39;00m\u001b[38;5;21;01m.\u001b[39;00m\u001b[38;5;21;01m_libs\u001b[39;00m\u001b[38;5;21;01m.\u001b[39;00m\u001b[38;5;21;01mtslibs\u001b[39;00m \u001b[38;5;28;01mimport\u001b[39;00m (\n\u001b[1;32m     20\u001b[0m     NaT,\n\u001b[1;32m     21\u001b[0m     NaTType,\n\u001b[0;32m   (...)\u001b[0m\n\u001b[1;32m     26\u001b[0m     iNaT,\n\u001b[1;32m     27\u001b[0m )\n",
      "File \u001b[0;32minterval.pyx:1\u001b[0m, in \u001b[0;36minit pandas._libs.interval\u001b[0;34m()\u001b[0m\n",
      "\u001b[0;31mValueError\u001b[0m: numpy.dtype size changed, may indicate binary incompatibility. Expected 96 from C header, got 88 from PyObject"
     ]
    }
   ],
   "source": [
    "import taxonmatch as txm"
   ]
  },
  {
   "cell_type": "markdown",
   "id": "f3a25bee-fe59-42c3-97ed-e8e646bd3071",
   "metadata": {},
   "source": [
    "## 2. Downloading and processing samples"
   ]
  },
  {
   "cell_type": "markdown",
   "id": "498cecca-0073-43e9-b2a8-225cac66113d",
   "metadata": {},
   "source": [
    "The initial steps involve downloading the most recent taxonomic data from GBIF and NCBI to ensure the analysis is based on the latest available information. "
   ]
  },
  {
   "cell_type": "code",
   "execution_count": 8,
   "id": "96a78a02",
   "metadata": {},
   "outputs": [
    {
     "ename": "NameError",
     "evalue": "name 'txm' is not defined",
     "output_type": "error",
     "traceback": [
      "\u001b[0;31m---------------------------------------------------------------------------\u001b[0m",
      "\u001b[0;31mNameError\u001b[0m                                 Traceback (most recent call last)",
      "Cell \u001b[0;32mIn[8], line 1\u001b[0m\n\u001b[0;32m----> 1\u001b[0m gbif_dataset \u001b[38;5;241m=\u001b[39m \u001b[43mtxm\u001b[49m\u001b[38;5;241m.\u001b[39mdownload_gbif_taxonomy()\n",
      "\u001b[0;31mNameError\u001b[0m: name 'txm' is not defined"
     ]
    }
   ],
   "source": [
    "gbif_dataset = txm.download_gbif_taxonomy()"
   ]
  },
  {
   "cell_type": "code",
   "execution_count": 9,
   "id": "600be659",
   "metadata": {},
   "outputs": [
    {
     "ename": "NameError",
     "evalue": "name 'txm' is not defined",
     "output_type": "error",
     "traceback": [
      "\u001b[0;31m---------------------------------------------------------------------------\u001b[0m",
      "\u001b[0;31mNameError\u001b[0m                                 Traceback (most recent call last)",
      "Cell \u001b[0;32mIn[9], line 1\u001b[0m\n\u001b[0;32m----> 1\u001b[0m ncbi_dataset \u001b[38;5;241m=\u001b[39m \u001b[43mtxm\u001b[49m\u001b[38;5;241m.\u001b[39mdownload_ncbi_taxonomy()\n",
      "\u001b[0;31mNameError\u001b[0m: name 'txm' is not defined"
     ]
    }
   ],
   "source": [
    "ncbi_dataset = txm.download_ncbi_taxonomy()"
   ]
  },
  {
   "cell_type": "markdown",
   "id": "ec55f447-cb40-4f54-9d56-ab52c1c091df",
   "metadata": {},
   "source": [
    "## 2.1 Checking Inconsistencies in nomenclature"
   ]
  },
  {
   "cell_type": "code",
   "execution_count": null,
   "id": "d6852031-d96d-479a-aca2-ba590ae5cced",
   "metadata": {},
   "outputs": [],
   "source": [
    "df_inconsistencies = txm.get_inconsistencies(gbif_dataset, ncbi_dataset)"
   ]
  },
  {
   "cell_type": "code",
   "execution_count": null,
   "id": "203b9787-07c3-4db5-8566-6a36200a45f8",
   "metadata": {},
   "outputs": [],
   "source": [
    "df = df_inconsistencies [df_inconsistencies ['canonicalName'].apply(lambda x: len(x.split()) == 2)]"
   ]
  },
  {
   "cell_type": "code",
   "execution_count": null,
   "id": "483e1c20-93fd-4151-8510-a3fc5d23177c",
   "metadata": {},
   "outputs": [],
   "source": [
    "df.sample(10)"
   ]
  },
  {
   "cell_type": "markdown",
   "id": "d791a166",
   "metadata": {},
   "source": [
    "## 3.a Training the classifier model"
   ]
  },
  {
   "cell_type": "markdown",
   "id": "96c04fd4-af7a-4009-a33d-9e0b3dae1661",
   "metadata": {},
   "source": [
    "If required, the notebook outlines steps to train a machine learning classifier to distinguish between correct and incorrect taxonomic matches. This involves generating positive and negative examples, preparing the training dataset, and comparing different models."
   ]
  },
  {
   "cell_type": "code",
   "execution_count": 8,
   "id": "262e9267",
   "metadata": {},
   "outputs": [],
   "source": [
    "positive_matches = txm.generate_positive_set(gbif_dataset, ncbi_dataset, 50000)"
   ]
  },
  {
   "cell_type": "code",
   "execution_count": null,
   "id": "3121bb6d",
   "metadata": {},
   "outputs": [
    {
     "name": "stdout",
     "output_type": "stream",
     "text": [
      " samples 13608 out of 16667"
     ]
    }
   ],
   "source": [
    "negative_matches = txm.generate_negative_set(gbif_dataset, ncbi_dataset, 50000)"
   ]
  },
  {
   "cell_type": "code",
   "execution_count": null,
   "id": "b2be06ec",
   "metadata": {},
   "outputs": [],
   "source": [
    "full_training_set = txm.prepare_data(positive_matches, negative_matches)"
   ]
  },
  {
   "cell_type": "code",
   "execution_count": null,
   "id": "2e638cbb-5f25-4b49-8ab4-1ebea0e5b6ce",
   "metadata": {},
   "outputs": [],
   "source": [
    "full_training_set.to_csv(\"training_set.txt\", index = False)"
   ]
  },
  {
   "cell_type": "code",
   "execution_count": 12,
   "id": "add84e22",
   "metadata": {},
   "outputs": [],
   "source": [
    "X_train, X_test, y_train, y_test = txm.generate_training_test(full_training_set)"
   ]
  },
  {
   "cell_type": "code",
   "execution_count": 13,
   "id": "d5cfcf41",
   "metadata": {},
   "outputs": [
    {
     "data": {
      "text/html": [
       "<div>\n",
       "<style scoped>\n",
       "    .dataframe tbody tr th:only-of-type {\n",
       "        vertical-align: middle;\n",
       "    }\n",
       "\n",
       "    .dataframe tbody tr th {\n",
       "        vertical-align: top;\n",
       "    }\n",
       "\n",
       "    .dataframe thead th {\n",
       "        text-align: right;\n",
       "    }\n",
       "</style>\n",
       "<table border=\"1\" class=\"dataframe\">\n",
       "  <thead>\n",
       "    <tr style=\"text-align: right;\">\n",
       "      <th></th>\n",
       "      <th>model</th>\n",
       "      <th>accuracy</th>\n",
       "      <th>mae</th>\n",
       "      <th>precision</th>\n",
       "      <th>recall</th>\n",
       "      <th>f1</th>\n",
       "      <th>roc</th>\n",
       "      <th>run_time</th>\n",
       "      <th>tp</th>\n",
       "      <th>fp</th>\n",
       "      <th>tn</th>\n",
       "      <th>fn</th>\n",
       "    </tr>\n",
       "  </thead>\n",
       "  <tbody>\n",
       "    <tr>\n",
       "      <th>0</th>\n",
       "      <td>XGBClassifier</td>\n",
       "      <td>0.979772</td>\n",
       "      <td>0.020228</td>\n",
       "      <td>0.977194</td>\n",
       "      <td>0.982667</td>\n",
       "      <td>0.979923</td>\n",
       "      <td>0.979758</td>\n",
       "      <td>0.0</td>\n",
       "      <td>14515</td>\n",
       "      <td>344</td>\n",
       "      <td>14740</td>\n",
       "      <td>260</td>\n",
       "    </tr>\n",
       "    <tr>\n",
       "      <th>1</th>\n",
       "      <td>RandomForestClassifier</td>\n",
       "      <td>0.979169</td>\n",
       "      <td>0.020831</td>\n",
       "      <td>0.975652</td>\n",
       "      <td>0.983067</td>\n",
       "      <td>0.979345</td>\n",
       "      <td>0.979150</td>\n",
       "      <td>0.11</td>\n",
       "      <td>14491</td>\n",
       "      <td>368</td>\n",
       "      <td>14746</td>\n",
       "      <td>254</td>\n",
       "    </tr>\n",
       "    <tr>\n",
       "      <th>2</th>\n",
       "      <td>KNeighborsClassifier</td>\n",
       "      <td>0.972404</td>\n",
       "      <td>0.027596</td>\n",
       "      <td>0.968783</td>\n",
       "      <td>0.976533</td>\n",
       "      <td>0.972643</td>\n",
       "      <td>0.972384</td>\n",
       "      <td>0.02</td>\n",
       "      <td>14387</td>\n",
       "      <td>472</td>\n",
       "      <td>14648</td>\n",
       "      <td>352</td>\n",
       "    </tr>\n",
       "    <tr>\n",
       "      <th>3</th>\n",
       "      <td>DecisionTreeClassifier</td>\n",
       "      <td>0.969657</td>\n",
       "      <td>0.030343</td>\n",
       "      <td>0.967866</td>\n",
       "      <td>0.971867</td>\n",
       "      <td>0.969862</td>\n",
       "      <td>0.969647</td>\n",
       "      <td>0.01</td>\n",
       "      <td>14375</td>\n",
       "      <td>484</td>\n",
       "      <td>14578</td>\n",
       "      <td>422</td>\n",
       "    </tr>\n",
       "    <tr>\n",
       "      <th>4</th>\n",
       "      <td>GradientBoostingClassifier</td>\n",
       "      <td>0.965806</td>\n",
       "      <td>0.034194</td>\n",
       "      <td>0.957099</td>\n",
       "      <td>0.975667</td>\n",
       "      <td>0.966294</td>\n",
       "      <td>0.965759</td>\n",
       "      <td>0.13</td>\n",
       "      <td>14203</td>\n",
       "      <td>656</td>\n",
       "      <td>14635</td>\n",
       "      <td>365</td>\n",
       "    </tr>\n",
       "    <tr>\n",
       "      <th>5</th>\n",
       "      <td>MLPClassifier</td>\n",
       "      <td>0.960447</td>\n",
       "      <td>0.039553</td>\n",
       "      <td>0.959317</td>\n",
       "      <td>0.962067</td>\n",
       "      <td>0.960690</td>\n",
       "      <td>0.960440</td>\n",
       "      <td>0.65</td>\n",
       "      <td>14247</td>\n",
       "      <td>612</td>\n",
       "      <td>14431</td>\n",
       "      <td>569</td>\n",
       "    </tr>\n",
       "    <tr>\n",
       "      <th>6</th>\n",
       "      <td>AdaBoostClassifier</td>\n",
       "      <td>0.938645</td>\n",
       "      <td>0.061355</td>\n",
       "      <td>0.919577</td>\n",
       "      <td>0.962000</td>\n",
       "      <td>0.940310</td>\n",
       "      <td>0.938534</td>\n",
       "      <td>0.03</td>\n",
       "      <td>13597</td>\n",
       "      <td>1262</td>\n",
       "      <td>14430</td>\n",
       "      <td>570</td>\n",
       "    </tr>\n",
       "    <tr>\n",
       "      <th>7</th>\n",
       "      <td>SVC</td>\n",
       "      <td>0.930741</td>\n",
       "      <td>0.069259</td>\n",
       "      <td>0.923556</td>\n",
       "      <td>0.939933</td>\n",
       "      <td>0.931673</td>\n",
       "      <td>0.930698</td>\n",
       "      <td>0.89</td>\n",
       "      <td>13692</td>\n",
       "      <td>1167</td>\n",
       "      <td>14099</td>\n",
       "      <td>901</td>\n",
       "    </tr>\n",
       "    <tr>\n",
       "      <th>8</th>\n",
       "      <td>Perceptron</td>\n",
       "      <td>0.885797</td>\n",
       "      <td>0.114203</td>\n",
       "      <td>0.921026</td>\n",
       "      <td>0.845133</td>\n",
       "      <td>0.881449</td>\n",
       "      <td>0.885990</td>\n",
       "      <td>0.0</td>\n",
       "      <td>13772</td>\n",
       "      <td>1087</td>\n",
       "      <td>12677</td>\n",
       "      <td>2323</td>\n",
       "    </tr>\n",
       "    <tr>\n",
       "      <th>9</th>\n",
       "      <td>DummyClassifier</td>\n",
       "      <td>0.498175</td>\n",
       "      <td>0.501825</td>\n",
       "      <td>0.500530</td>\n",
       "      <td>0.503400</td>\n",
       "      <td>0.501961</td>\n",
       "      <td>0.498150</td>\n",
       "      <td>0.0</td>\n",
       "      <td>7324</td>\n",
       "      <td>7535</td>\n",
       "      <td>7551</td>\n",
       "      <td>7449</td>\n",
       "    </tr>\n",
       "  </tbody>\n",
       "</table>\n",
       "</div>"
      ],
      "text/plain": [
       "                        model  accuracy       mae  precision    recall  \\\n",
       "0               XGBClassifier  0.979772  0.020228   0.977194  0.982667   \n",
       "1      RandomForestClassifier  0.979169  0.020831   0.975652  0.983067   \n",
       "2        KNeighborsClassifier  0.972404  0.027596   0.968783  0.976533   \n",
       "3      DecisionTreeClassifier  0.969657  0.030343   0.967866  0.971867   \n",
       "4  GradientBoostingClassifier  0.965806  0.034194   0.957099  0.975667   \n",
       "5               MLPClassifier  0.960447  0.039553   0.959317  0.962067   \n",
       "6          AdaBoostClassifier  0.938645  0.061355   0.919577  0.962000   \n",
       "7                         SVC  0.930741  0.069259   0.923556  0.939933   \n",
       "8                  Perceptron  0.885797  0.114203   0.921026  0.845133   \n",
       "9             DummyClassifier  0.498175  0.501825   0.500530  0.503400   \n",
       "\n",
       "         f1       roc run_time     tp    fp     tn    fn  \n",
       "0  0.979923  0.979758      0.0  14515   344  14740   260  \n",
       "1  0.979345  0.979150     0.11  14491   368  14746   254  \n",
       "2  0.972643  0.972384     0.02  14387   472  14648   352  \n",
       "3  0.969862  0.969647     0.01  14375   484  14578   422  \n",
       "4  0.966294  0.965759     0.13  14203   656  14635   365  \n",
       "5  0.960690  0.960440     0.65  14247   612  14431   569  \n",
       "6  0.940310  0.938534     0.03  13597  1262  14430   570  \n",
       "7  0.931673  0.930698     0.89  13692  1167  14099   901  \n",
       "8  0.881449  0.885990      0.0  13772  1087  12677  2323  \n",
       "9  0.501961  0.498150      0.0   7324  7535   7551  7449  "
      ]
     },
     "execution_count": 13,
     "metadata": {},
     "output_type": "execute_result"
    }
   ],
   "source": [
    "txm.compare_models(X_train, X_test, y_train, y_test)"
   ]
  },
  {
   "cell_type": "code",
   "execution_count": null,
   "id": "a4428617",
   "metadata": {},
   "outputs": [],
   "source": [
    "model = txm.XGBClassifier(learning_rate=0.1,n_estimators=500, max_depth=9, n_jobs=-1, colsample_bytree = 1, subsample = 0.8)"
   ]
  },
  {
   "cell_type": "code",
   "execution_count": null,
   "id": "560276c3-6c40-41da-af49-6e1a8ed156f5",
   "metadata": {},
   "outputs": [],
   "source": [
    "model.fit(X_train, y_train, verbose=False)"
   ]
  },
  {
   "cell_type": "code",
   "execution_count": null,
   "id": "61b6bf3c-08f6-4fb6-8306-a61607836359",
   "metadata": {},
   "outputs": [],
   "source": [
    "#with open('./files/model/xgb_model.pkl', 'wb') as file:\n",
    "#    pickle.dump(model, file)"
   ]
  },
  {
   "cell_type": "markdown",
   "id": "a903f53e-c5b7-44c2-b408-9ed939e8c302",
   "metadata": {},
   "source": [
    "## 3.b Load a pre-trained model"
   ]
  },
  {
   "cell_type": "markdown",
   "id": "736529c4-ae7f-4eff-915d-69bf4c104a48",
   "metadata": {},
   "source": [
    "Alternatively, it provides the option to load a pre-trained model, simplifying the process for routine analyses."
   ]
  },
  {
   "cell_type": "code",
   "execution_count": 8,
   "id": "31c68318-1244-42c1-af18-ab3ebe51fed3",
   "metadata": {},
   "outputs": [],
   "source": [
    "from taxonmatch.loader import load_xgb_model \n",
    "model = load_xgb_model()"
   ]
  },
  {
   "cell_type": "markdown",
   "id": "2d4729e2",
   "metadata": {},
   "source": [
    "## 4. Match NCBI with GBIF dataset "
   ]
  },
  {
   "cell_type": "markdown",
   "id": "e9b3a248-fee2-4673-b484-902214c109e1",
   "metadata": {},
   "source": [
    "In this section, the focus is on comparing and aligning the taxonomic data from NCBI and GBIF datasets. It specifically targets the taxon \"Apidae\" to narrow down the analysis to a specific family of bees. Using a pre-trained machine learning model, the notebook matches records from both datasets, categorizing them as exact matches, unmatched, or potentially mislabeled due to typographical errors"
   ]
  },
  {
   "cell_type": "code",
   "execution_count": 9,
   "id": "379a86c6-7c69-46db-94b5-53dc159cb0bd",
   "metadata": {},
   "outputs": [],
   "source": [
    "gbif_arthropda, ncbi_arthropoda = txm.select_taxonomic_clade(\"Arthropoda\", gbif_dataset, ncbi_dataset)"
   ]
  },
  {
   "cell_type": "code",
   "execution_count": 10,
   "id": "4052b9b2-920c-4e52-8ca0-8978bb841779",
   "metadata": {},
   "outputs": [],
   "source": [
    "matched_df, unmatched_df, possible_typos_df = txm.match_dataset(gbif_arthropda, ncbi_arthropoda, model, tree_generation = True) "
   ]
  },
  {
   "cell_type": "markdown",
   "id": "9bd0098f-8a32-4f76-b825-e5c66ad9ba21",
   "metadata": {},
   "source": [
    "## 5. Generate the taxonomical tree "
   ]
  },
  {
   "cell_type": "markdown",
   "id": "78cb8f2a-2a79-4b26-a8d3-cadf50980287",
   "metadata": {},
   "source": [
    "In the last section, the notebook constructs a taxonomic tree from the matched and unmatched data between the GBIF and NCBI datasets, focusing on the Apidae family. This visual representation helps to illustrate the evolutionary relationships and classification hierarchy among the species. The tree is then converted into a dataframe for further analysis and saved in textual format for documentation and review purposes."
   ]
  },
  {
   "cell_type": "code",
   "execution_count": 11,
   "id": "b47152fc-4c7b-4a97-b601-954d81bc2f2c",
   "metadata": {},
   "outputs": [],
   "source": [
    "tree = txm.generate_taxonomic_tree(matched_df, unmatched_df)"
   ]
  },
  {
   "cell_type": "code",
   "execution_count": 12,
   "id": "0df04baf-8904-460b-a7b7-366c6ac09efb",
   "metadata": {},
   "outputs": [],
   "source": [
    "df_from_tree = txm.convert_tree_to_dataframe(tree, gbif_arthropda, ncbi_arthropoda, \"taxonomic_tree_df.txt\")"
   ]
  },
  {
   "cell_type": "code",
   "execution_count": 107,
   "id": "81e515a4-80e2-43cb-8368-cf61e30fefdd",
   "metadata": {},
   "outputs": [],
   "source": [
    "new_tree = txm.reroot_tree(tree, root_name=\"Cicadetta\")"
   ]
  },
  {
   "cell_type": "code",
   "execution_count": 108,
   "id": "11e4ac64-ca05-42ad-9516-d1974c43e6f2",
   "metadata": {},
   "outputs": [
    {
     "name": "stdout",
     "output_type": "stream",
     "text": [
      "cicadetta (NCBI ID: 139461, GBIF ID: 4407744)\n",
      "├── cicadetta abscondita (NCBI ID: 2593298, GBIF ID: 7844511)\n",
      "├── cicadetta adbominalis (NCBI ID: None, GBIF ID: 12219534)\n",
      "├── cicadetta afghanistanica (NCBI ID: None, GBIF ID: 7518756)\n",
      "├── cicadetta albipennis (NCBI ID: None, GBIF ID: 4482651)\n",
      "├── cicadetta anapaistica (NCBI ID: 1740310, GBIF ID: 8414980)\n",
      "│   ├── cicadetta anapaistica anapaistica (NCBI ID: None, GBIF ID: 11192347)\n",
      "│   └── cicadetta anapaistica lucana (NCBI ID: 1889248, GBIF ID: 11198679)\n",
      "├── cicadetta brevipennis (NCBI ID: 1740311, GBIF ID: 7614613)\n",
      "│   ├── cicadetta brevipennis brevipennis (NCBI ID: None, GBIF ID: 9428064)\n",
      "│   ├── cicadetta brevipennis hippolaidica (NCBI ID: None, GBIF ID: 11135606)\n",
      "│   └── cicadetta brevipennis litoralis (NCBI ID: None, GBIF ID: 10243165)\n",
      "├── cicadetta brevipennis sensu lato 439bg (NCBI ID: 1889244, GBIF ID: None)\n",
      "├── cicadetta brevipennis sensu lato 440bg (NCBI ID: 1889245, GBIF ID: None)\n",
      "├── cicadetta calliope (NCBI ID: 139462, GBIF ID: None)\n",
      "│   ├── cicadetta calliope calliope (NCBI ID: 1746195, GBIF ID: 9425567)\n",
      "│   └── cicadetta calliope floridensis (NCBI ID: 1746194, GBIF ID: 9281848)\n",
      "├── cicadetta camerona (NCBI ID: 1745387, GBIF ID: 9562301)\n",
      "├── cicadetta cantilatrix (NCBI ID: 1740312, GBIF ID: 7903126)\n",
      "├── cicadetta celis (NCBI ID: 140069, GBIF ID: None)\n",
      "├── cicadetta cerdaniensis (NCBI ID: 1740313, GBIF ID: 7491426)\n",
      "├── cicadetta chaharensis (NCBI ID: None, GBIF ID: 7698150)\n",
      "├── cicadetta concinna (NCBI ID: 1740314, GBIF ID: 4482645)\n",
      "│   ├── cicadetta concinna arachnocepta (NCBI ID: None, GBIF ID: 9039515)\n",
      "│   └── cicadetta concinna concinna (NCBI ID: None, GBIF ID: 8723819)\n",
      "├── cicadetta diminuta (NCBI ID: None, GBIF ID: 8201211)\n",
      "├── cicadetta dirfica (NCBI ID: 1740315, GBIF ID: 8106826)\n",
      "├── cicadetta fangoana (NCBI ID: 1740316, GBIF ID: 4482637)\n",
      "├── cicadetta fraseri (NCBI ID: None, GBIF ID: 7776067)\n",
      "├── cicadetta haematophleps (NCBI ID: None, GBIF ID: 7381536)\n",
      "├── cicadetta hageni (NCBI ID: None, GBIF ID: 4482653)\n",
      "├── cicadetta hannekeae (NCBI ID: 1740317, GBIF ID: 7938246)\n",
      "├── cicadetta hodoharai (NCBI ID: None, GBIF ID: 7765334)\n",
      "├── cicadetta inglisi (NCBI ID: None, GBIF ID: 7717651)\n",
      "├── cicadetta inserta (NCBI ID: None, GBIF ID: 8071451)\n",
      "├── cicadetta intermedia (NCBI ID: None, GBIF ID: 8116723)\n",
      "├── cicadetta juncta (NCBI ID: None, GBIF ID: 4778490)\n",
      "├── cicadetta kansa (NCBI ID: 1464849, GBIF ID: 9499310)\n",
      "├── cicadetta kissavi (NCBI ID: 1740318, GBIF ID: 8248604)\n",
      "├── cicadetta kollari (NCBI ID: None, GBIF ID: 8163899)\n",
      "├── cicadetta konoi (NCBI ID: None, GBIF ID: 7927294)\n",
      "├── cicadetta laevifrons (NCBI ID: None, GBIF ID: 8317574)\n",
      "├── cicadetta macedonica (NCBI ID: 1740319, GBIF ID: 7591128)\n",
      "├── cicadetta mediterranea (NCBI ID: None, GBIF ID: 4482649)\n",
      "├── cicadetta minuta (NCBI ID: None, GBIF ID: 7909650)\n",
      "├── cicadetta montana (NCBI ID: 179415, GBIF ID: 9497766)\n",
      "│   ├── cicadetta montana montana (NCBI ID: None, GBIF ID: 7343906)\n",
      "│   └── cicadetta montana peregrina (NCBI ID: None, GBIF ID: 8754483)\n",
      "├── cicadetta nigropilosa (NCBI ID: None, GBIF ID: 7732783)\n",
      "├── cicadetta olympica (NCBI ID: 1740320, GBIF ID: 8176504)\n",
      "├── cicadetta pellosoma (NCBI ID: 179416, GBIF ID: 7782675)\n",
      "├── cicadetta petrophila (NCBI ID: None, GBIF ID: 8282661)\n",
      "├── cicadetta petryi (NCBI ID: 1889249, GBIF ID: 4482650)\n",
      "├── cicadetta pieli (NCBI ID: None, GBIF ID: 8002342)\n",
      "├── cicadetta pilosa (NCBI ID: None, GBIF ID: 8330620)\n",
      "├── cicadetta shansiensis (NCBI ID: 1210877, GBIF ID: 7890548)\n",
      "├── cicadetta sibillae (NCBI ID: 1740321, GBIF ID: 8466776)\n",
      "├── cicadetta transylvanica (NCBI ID: None, GBIF ID: 7608384)\n",
      "├── cicadetta tumidifrons (NCBI ID: None, GBIF ID: 8013357)\n",
      "├── cicadetta tunisiaca (NCBI ID: None, GBIF ID: 7507955)\n",
      "├── cicadetta ventricosa (NCBI ID: None, GBIF ID: 7358646)\n",
      "├── cicadetta viridicincta (NCBI ID: None, GBIF ID: 8488212)\n",
      "├── cicadetta walkerella (NCBI ID: None, GBIF ID: 8368468)\n",
      "└── unclassified cicadetta (NCBI ID: 2638023, GBIF ID: None)\n",
      "    ├── cicadetta sp. 1 wxh-2012 (NCBI ID: 1210876, GBIF ID: None)\n",
      "    ├── cicadetta sp. 204es (NCBI ID: 1889246, GBIF ID: None)\n",
      "    └── cicadetta sp. 205es (NCBI ID: 1889247, GBIF ID: None)\n"
     ]
    }
   ],
   "source": [
    "txm.print_tree(new_tree)"
   ]
  },
  {
   "cell_type": "code",
   "execution_count": 110,
   "id": "1a5c15e9-08c7-4ddb-895d-9bc0687f267e",
   "metadata": {},
   "outputs": [
    {
     "name": "stdout",
     "output_type": "stream",
     "text": [
      "The tree is saved as TXT in the file: cicadetta_tree.txt.\n"
     ]
    }
   ],
   "source": [
    "txm.save_tree(new_tree, \"cicadetta_tree.txt\", output_format='txt')"
   ]
  },
  {
   "cell_type": "code",
   "execution_count": null,
   "id": "d9cf20fd-ebff-421d-985e-a03e6ae62578",
   "metadata": {},
   "outputs": [],
   "source": []
  },
  {
   "cell_type": "code",
   "execution_count": null,
   "id": "fc442502-c130-437b-a0fa-97d6786ffb68",
   "metadata": {},
   "outputs": [],
   "source": []
  },
  {
   "cell_type": "code",
   "execution_count": null,
   "id": "7fd80176-d1ed-44ce-98b6-cf413daa4290",
   "metadata": {},
   "outputs": [],
   "source": []
  },
  {
   "cell_type": "code",
   "execution_count": null,
   "id": "f045c52e-cb66-4814-98ef-cd29d2b65c7c",
   "metadata": {},
   "outputs": [],
   "source": []
  },
  {
   "cell_type": "code",
   "execution_count": null,
   "id": "ab3d1eae-c886-4b38-ad56-c192efe37713",
   "metadata": {},
   "outputs": [],
   "source": []
  },
  {
   "cell_type": "code",
   "execution_count": null,
   "id": "548c9c4d-1cdb-4fd8-b742-43c17a2f51a5",
   "metadata": {},
   "outputs": [],
   "source": []
  },
  {
   "cell_type": "code",
   "execution_count": null,
   "id": "ba986b0a-3d6b-4574-9742-84813f0f5680",
   "metadata": {},
   "outputs": [],
   "source": []
  },
  {
   "cell_type": "code",
   "execution_count": null,
   "id": "01ae95a1-f174-430d-b0ce-789540f6900b",
   "metadata": {},
   "outputs": [],
   "source": []
  },
  {
   "cell_type": "code",
   "execution_count": 104,
   "id": "9fe72a70-31c8-4519-b05f-2986d7eeda46",
   "metadata": {},
   "outputs": [],
   "source": [
    "def reroot_tree(tree, root_name=None):\n",
    "    \"\"\"\n",
    "    Reroots the tree to start from the specified root node.\n",
    "\n",
    "    Args:\n",
    "    tree (AnyNode or similar tree node): The current tree.\n",
    "    root_name (str, optional): The name of the node to use as the new root, case-insensitive.\n",
    "\n",
    "    Returns:\n",
    "    AnyNode: The new root of the tree if root_name is specified and found, otherwise the original tree.\n",
    "    \"\"\"\n",
    "    if root_name is not None:\n",
    "        root_name = root_name.lower()  # Convert root_name to lowercase for case-insensitive search\n",
    "        new_root = find_node_by_name(tree, root_name)  # Use the txm prefix for find_node_by_name\n",
    "        if new_root is None:\n",
    "            print(\"Root node not found.\")\n",
    "            return None  # Return None if the root node is not found\n",
    "        return new_root\n",
    "    return tree  # Return the original tree if no root_name is specified"
   ]
  },
  {
   "cell_type": "code",
   "execution_count": 105,
   "id": "32579741-61fb-4607-994d-83f30aa67c25",
   "metadata": {},
   "outputs": [],
   "source": [
    "from anytree import RenderTree\n",
    "\n",
    "def print_tree(tree, root_name=None):\n",
    "    \"\"\"\n",
    "    Prints the structure of a tree sorted alphabetically starting from a specified root node.\n",
    "\n",
    "    Args:\n",
    "    tree (AnyNode or a similar tree node): The root node to start from.\n",
    "    root_name (str, optional): The name of the node to use as the root for printing, case-insensitive.\n",
    "\n",
    "    Each node of the tree may have attributes 'ncbi_id' and 'gbif_taxon_id'.\n",
    "    The nodes are printed with their names, and IDs are included if available.\n",
    "    \"\"\"\n",
    "    def sort_children(node):\n",
    "        # Ensure that node.children is a list of nodes and sort it\n",
    "        if isinstance(node, list):\n",
    "            return sorted(node, key=lambda child: child.name.lower())\n",
    "        else:\n",
    "            return sorted(node.children, key=lambda child: child.name.lower())\n",
    "\n",
    "    if root_name is not None:\n",
    "        root_name = root_name.lower()  # Convert root_name to lowercase for case-insensitive search\n",
    "        tree = find_node_by_name(tree, root_name)  # Use the txm prefix for find_node_by_name\n",
    "        if tree is None:\n",
    "            print(\"Root node not found.\")\n",
    "            return\n",
    "\n",
    "    # Print the tree from the new root node, sorted alphabetically\n",
    "    for pre, fill, node in RenderTree(tree, childiter=sort_children):\n",
    "        ncbi_id = getattr(node, 'ncbi_id', None)\n",
    "        gbif_id = getattr(node, 'gbif_taxon_id', None)\n",
    "        id_info = f\" (NCBI ID: {ncbi_id}, GBIF ID: {gbif_id})\" if ncbi_id or gbif_id else \"\"\n",
    "        print(f\"{pre}{node.name}{id_info}\")"
   ]
  },
  {
   "cell_type": "code",
   "execution_count": 106,
   "id": "ee979cab-d8ff-4ceb-9d78-67c3a7c9f01e",
   "metadata": {},
   "outputs": [],
   "source": [
    "import json\n",
    "from anytree.exporter import JsonExporter\n",
    "from anytree import RenderTree\n",
    "\n",
    "def tree_to_newick(node):\n",
    "    \"\"\"\n",
    "    Recursively converts an AnyNode tree to Newick format.\n",
    "    \"\"\"\n",
    "    if not node.children:\n",
    "        return node.name\n",
    "    children_newick = \",\".join([tree_to_newick(child) for child in node.children])\n",
    "    return f\"({children_newick}){node.name}\"\n",
    "\n",
    "def save_tree(tree, path, output_format='txt'):\n",
    "    \"\"\"\n",
    "    Saves a tree structure to a file with identification details for each node in various formats.\n",
    "    Args:\n",
    "    tree (AnyNode or similar tree node): The root of the tree to be saved.\n",
    "    path (str): Path to the file where the tree will be saved.\n",
    "    output_format (str): Format to save the tree. Supported formats: 'txt', 'newick', 'json'.\n",
    "    \"\"\"\n",
    "    def alphabetical_sort(node):\n",
    "        return node.name.lower()  # Sort nodes alphabetically by name\n",
    "\n",
    "    def sort_children(node):\n",
    "        # Sort the children of the current node, if it has any\n",
    "        if hasattr(node, 'children') and node.children:\n",
    "            node.children = sorted(node.children, key=lambda child: child.name.lower())\n",
    "            # Recursively sort the children of each child node\n",
    "            for child in node.children:\n",
    "                sort_children(child)\n",
    "\n",
    "    # Sort the tree before saving\n",
    "    sort_children(tree)\n",
    "\n",
    "    if output_format == 'txt':\n",
    "        with open(path, 'w') as f:\n",
    "            # Print the tree with IDs to the file\n",
    "            for pre, fill, node in RenderTree(tree):\n",
    "                ncbi_id = getattr(node, 'ncbi_id', None)\n",
    "                gbif_id = getattr(node, 'gbif_taxon_id', None)\n",
    "                id_info = f\" (NCBI ID: {ncbi_id}, GBIF ID: {gbif_id})\" if ncbi_id or gbif_id else \"\"\n",
    "                f.write(f\"{pre}{node.name}{id_info}\\n\")\n",
    "        print(f\"The tree is saved as TXT in the file: {path}.\")\n",
    "\n",
    "    elif output_format == 'newick':\n",
    "        newick_representation = tree_to_newick(tree) + ';'\n",
    "        with open(path, 'w') as f:\n",
    "            f.write(newick_representation)\n",
    "        print(f\"The tree is saved as Newick in the file: {path}.\")\n",
    "\n",
    "    elif output_format == 'json':\n",
    "        exporter = JsonExporter(indent=2, sort_keys=True)\n",
    "        json_data = exporter.export(tree)\n",
    "        with open(path, 'w') as f:\n",
    "            f.write(json_data)\n",
    "        print(f\"The tree is saved as JSON in the file: {path}.\")\n",
    "\n",
    "    else:\n",
    "        raise ValueError(f\"Unsupported format: {output_format}. Supported formats are 'txt', 'newick', and 'json'.\")\n",
    "\n"
   ]
  },
  {
   "cell_type": "code",
   "execution_count": 100,
   "id": "a58d093a-09e7-44c8-ae88-cdda90a6902b",
   "metadata": {},
   "outputs": [],
   "source": []
  },
  {
   "cell_type": "code",
   "execution_count": null,
   "id": "c69865ab-0312-46c2-aae8-db1cc79d038d",
   "metadata": {},
   "outputs": [],
   "source": []
  }
 ],
 "metadata": {
  "kernelspec": {
   "display_name": "Python 3 (ipykernel)",
   "language": "python",
   "name": "python3"
  },
  "language_info": {
   "codemirror_mode": {
    "name": "ipython",
    "version": 3
   },
   "file_extension": ".py",
   "mimetype": "text/x-python",
   "name": "python",
   "nbconvert_exporter": "python",
   "pygments_lexer": "ipython3",
   "version": "3.12.4"
  }
 },
 "nbformat": 4,
 "nbformat_minor": 5
}
