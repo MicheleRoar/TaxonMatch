{
 "cells": [
  {
   "cell_type": "markdown",
   "id": "f6889a86-c803-45b9-96a4-3e105cdd8abf",
   "metadata": {},
   "source": [
    "<center>\n",
    "<h1>Matching genomes of endangered species in A3cat with conservation data from IUCN Red List</h1>\n",
    "</center>"
   ]
  },
  {
   "cell_type": "markdown",
   "id": "55c3ba92-1516-4dac-aba4-3f200de98e59",
   "metadata": {},
   "source": [
    "![title](https://static.vecteezy.com/system/resources/previews/026/746/427/non_2x/illustration-image-nature-and-sustainability-eco-friendly-living-and-conservation-concept-art-of-earth-and-animal-life-in-different-environments-generative-ai-illustration-free-photo.jpg)"
   ]
  },
  {
   "cell_type": "markdown",
   "id": "c9fd5160-3a09-4acb-b0ee-9f8de39b8c5b",
   "metadata": {},
   "source": [
    "This notebook analyzes species conservation statuses by integrating IUCN Red List data with information on genome availability from A3CAT (the Arthropoda Assembly Assessment Catalogue). The goal is to assess the overlap between species with genomic assemblies and those under threat, and to visualize how genome sequencing efforts are distributed across IUCN categories.\n",
    "\n",
    "Datasets used:\n",
    "\n",
    "### **Datasets Used**\n",
    "- **IUCN Red List Data**: Provides extinction risk categories for thousands of species based on population trends, habitat loss, and other ecological indicators.\n",
    "- **A3CAT**: Arthropoda Assembly Assessment Catalogue, offers a curated list of arthropod species for which genome assemblies are available, covering multiple phyla and clades within Arthropoda."
   ]
  },
  {
   "cell_type": "markdown",
   "id": "1eaec137-1f19-4733-b23f-2fb3b0648294",
   "metadata": {},
   "source": [
    "## 1. Import Libraries"
   ]
  },
  {
   "cell_type": "code",
   "execution_count": null,
   "id": "900bd898-e789-41f4-bb82-d4108e91f74f",
   "metadata": {},
   "outputs": [],
   "source": [
    "import taxonmatch as txm"
   ]
  },
  {
   "cell_type": "code",
   "execution_count": null,
   "id": "b4d21c12-1d8c-46e5-8526-8e8138ceec02",
   "metadata": {},
   "outputs": [],
   "source": [
    "import logging\n",
    "# Suppress warnings from the requests library\n",
    "logging.getLogger(\"requests\").setLevel(logging.ERROR)"
   ]
  },
  {
   "cell_type": "code",
   "execution_count": null,
   "id": "ca44d226-1f88-4803-9a28-3ec1edb57f7b",
   "metadata": {},
   "outputs": [],
   "source": [
    "import pandas as pd\n",
    "pd.set_option('display.max_colwidth', None)"
   ]
  },
  {
   "cell_type": "markdown",
   "id": "ce08a03a-28f0-4f7c-8583-ae5d5b8afd52",
   "metadata": {},
   "source": [
    "## 2. Download GBIF and A3cat dataset"
   ]
  },
  {
   "cell_type": "markdown",
   "id": "66629fd5-d955-42de-8db1-849534096335",
   "metadata": {},
   "source": [
    "We download two core datasets:\n",
    "The GBIF taxonomic backbone, used to normalize species names and resolve hierarchical taxonomic structure.\n",
    "The A3cat genomic dataset, which lists arthropod taxa with public genome assemblies, including metadata on genome quality and completeness.\n",
    "These resources allow downstream matching with IUCN data to identify conservation-relevant species."
   ]
  },
  {
   "cell_type": "code",
   "execution_count": null,
   "id": "f01e97c1-f2b0-48fc-a23a-03082ed63a26",
   "metadata": {},
   "outputs": [],
   "source": [
    "gbif_dataset = txm.download_gbif_taxonomy()"
   ]
  },
  {
   "cell_type": "code",
   "execution_count": null,
   "id": "5a9ef216-c339-4dc8-a757-150ed0eacf4a",
   "metadata": {},
   "outputs": [],
   "source": [
    "a3cat_dataset = txm.download_ncbi_taxonomy(source = \"a3cat\")"
   ]
  },
  {
   "cell_type": "markdown",
   "id": "4cc71b70-89e2-4d31-8673-70f8f17caade",
   "metadata": {},
   "source": [
    "## 3. Filtering samples for Arthropoda Phylum"
   ]
  },
  {
   "cell_type": "code",
   "execution_count": null,
   "id": "98734c83-2e90-4881-8747-53a665352297",
   "metadata": {},
   "outputs": [],
   "source": [
    "gbif_arthropda, a3cat_arthropoda = txm.select_taxonomic_clade(\"arthropoda\", gbif_dataset, a3cat_dataset)"
   ]
  },
  {
   "cell_type": "markdown",
   "id": "1973308e-5e7f-4e7b-b647-6274790ad03e",
   "metadata": {},
   "source": [
    "## 4. Import xgboost model  "
   ]
  },
  {
   "cell_type": "code",
   "execution_count": null,
   "id": "00074176-71d7-48e1-8acf-13215fb67282",
   "metadata": {},
   "outputs": [],
   "source": [
    "model = txm.load_xgb_model()"
   ]
  },
  {
   "cell_type": "markdown",
   "id": "8d991f70-d958-49a5-a6d1-4b93c5aac312",
   "metadata": {},
   "source": [
    "## 5. Matching samples"
   ]
  },
  {
   "cell_type": "markdown",
   "id": "3d27df64-9e9d-4cfe-ab79-ee3c91cf86fb",
   "metadata": {},
   "source": [
    "This section aligns species across three different data sources: A3cat, GBIF, and the IUCN Red List. Taxonomic reconciliation is performed using TaxonMatch, ensuring that synonymous or ambiguous species names are correctly mapped. This matching step is crucial to identify species for which genomic and conservation data coexist."
   ]
  },
  {
   "cell_type": "code",
   "execution_count": null,
   "id": "1b9f858a-129f-45f8-953f-9d700f2905d2",
   "metadata": {},
   "outputs": [],
   "source": [
    "matched_df, unmatched_df, possible_typos_df = txm.match_dataset(gbif_arthropda, a3cat_arthropoda, model, tree_generation = False)"
   ]
  },
  {
   "cell_type": "markdown",
   "id": "221d784a-e28f-4f63-8729-4fb11493a2ff",
   "metadata": {},
   "source": [
    "## 6. Add conservation status to the results"
   ]
  },
  {
   "cell_type": "markdown",
   "id": "1ffbc5e0-0979-46f6-bd01-22bc1ed8a4bf",
   "metadata": {},
   "source": [
    "Once species from A3cat are matched to IUCN entries, this step appends their official conservation status (e.g., Least Concern, Vulnerable, Endangered, Critically Endangered). These categories reflect IUCN’s systematic assessment of extinction risk, based on population trends, habitat threats, and range size."
   ]
  },
  {
   "cell_type": "code",
   "execution_count": null,
   "id": "28af07d4-74a1-4fa7-a08f-a91a5d84f37c",
   "metadata": {},
   "outputs": [],
   "source": [
    "df_with_iucn_status = txm.add_iucn_status_column(matched_df)"
   ]
  },
  {
   "cell_type": "code",
   "execution_count": null,
   "id": "5fec98ff-c8ad-4e05-89b4-e939b763f8bd",
   "metadata": {},
   "outputs": [],
   "source": [
    "endangered = df_with_iucn_status[df_with_iucn_status.iucnRedListCategory.isin(['ENDANGERED', 'CRITICALLY_ENDANGERED', 'VULNERABLE'])]"
   ]
  },
  {
   "cell_type": "markdown",
   "id": "43e3f953-b16d-4e55-9355-907404f4eab0",
   "metadata": {},
   "source": [
    "## 7. Filtering and Ordering Conservation Categories\n",
    "\n",
    "To visualize the data meaningfully, this section orders the IUCN categories along a gradient of increasing extinction risk. This facilitates more intuitive and informative plots, e.g., from Least Concern → Near Threatened → Vulnerable → Endangered → Critically Endangered → Extinct. Filtering may also remove categories with too few representatives."
   ]
  },
  {
   "cell_type": "code",
   "execution_count": null,
   "id": "4cc7e72f-6093-4201-8865-c31717f66429",
   "metadata": {},
   "outputs": [],
   "source": [
    "txm.plot_conservation_statuses(df_with_iucn_status)"
   ]
  },
  {
   "cell_type": "markdown",
   "id": "c8d4cfcf-7ebb-4988-9270-7deedc51807e",
   "metadata": {},
   "source": [
    "## 8.Extracting Genomically Sequenced Endangered Arthropods"
   ]
  },
  {
   "cell_type": "markdown",
   "id": "2a840845-f5cc-4f7e-9cf6-e66f1313c835",
   "metadata": {},
   "source": [
    "In this last section, we extract arthropod species that are both listed as threatened in the IUCN Red List and have genome assemblies available in GenBank, as reported by A3cat. This is done by matching NCBI taxonomy IDs and retrieving the associated GenBank accession numbers.\n",
    "\n",
    "The resulting table includes species name, NCBI ID, GenBank assembly ID, and IUCN conservation category. These species represent high-priority cases where genomic data is already available and can directly support conservation efforts."
   ]
  },
  {
   "cell_type": "code",
   "execution_count": null,
   "id": "099d70de-feed-4363-bd1d-50b10b36ef74",
   "metadata": {},
   "outputs": [],
   "source": [
    "filtered = a3cat_dataset[0][a3cat_dataset[0].ncbi_id.isin(endangered.ncbi_id)][[\"ncbi_id\", \"ncbi_canonicalName\", \"Genbank Accession\"]]"
   ]
  },
  {
   "cell_type": "code",
   "execution_count": null,
   "id": "703cad13-d1b4-4dbc-aaa9-de5945c1ba2a",
   "metadata": {},
   "outputs": [],
   "source": [
    "merged = pd.merge(filtered, endangered [['ncbi_id', \"taxonID\", 'iucnRedListCategory']], left_on='ncbi_id', right_on='ncbi_id', how='left')"
   ]
  },
  {
   "cell_type": "code",
   "execution_count": null,
   "id": "670e6b7d-c69b-4147-93d3-6ff911beb9cc",
   "metadata": {},
   "outputs": [],
   "source": [
    "final = merged.drop_duplicates(subset=\"ncbi_id\").sort_values(by=\"iucnRedListCategory\", ascending=True)"
   ]
  },
  {
   "cell_type": "code",
   "execution_count": null,
   "id": "f336a11c-3171-4731-8457-78af34f6b76a",
   "metadata": {},
   "outputs": [],
   "source": [
    "final"
   ]
  },
  {
   "cell_type": "code",
   "execution_count": null,
   "id": "1737ca93-eb65-4929-8c58-04fef85d9369",
   "metadata": {},
   "outputs": [],
   "source": []
  }
 ],
 "metadata": {
  "kernelspec": {
   "display_name": "Python 3 (ipykernel)",
   "language": "python",
   "name": "python3"
  },
  "language_info": {
   "codemirror_mode": {
    "name": "ipython",
    "version": 3
   },
   "file_extension": ".py",
   "mimetype": "text/x-python",
   "name": "python",
   "nbconvert_exporter": "python",
   "pygments_lexer": "ipython3",
   "version": "3.12.4"
  }
 },
 "nbformat": 4,
 "nbformat_minor": 5
}
