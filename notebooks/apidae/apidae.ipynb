{
 "cells": [
  {
   "cell_type": "markdown",
   "id": "e48c6009-b8f3-48f8-acbf-ca2f32bb5852",
   "metadata": {},
   "source": [
    "<center>\n",
    "<h1>Analyzing Bee Taxonomy:</h1>\n",
    "<h2>Integrating GBIF, NCBI and iNaturalist Data for Apidae Insights</h2>\n",
    "</center>"
   ]
  },
  {
   "cell_type": "markdown",
   "id": "ed34893e-8be3-42b7-b526-dd64e2bab3a4",
   "metadata": {},
   "source": [
    "![title](https://live.staticflickr.com/4059/4632384645_a2230b26d5_b.jpg)"
   ]
  },
  {
   "cell_type": "markdown",
   "id": "36c11ee1-f342-400a-83ba-45024eabaa54",
   "metadata": {},
   "source": [
    "This Python notebook is designed for the purpose of integrating taxonomic data from three major biological databases, GBIF (Global Biodiversity Information Facility), NCBI (National Center for Biotechnology Information), and iNaturalist to enhance the accuracy and comprehensiveness of ecological and biological research. GBIF primarily focuses on biodiversity data including species distribution and ecological information, whereas NCBI provides a broader range of data including genomic and taxonomic details. iNaturalist, on other hand, is one of the most important Citizen Science project to collect biological data\n",
    "\n",
    "Combining these sources enables researchers to cross-validate species identifications and improve the richness of ecological datasets with genetic information. A key biological task performed in this notebook is the construction of a taxonomic tree, which helps in visualizing and understanding the evolutionary relationships and classification hierarchy among different species within a chosen taxon (in this case, Apidae - a family of bees)."
   ]
  },
  {
   "cell_type": "markdown",
   "id": "37bb79a2",
   "metadata": {},
   "source": [
    "## 1. Importing libraries"
   ]
  },
  {
   "cell_type": "code",
   "execution_count": null,
   "id": "0b648242",
   "metadata": {},
   "outputs": [],
   "source": [
    "import pandas as pd\n",
    "import warnings\n",
    "\n",
    "pd.set_option('display.max_colwidth', None)\n",
    "warnings.simplefilter(action='ignore', category=FutureWarning)"
   ]
  },
  {
   "cell_type": "code",
   "execution_count": null,
   "id": "2d48547a-bc68-4298-9181-0d8ebdc63262",
   "metadata": {},
   "outputs": [],
   "source": [
    "import taxonmatch as txm"
   ]
  },
  {
   "cell_type": "markdown",
   "id": "f3a25bee-fe59-42c3-97ed-e8e646bd3071",
   "metadata": {},
   "source": [
    "## 2. Downloading and processing samples"
   ]
  },
  {
   "cell_type": "markdown",
   "id": "498cecca-0073-43e9-b2a8-225cac66113d",
   "metadata": {},
   "source": [
    "The initial steps involve downloading the most recent taxonomic data from GBIF and NCBI to ensure the analysis is based on the latest available information. "
   ]
  },
  {
   "cell_type": "code",
   "execution_count": null,
   "id": "96a78a02",
   "metadata": {},
   "outputs": [],
   "source": [
    "gbif_dataset = txm.download_gbif_taxonomy()"
   ]
  },
  {
   "cell_type": "code",
   "execution_count": null,
   "id": "600be659",
   "metadata": {},
   "outputs": [],
   "source": [
    "ncbi_dataset = txm.download_ncbi_taxonomy()"
   ]
  },
  {
   "cell_type": "markdown",
   "id": "d791a166",
   "metadata": {},
   "source": [
    "## 3.a Training the classifier model"
   ]
  },
  {
   "cell_type": "markdown",
   "id": "96c04fd4-af7a-4009-a33d-9e0b3dae1661",
   "metadata": {},
   "source": [
    "If required, the notebook outlines steps to train a machine learning classifier to distinguish between correct and incorrect taxonomic matches. This involves generating positive and negative examples, preparing the training dataset, and comparing different models."
   ]
  },
  {
   "cell_type": "code",
   "execution_count": null,
   "id": "262e9267",
   "metadata": {},
   "outputs": [],
   "source": [
    "#positive_matches = txm.generate_positive_set(gbif_dataset, ncbi_dataset, 500)"
   ]
  },
  {
   "cell_type": "code",
   "execution_count": null,
   "id": "3121bb6d",
   "metadata": {},
   "outputs": [],
   "source": [
    "#negative_matches = txm.generate_negative_set(gbif_dataset, ncbi_dataset, 500)"
   ]
  },
  {
   "cell_type": "code",
   "execution_count": null,
   "id": "b2be06ec",
   "metadata": {},
   "outputs": [],
   "source": [
    "#full_training_set = txm.prepare_data(positive_matches, negative_matches)"
   ]
  },
  {
   "cell_type": "code",
   "execution_count": null,
   "id": "572b902f-6fd1-4384-a746-50794c9914d6",
   "metadata": {},
   "outputs": [],
   "source": [
    "#full_training_set.to_csv(\"training_set.txt\", index = False)"
   ]
  },
  {
   "cell_type": "code",
   "execution_count": null,
   "id": "add84e22",
   "metadata": {},
   "outputs": [],
   "source": [
    "#X_train, X_test, y_train, y_test = txm.generate_training_test(full_training_set)"
   ]
  },
  {
   "cell_type": "code",
   "execution_count": null,
   "id": "a4428617",
   "metadata": {},
   "outputs": [],
   "source": [
    "#model = txm.XGBClassifier(learning_rate=0.1,n_estimators=500, max_depth=9, n_jobs=-1, colsample_bytree = 1, subsample = 0.8)"
   ]
  },
  {
   "cell_type": "code",
   "execution_count": null,
   "id": "560276c3-6c40-41da-af49-6e1a8ed156f5",
   "metadata": {},
   "outputs": [],
   "source": [
    "#model.fit(X_train, y_train, verbose=False)"
   ]
  },
  {
   "cell_type": "code",
   "execution_count": null,
   "id": "d5cfcf41",
   "metadata": {},
   "outputs": [],
   "source": [
    "#model.save_model(\"xgb_model.json\")"
   ]
  },
  {
   "cell_type": "markdown",
   "id": "a903f53e-c5b7-44c2-b408-9ed939e8c302",
   "metadata": {},
   "source": [
    "## 3.b Load a pre-trained model"
   ]
  },
  {
   "cell_type": "markdown",
   "id": "736529c4-ae7f-4eff-915d-69bf4c104a48",
   "metadata": {},
   "source": [
    "Alternatively, it provides the option to load a pre-trained model, simplifying the process for routine analyses."
   ]
  },
  {
   "cell_type": "code",
   "execution_count": null,
   "id": "31c68318-1244-42c1-af18-ab3ebe51fed3",
   "metadata": {},
   "outputs": [],
   "source": [
    "model = txm.load_xgb_model()"
   ]
  },
  {
   "cell_type": "markdown",
   "id": "2d4729e2",
   "metadata": {},
   "source": [
    "## 4. Match NCBI with GBIF dataset "
   ]
  },
  {
   "cell_type": "markdown",
   "id": "e9b3a248-fee2-4673-b484-902214c109e1",
   "metadata": {},
   "source": [
    "In this section, the focus is on comparing and aligning the taxonomic data from NCBI and GBIF datasets. It specifically targets the taxon \"Apidae\" to narrow down the analysis to a specific family of bees. Using a pre-trained machine learning model, the notebook matches records from both datasets, categorizing them as exact matches, unmatched, or potentially mislabeled due to typographical errors"
   ]
  },
  {
   "cell_type": "code",
   "execution_count": null,
   "id": "379a86c6-7c69-46db-94b5-53dc159cb0bd",
   "metadata": {},
   "outputs": [],
   "source": [
    "gbif_apidae, ncbi_apidae = txm.select_taxonomic_clade(\"Apidae\", gbif_dataset, ncbi_dataset)"
   ]
  },
  {
   "cell_type": "code",
   "execution_count": null,
   "id": "4052b9b2-920c-4e52-8ca0-8978bb841779",
   "metadata": {},
   "outputs": [],
   "source": [
    "matched_df, unmatched_df, possible_typos_df = txm.match_dataset(gbif_apidae, ncbi_apidae, model, tree_generation = True)"
   ]
  },
  {
   "cell_type": "markdown",
   "id": "9bd0098f-8a32-4f76-b825-e5c66ad9ba21",
   "metadata": {},
   "source": [
    "## 5. Generate the taxonomical tree "
   ]
  },
  {
   "cell_type": "markdown",
   "id": "78cb8f2a-2a79-4b26-a8d3-cadf50980287",
   "metadata": {},
   "source": [
    "In this section, the notebook constructs a taxonomic tree from the matched and unmatched data between the GBIF and NCBI datasets, focusing on the Apidae family. This visual representation helps to illustrate the evolutionary relationships and classification hierarchy among the species. The tree is then converted into a dataframe for further analysis and saved in textual format for documentation and review purposes."
   ]
  },
  {
   "cell_type": "code",
   "execution_count": null,
   "id": "b47152fc-4c7b-4a97-b601-954d81bc2f2c",
   "metadata": {},
   "outputs": [],
   "source": [
    "apidae_tree = txm.generate_taxonomic_tree(matched_df, unmatched_df)"
   ]
  },
  {
   "cell_type": "code",
   "execution_count": null,
   "id": "0df04baf-8904-460b-a7b7-366c6ac09efb",
   "metadata": {},
   "outputs": [],
   "source": [
    "df_apidae = txm.convert_tree_to_dataframe(apidae_tree, gbif_apidae, ncbi_apidae, \"apidae_taxonomic_tree_df.txt\")"
   ]
  },
  {
   "cell_type": "code",
   "execution_count": null,
   "id": "4b6abd9a-cfed-4598-8796-bdee583991ef",
   "metadata": {},
   "outputs": [],
   "source": [
    "txm.save_tree(apidae_tree, \"apidae_tree.txt\")"
   ]
  },
  {
   "cell_type": "code",
   "execution_count": null,
   "id": "02a32c78-0d06-44fc-a088-468d2ef0b235",
   "metadata": {},
   "outputs": [],
   "source": [
    "txm.print_tree(apidae_tree)"
   ]
  },
  {
   "cell_type": "markdown",
   "id": "ee6fce6b-6e1e-442a-a7ae-6c80c5b33c0e",
   "metadata": {},
   "source": [
    "## 5.1 Reroot the taxoonomical tree"
   ]
  },
  {
   "cell_type": "markdown",
   "id": "a79010f2-db8f-4e45-9e8b-e54ebf545cd5",
   "metadata": {},
   "source": [
    "Alternatively, the previously constructed taxonomic tree will be pruned (rerooted) to focus on a specific lineage within Apidae. By selecting a target taxon—in this case, the genus Bombus—all branches below this level will be retained while discarding unrelated taxa. This approach allows for a more detailed analysis of a specific clade, facilitating a clearer visualization of evolutionary relationships and taxonomic consistency within the selected group."
   ]
  },
  {
   "cell_type": "code",
   "execution_count": null,
   "id": "f03da2eb-e806-47cc-be07-f1e7168b97a3",
   "metadata": {},
   "outputs": [],
   "source": [
    "bombus_tree = txm.reroot_tree(apidae_tree, root_name=\"bombus\")"
   ]
  },
  {
   "cell_type": "code",
   "execution_count": null,
   "id": "dc1de4d7-d6d3-4c65-a65f-e5582391d1d4",
   "metadata": {},
   "outputs": [],
   "source": [
    "txm.print_tree(bombus_tree)"
   ]
  },
  {
   "cell_type": "markdown",
   "id": "0350af04-77ed-474f-be7f-1b7b3ad90c1e",
   "metadata": {},
   "source": [
    "## 6. Add iNaturalist Information"
   ]
  },
  {
   "cell_type": "markdown",
   "id": "1e3e8182-6043-43a0-90dc-2c6d13e5af9c",
   "metadata": {},
   "source": [
    "In this final section, the previously curated dataset, which integrates taxonomic information from both GBIF and NCBI, will be further enriched by incorporating data from iNaturalist. This additional dataset will provide valuable community-driven observations, complementing the existing taxonomy with real-world records contributed by citizen scientists and researchers. The ultimate result of this process will be the construction of a comprehensive taxonomic tree that includes unique identifiers from all three datasets—GBIF, NCBI, and iNaturalist—ensuring a more robust and harmonized representation of Apidae taxonomy."
   ]
  },
  {
   "cell_type": "code",
   "execution_count": null,
   "id": "d11749a3-b551-4ceb-8366-4f872a0afbb7",
   "metadata": {},
   "outputs": [],
   "source": [
    "inat_dataset = txm.download_inat_taxonomy()"
   ]
  },
  {
   "cell_type": "code",
   "execution_count": null,
   "id": "122fd230-ea5b-4a2a-aca1-cf9c22b84752",
   "metadata": {},
   "outputs": [],
   "source": [
    "inat_apidae = txm.select_inat_clade(inat_dataset, \"apidae\")"
   ]
  },
  {
   "cell_type": "code",
   "execution_count": null,
   "id": "34b4d45e-ad49-4c7e-b672-0d7a80616449",
   "metadata": {},
   "outputs": [],
   "source": [
    "inat_tree = txm.add_inat_taxonomy(apidae_tree, inat_apidae)"
   ]
  },
  {
   "cell_type": "code",
   "execution_count": null,
   "id": "70561f20-a33e-44da-b739-33569dd1c2f0",
   "metadata": {},
   "outputs": [],
   "source": [
    "txm.print_tree(inat_tree)"
   ]
  },
  {
   "cell_type": "code",
   "execution_count": null,
   "id": "b7292891-033e-4b94-bc96-40395db4fe72",
   "metadata": {},
   "outputs": [],
   "source": [
    "df_apidae_with_inaturalist = txm.convert_tree_to_dataframe(apidae_tree, gbif_dataset[1], ncbi_dataset[1], \"apidae_final_df.txt\", inat_dataset=inat_apidae)"
   ]
  },
  {
   "cell_type": "code",
   "execution_count": null,
   "id": "b351a3a3-ff16-4141-9260-84cb2dab2616",
   "metadata": {},
   "outputs": [],
   "source": [
    "txm.save_tree(inat_tree, \"apidae_final_tree.txt\", output_format='txt')"
   ]
  },
  {
   "cell_type": "code",
   "execution_count": null,
   "id": "b45312c6-1614-4c64-97ef-98cbe7f7cc7f",
   "metadata": {},
   "outputs": [],
   "source": []
  }
 ],
 "metadata": {
  "kernelspec": {
   "display_name": "Python 3 (ipykernel)",
   "language": "python",
   "name": "python3"
  },
  "language_info": {
   "codemirror_mode": {
    "name": "ipython",
    "version": 3
   },
   "file_extension": ".py",
   "mimetype": "text/x-python",
   "name": "python",
   "nbconvert_exporter": "python",
   "pygments_lexer": "ipython3",
   "version": "3.12.4"
  }
 },
 "nbformat": 4,
 "nbformat_minor": 5
}
