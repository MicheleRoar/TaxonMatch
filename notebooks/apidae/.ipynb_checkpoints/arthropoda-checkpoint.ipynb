{
 "cells": [
  {
   "cell_type": "markdown",
   "id": "e48c6009-b8f3-48f8-acbf-ca2f32bb5852",
   "metadata": {},
   "source": [
    "# Analyzing Bee Taxonomy: Integrating GBIF and NCBI Data for Apidae Insights"
   ]
  },
  {
   "cell_type": "markdown",
   "id": "ed34893e-8be3-42b7-b526-dd64e2bab3a4",
   "metadata": {},
   "source": [
    "![title](https://live.staticflickr.com/4059/4632384645_a2230b26d5_b.jpg)"
   ]
  },
  {
   "cell_type": "markdown",
   "id": "36c11ee1-f342-400a-83ba-45024eabaa54",
   "metadata": {},
   "source": [
    "This Python notebook is designed for the purpose of integrating taxonomic data from two major biological databases, GBIF (Global Biodiversity Information Facility) and NCBI (National Center for Biotechnology Information), to enhance the accuracy and comprehensiveness of ecological and biological research. GBIF primarily focuses on biodiversity data including species distribution and ecological information, whereas NCBI provides a broader range of data including genomic and taxonomic details. \n",
    "\n",
    "Combining these sources enables researchers to cross-validate species identifications and improve the richness of ecological datasets with genetic information. A key biological task performed in this notebook is the construction of a taxonomic tree, which helps in visualizing and understanding the evolutionary relationships and classification hierarchy among different species within a chosen taxon (in this case, Apidae - a family of bees)."
   ]
  },
  {
   "cell_type": "markdown",
   "id": "37bb79a2",
   "metadata": {},
   "source": [
    "## 1. Importing libraries and downloading data"
   ]
  },
  {
   "cell_type": "markdown",
   "id": "6f58a3b1-9927-479c-bf78-92977c21b43c",
   "metadata": {},
   "source": [
    "The initial steps involve downloading the most recent taxonomic data from GBIF and NCBI to ensure the analysis is based on the latest available information. "
   ]
  },
  {
   "cell_type": "code",
   "execution_count": 2,
   "id": "0b648242",
   "metadata": {},
   "outputs": [],
   "source": [
    "import pandas as pd\n",
    "pd.set_option('display.max_colwidth', None)"
   ]
  },
  {
   "cell_type": "code",
   "execution_count": 20,
   "id": "2d48547a-bc68-4298-9181-0d8ebdc63262",
   "metadata": {},
   "outputs": [],
   "source": [
    "import taxonmatch as txm"
   ]
  },
  {
   "cell_type": "code",
   "execution_count": 21,
   "id": "96a78a02",
   "metadata": {},
   "outputs": [
    {
     "name": "stderr",
     "output_type": "stream",
     "text": [
      "Downloading GBIF Taxonomic Data: 926MB [01:54, 8.48MB/s] \n"
     ]
    },
    {
     "name": "stdout",
     "output_type": "stream",
     "text": [
      "GBIF backbone taxonomy has been downloaded successfully.\n"
     ]
    }
   ],
   "source": [
    "txm.download_gbif_taxonomy()"
   ]
  },
  {
   "cell_type": "code",
   "execution_count": 22,
   "id": "600be659",
   "metadata": {},
   "outputs": [
    {
     "name": "stderr",
     "output_type": "stream",
     "text": [
      "Downloading NCBI Taxonomic Data: 389kB [00:06, 59.5kB/s] \n"
     ]
    },
    {
     "name": "stdout",
     "output_type": "stream",
     "text": [
      "NCBI taxonomic data has been downloaded successfully.\n"
     ]
    }
   ],
   "source": [
    "txm.download_ncbi_taxonomy(taxonkitpath=\"./taxonkit\") #Specify taxonkit path"
   ]
  },
  {
   "cell_type": "markdown",
   "id": "5613f7e7",
   "metadata": {},
   "source": [
    "## 2. Loading and processing samples"
   ]
  },
  {
   "cell_type": "code",
   "execution_count": null,
   "id": "bb317ba3",
   "metadata": {},
   "outputs": [],
   "source": [
    "gbif_dataset = txm.load_gbif_samples(\"./GBIF_output/Taxon.tsv\")"
   ]
  },
  {
   "cell_type": "code",
   "execution_count": 23,
   "id": "8541847e-b4de-48b8-8289-dc033c62f68c",
   "metadata": {},
   "outputs": [],
   "source": [
    "ncbi_dataset = txm.load_ncbi_samples(\"./NCBI_output/ncbi_data.tsv\")"
   ]
  },
  {
   "cell_type": "code",
   "execution_count": null,
   "id": "9a6083e5-a049-455e-b535-e28b925be0b4",
   "metadata": {},
   "outputs": [],
   "source": []
  },
  {
   "cell_type": "code",
   "execution_count": 68,
   "id": "af580e9f-eaa1-48a4-9494-c92a8b5740a4",
   "metadata": {},
   "outputs": [
    {
     "data": {
      "text/html": [
       "<div>\n",
       "<style scoped>\n",
       "    .dataframe tbody tr th:only-of-type {\n",
       "        vertical-align: middle;\n",
       "    }\n",
       "\n",
       "    .dataframe tbody tr th {\n",
       "        vertical-align: top;\n",
       "    }\n",
       "\n",
       "    .dataframe thead th {\n",
       "        text-align: right;\n",
       "    }\n",
       "</style>\n",
       "<table border=\"1\" class=\"dataframe\">\n",
       "  <thead>\n",
       "    <tr style=\"text-align: right;\">\n",
       "      <th></th>\n",
       "      <th>ncbi_id</th>\n",
       "      <th>ncbi_lineage_names</th>\n",
       "      <th>ncbi_lineage_ids</th>\n",
       "      <th>ncbi_canonicalName</th>\n",
       "      <th>ncbi_rank</th>\n",
       "      <th>ncbi_lineage_ranks</th>\n",
       "      <th>ncbi_target_string</th>\n",
       "    </tr>\n",
       "  </thead>\n",
       "  <tbody>\n",
       "    <tr>\n",
       "      <th>2472448</th>\n",
       "      <td>3148892</td>\n",
       "      <td>cellular organisms;Eukaryota;Opisthokonta;Metazoa;Eumetazoa;Bilateria;Deuterostomia;Chordata;Craniata;Vertebrata;Gnathostomata;Teleostomi;Euteleostomi;Sarcopterygii;Dipnotetrapodomorpha;Tetrapoda;Amniota;Sauropsida;Sauria;Lepidosauria;Squamata;Bifurcata;Unidentata;Episquamata;Toxicofera;Serpentes;Henophidia;Pythonidae;Nyctophilopython</td>\n",
       "      <td>131567;2759;33154;33208;6072;33213;33511;7711;89593;7742;7776;117570;117571;8287;1338369;32523;32524;8457;32561;8504;8509;1329961;1329950;1329912;1329911;8570;34979;34984;3148892</td>\n",
       "      <td>Nyctophilopython</td>\n",
       "      <td>genus</td>\n",
       "      <td>no rank;superkingdom;clade;kingdom;clade;clade;clade;phylum;subphylum;clade;clade;clade;clade;superclass;clade;clade;clade;clade;clade;class;order;clade;clade;clade;clade;infraorder;superfamily;family;genus</td>\n",
       "      <td>Eukaryota;Chordata;Lepidosauria;Squamata;Pythonidae;Nyctophilopython;</td>\n",
       "    </tr>\n",
       "  </tbody>\n",
       "</table>\n",
       "</div>"
      ],
      "text/plain": [
       "         ncbi_id  \\\n",
       "2472448  3148892   \n",
       "\n",
       "                                                                                                                                                                                                                                                                                                                                       ncbi_lineage_names  \\\n",
       "2472448  cellular organisms;Eukaryota;Opisthokonta;Metazoa;Eumetazoa;Bilateria;Deuterostomia;Chordata;Craniata;Vertebrata;Gnathostomata;Teleostomi;Euteleostomi;Sarcopterygii;Dipnotetrapodomorpha;Tetrapoda;Amniota;Sauropsida;Sauria;Lepidosauria;Squamata;Bifurcata;Unidentata;Episquamata;Toxicofera;Serpentes;Henophidia;Pythonidae;Nyctophilopython   \n",
       "\n",
       "                                                                                                                                                                           ncbi_lineage_ids  \\\n",
       "2472448  131567;2759;33154;33208;6072;33213;33511;7711;89593;7742;7776;117570;117571;8287;1338369;32523;32524;8457;32561;8504;8509;1329961;1329950;1329912;1329911;8570;34979;34984;3148892   \n",
       "\n",
       "        ncbi_canonicalName ncbi_rank  \\\n",
       "2472448   Nyctophilopython     genus   \n",
       "\n",
       "                                                                                                                                                                                                     ncbi_lineage_ranks  \\\n",
       "2472448  no rank;superkingdom;clade;kingdom;clade;clade;clade;phylum;subphylum;clade;clade;clade;clade;superclass;clade;clade;clade;clade;clade;class;order;clade;clade;clade;clade;infraorder;superfamily;family;genus   \n",
       "\n",
       "                                                            ncbi_target_string  \n",
       "2472448  Eukaryota;Chordata;Lepidosauria;Squamata;Pythonidae;Nyctophilopython;  "
      ]
     },
     "execution_count": 68,
     "metadata": {},
     "output_type": "execute_result"
    }
   ],
   "source": [
    "ncbi_dataset[1].query(\"ncbi_id == 3148892\")"
   ]
  },
  {
   "cell_type": "code",
   "execution_count": null,
   "id": "cdc20850-19f2-4fab-bb97-5989af3a72a6",
   "metadata": {},
   "outputs": [],
   "source": [
    "2\t6\t[root, cellular organisms, prokaryotes, purple photosynthetic bacteria and relatives, Purple bacteria, alpha subdivision, Rhizobiales, Xanthobacteraceae, Azorhizobium]\t[1, 131567, 2, 1224, 28211, 356, 335928, 6]\t[no rank, no rank, superkingdom, phylum, class, order, family, genus]\tprokaryotes;purple photosynthetic bacteria and relatives;purple bacteria, alpha subdivision;rhizobiales;xanthobacteraceae;azorhizobium"
   ]
  },
  {
   "cell_type": "code",
   "execution_count": null,
   "id": "77f12e2d-f124-4982-af58-f2d038e1827a",
   "metadata": {},
   "outputs": [],
   "source": []
  },
  {
   "cell_type": "code",
   "execution_count": null,
   "id": "3934a0b3-4c20-424e-9225-2e5bda3d40bc",
   "metadata": {},
   "outputs": [],
   "source": []
  },
  {
   "cell_type": "code",
   "execution_count": null,
   "id": "6679583c-0268-4b7a-9f41-79deff3a86b9",
   "metadata": {},
   "outputs": [],
   "source": []
  },
  {
   "cell_type": "code",
   "execution_count": null,
   "id": "86abf79e-b10b-4a6c-ac57-d5e02709321f",
   "metadata": {},
   "outputs": [],
   "source": []
  },
  {
   "cell_type": "code",
   "execution_count": null,
   "id": "75593bf9-9207-40c6-8d79-48b5203f975d",
   "metadata": {},
   "outputs": [],
   "source": []
  },
  {
   "cell_type": "code",
   "execution_count": null,
   "id": "3f02edff-29ee-4523-882f-27536ccc7fdf",
   "metadata": {},
   "outputs": [],
   "source": []
  },
  {
   "cell_type": "code",
   "execution_count": null,
   "id": "78308eb8-fd14-4c46-afd1-5ae892cae23e",
   "metadata": {},
   "outputs": [],
   "source": []
  },
  {
   "cell_type": "code",
   "execution_count": null,
   "id": "a2157319-0896-43ed-9b2a-7b0f69f6ed24",
   "metadata": {},
   "outputs": [],
   "source": []
  },
  {
   "cell_type": "markdown",
   "id": "d791a166",
   "metadata": {},
   "source": [
    "## 3.a Training the classifier model"
   ]
  },
  {
   "cell_type": "markdown",
   "id": "96c04fd4-af7a-4009-a33d-9e0b3dae1661",
   "metadata": {},
   "source": [
    "If required, the notebook outlines steps to train a machine learning classifier to distinguish between correct and incorrect taxonomic matches. This involves generating positive and negative examples, preparing the training dataset, and comparing different models."
   ]
  },
  {
   "cell_type": "code",
   "execution_count": null,
   "id": "262e9267",
   "metadata": {},
   "outputs": [],
   "source": [
    "positive_matches = txm.generate_positive_set(gbif_dataset, ncbi_dataset, 5000)"
   ]
  },
  {
   "cell_type": "code",
   "execution_count": null,
   "id": "3121bb6d",
   "metadata": {},
   "outputs": [],
   "source": [
    "negative_matches = txm.generate_negative_set(gbif_dataset, ncbi_dataset, 5000)"
   ]
  },
  {
   "cell_type": "code",
   "execution_count": null,
   "id": "b2be06ec",
   "metadata": {},
   "outputs": [],
   "source": [
    "full_training_set = txm.prepare_data(positive_matches, negative_matches)"
   ]
  },
  {
   "cell_type": "code",
   "execution_count": null,
   "id": "add84e22",
   "metadata": {},
   "outputs": [],
   "source": [
    "X_train, X_test, y_train, y_test = txm.generate_training_test(full_training_set)"
   ]
  },
  {
   "cell_type": "code",
   "execution_count": null,
   "id": "d5cfcf41",
   "metadata": {},
   "outputs": [],
   "source": [
    "txm.compare_models(X_train, X_test, y_train, y_test)"
   ]
  },
  {
   "cell_type": "code",
   "execution_count": null,
   "id": "a4428617",
   "metadata": {},
   "outputs": [],
   "source": [
    "model = txm.XGBClassifier(learning_rate=0.1,n_estimators=500, max_depth=9, n_jobs=-1, colsample_bytree = 1, subsample = 0.8)"
   ]
  },
  {
   "cell_type": "code",
   "execution_count": null,
   "id": "560276c3-6c40-41da-af49-6e1a8ed156f5",
   "metadata": {},
   "outputs": [],
   "source": [
    "model.fit(X_train, y_train, verbose=False)"
   ]
  },
  {
   "cell_type": "code",
   "execution_count": null,
   "id": "61b6bf3c-08f6-4fb6-8306-a61607836359",
   "metadata": {},
   "outputs": [],
   "source": [
    "#with open('./files/model/xgb_model.pkl', 'wb') as file:\n",
    "#    pickle.dump(model, file)"
   ]
  },
  {
   "cell_type": "markdown",
   "id": "a903f53e-c5b7-44c2-b408-9ed939e8c302",
   "metadata": {},
   "source": [
    "## 3.b Load a pre-trained model"
   ]
  },
  {
   "cell_type": "markdown",
   "id": "736529c4-ae7f-4eff-915d-69bf4c104a48",
   "metadata": {},
   "source": [
    "Alternatively, it provides the option to load a pre-trained model, simplifying the process for routine analyses."
   ]
  },
  {
   "cell_type": "code",
   "execution_count": null,
   "id": "31c68318-1244-42c1-af18-ab3ebe51fed3",
   "metadata": {},
   "outputs": [],
   "source": [
    "from taxonmatch.loader import load_xgb_model\n",
    "model = load_xgb_model()"
   ]
  },
  {
   "cell_type": "markdown",
   "id": "2d4729e2",
   "metadata": {},
   "source": [
    "## 4. Match NCBI with GBIF dataset "
   ]
  },
  {
   "cell_type": "markdown",
   "id": "e9b3a248-fee2-4673-b484-902214c109e1",
   "metadata": {},
   "source": [
    "In this section, the focus is on comparing and aligning the taxonomic data from NCBI and GBIF datasets. It specifically targets the taxon \"Apidae\" to narrow down the analysis to a specific family of bees. Using a pre-trained machine learning model, the notebook matches records from both datasets, categorizing them as exact matches, unmatched, or potentially mislabeled due to typographical errors"
   ]
  },
  {
   "cell_type": "code",
   "execution_count": null,
   "id": "379a86c6-7c69-46db-94b5-53dc159cb0bd",
   "metadata": {},
   "outputs": [],
   "source": [
    "gbif_apidae, ncbi_apidae = txm.select_taxonomic_clade(\"Apidae\", gbif_dataset, ncbi_dataset)"
   ]
  },
  {
   "cell_type": "code",
   "execution_count": null,
   "id": "4052b9b2-920c-4e52-8ca0-8978bb841779",
   "metadata": {},
   "outputs": [],
   "source": [
    "matched_df, unmatched_df, possible_typos_df = txm.match_dataset(gbif_apidae, ncbi_apidae, model, tree_generation = True)"
   ]
  },
  {
   "cell_type": "markdown",
   "id": "9bd0098f-8a32-4f76-b825-e5c66ad9ba21",
   "metadata": {},
   "source": [
    "## 5. Generate the taxonomical tree "
   ]
  },
  {
   "cell_type": "markdown",
   "id": "78cb8f2a-2a79-4b26-a8d3-cadf50980287",
   "metadata": {},
   "source": [
    "In the last section, the notebook constructs a taxonomic tree from the matched and unmatched data between the GBIF and NCBI datasets, focusing on the Apidae family. This visual representation helps to illustrate the evolutionary relationships and classification hierarchy among the species. The tree is then converted into a dataframe for further analysis and saved in textual format for documentation and review purposes."
   ]
  },
  {
   "cell_type": "code",
   "execution_count": null,
   "id": "b47152fc-4c7b-4a97-b601-954d81bc2f2c",
   "metadata": {},
   "outputs": [],
   "source": [
    "tree = txm.generate_taxonomic_tree(matched_df, unmatched_df)"
   ]
  },
  {
   "cell_type": "code",
   "execution_count": null,
   "id": "0df04baf-8904-460b-a7b7-366c6ac09efb",
   "metadata": {},
   "outputs": [],
   "source": [
    "df_from_tree = txm.convert_tree_to_dataframe(tree, ncbi_apidae, gbif_apidae, \"taxonomic_tree_df.txt\")"
   ]
  },
  {
   "cell_type": "code",
   "execution_count": null,
   "id": "e4a53c02-3df5-4b74-b7e7-1828d3943203",
   "metadata": {},
   "outputs": [],
   "source": [
    "txm.print_tree(tree, root_name=\"Apidae\")"
   ]
  },
  {
   "cell_type": "code",
   "execution_count": null,
   "id": "89872660-3932-4f32-a09c-e0f27626c31b",
   "metadata": {},
   "outputs": [],
   "source": [
    "txm.save_tree(tree, \"taxon_tree.txt\")"
   ]
  },
  {
   "cell_type": "code",
   "execution_count": null,
   "id": "3d0b55e7-66c4-41dd-b8c4-9908bde4ac6c",
   "metadata": {},
   "outputs": [],
   "source": []
  },
  {
   "cell_type": "code",
   "execution_count": null,
   "id": "608726dc-a761-464c-a172-3507e1498dcf",
   "metadata": {},
   "outputs": [],
   "source": []
  },
  {
   "cell_type": "code",
   "execution_count": null,
   "id": "22a31628-6a0a-4691-b8ba-97d90e4238ad",
   "metadata": {},
   "outputs": [],
   "source": []
  },
  {
   "cell_type": "code",
   "execution_count": 1,
   "id": "d9fad8b7-ed3f-4367-8f91-42a4865c88f5",
   "metadata": {},
   "outputs": [
    {
     "name": "stderr",
     "output_type": "stream",
     "text": [
      "/var/folders/hh/_8qm31cx4yd3t43862l203c80000gp/T/ipykernel_24995/3759954959.py:6: DeprecationWarning: \n",
      "Pyarrow will become a required dependency of pandas in the next major release of pandas (pandas 3.0),\n",
      "(to allow more performant data types, such as the Arrow string type, and better interoperability with other libraries)\n",
      "but was not found to be installed on your system.\n",
      "If this would cause problems for you,\n",
      "please provide us feedback at https://github.com/pandas-dev/pandas/issues/54466\n",
      "        \n",
      "  import pandas as pd\n"
     ]
    }
   ],
   "source": [
    "import os\n",
    "import csv\n",
    "import gzip\n",
    "import zipfile\n",
    "import subprocess\n",
    "import pandas as pd\n",
    "from tqdm import tqdm\n",
    "import urllib.request"
   ]
  },
  {
   "cell_type": "code",
   "execution_count": 2,
   "id": "b9900313-72d3-440f-8c7a-b0c6f4f8e176",
   "metadata": {},
   "outputs": [],
   "source": [
    "def download_ncbi_taxonomy(output_folder=None):\n",
    "\n",
    "    if output_folder is None:\n",
    "        output_folder = os.getcwd()\n",
    "    \n",
    "    # Create a new folder for NCBI output\n",
    "    NCBI_output_folder = os.path.join(output_folder, \"NCBI_output\")\n",
    "    os.makedirs(NCBI_output_folder, exist_ok=True)\n",
    "    \n",
    "    # Download the NCBI taxondump\n",
    "    url = \"https://ftp.ncbi.nlm.nih.gov/pub/taxonomy/taxdmp.zip\"\n",
    "    tf = os.path.join(NCBI_output_folder, \"taxdmp.zip\")\n",
    "    with tqdm(unit='B', unit_scale=True, unit_divisor=1024, miniters=1, desc=\"Downloading NCBI Taxonomic Data\") as pbar:\n",
    "        def report_hook(blocknum, blocksize, totalsize):\n",
    "            pbar.update(blocknum * blocksize / totalsize * 100)\n",
    "        urllib.request.urlretrieve(url, tf, reporthook=report_hook)\n",
    "    \n",
    "    # Decompress the downloaded zip file\n",
    "    with zipfile.ZipFile(tf, \"r\") as zip_ref:\n",
    "        zip_ref.extractall(NCBI_output_folder)\n",
    "\n",
    "    # Lettura dei file .dmp\n",
    "    nodes_path = os.path.join(NCBI_output_folder, 'nodes.dmp')\n",
    "    names_path = os.path.join(NCBI_output_folder, 'names.dmp')\n",
    "\n",
    "    # Leggere nodes.dmp usando una stringa raw per il separatore\n",
    "    nodes_df = pd.read_csv(\n",
    "        nodes_path, \n",
    "        sep=r'\\t\\|\\t',  # Separatore di campo usando una stringa raw\n",
    "        header=None,  # Nessuna riga di intestazione nel file\n",
    "        usecols=range(13),  # Leggi le prime 13 colonne basate sull'estratto\n",
    "        names=[\n",
    "            'ncbi_id', 'parent_tax_id', 'rank', 'embl_code', 'division_id', \n",
    "            'inherited_div_flag', 'genetic_code_id', 'inherited_GC_flag', \n",
    "            'mitochondrial_genetic_code_id', 'inherited_MGC_flag', \n",
    "            'GenBank_hidden_flag', 'hidden_subtree_root_flag', 'comments'\n",
    "        ],\n",
    "        dtype=str,  # Imposta tutti i dati come stringhe per evitare problemi di conversione\n",
    "        engine='python'\n",
    "    ).replace(r'\\t\\|$', '', regex=True)  # Rimuovi l'ultimo separatore di campo usando una stringa raw   \n",
    "\n",
    "    # Leggere names.dmp\n",
    "    names_df = pd.read_csv(\n",
    "        names_path, \n",
    "        sep=r'\\t\\|\\t',  # Uso di stringa raw per il separatore\n",
    "        header=None,  # Nessuna riga di intestazione nel file\n",
    "        usecols=range(4),  # Ci sono quattro colonne basate sull'estratto\n",
    "        names=['ncbi_id', 'name_txt', 'unique_name', 'name_class'],\n",
    "        dtype=str,  # Imposta tutti i dati come stringhe per evitare problemi di conversione\n",
    "        engine='python'\n",
    "    ).replace(r'\\t\\|$', '', regex=True)  # Rimuovi l'ultimo separatore di campo da ogni riga\n",
    "\n",
    "    # Filtrare 'names_df' per includere solo i nomi scientifici\n",
    "    scientific_names_df = names_df[names_df['name_class'] == 'scientific name']\n",
    "    \n",
    "    # Creare il mappaggio da ncbi_id a name_txt, limitato ai nomi scientifici\n",
    "    name_map = pd.Series(scientific_names_df['name_txt'].values, index=scientific_names_df['ncbi_id']).to_dict()\n",
    "    \n",
    "    # Mappatura da ncbi_id a parent_tax_id e rank\n",
    "    parent_map = pd.Series(nodes_df['parent_tax_id'].values, index=nodes_df['ncbi_id']).to_dict()\n",
    "    rank_map = pd.Series(nodes_df['rank'].values, index=nodes_df['ncbi_id']).to_dict()\n",
    "    \n",
    "    # Aggiungere le colonne per il nome scientifico e il rango diretti\n",
    "    nodes_df['ncbi_canonicalName'] = nodes_df['ncbi_id'].apply(lambda x: name_map.get(x, ''))\n",
    "    nodes_df['ncbi_rank'] = nodes_df['ncbi_id'].apply(lambda x: rank_map.get(x, ''))\n",
    "    \n",
    "    # Funzione per ottenere l'intera linea di discendenza, escludendo la radice\n",
    "    def get_lineage(ncbi_id, map_dict):\n",
    "        lineage = []\n",
    "        while ncbi_id in map_dict and ncbi_id != '1':  # Escludi la radice\n",
    "            lineage.append(ncbi_id)\n",
    "            ncbi_id = map_dict[ncbi_id]\n",
    "        return lineage[::-1]\n",
    "    \n",
    "    # Costruzione delle linee di discendenza\n",
    "    nodes_df['ncbi_lineage_ids'] = nodes_df['ncbi_id'].apply(lambda x: get_lineage(x, parent_map))\n",
    "    nodes_df['ncbi_lineage_names'] = nodes_df['ncbi_lineage_ids'].apply(lambda ids: [name_map.get(id, '') for id in ids])\n",
    "    nodes_df['ncbi_lineage_ranks'] = nodes_df['ncbi_lineage_ids'].apply(lambda ids: [rank_map.get(id, '') for id in ids])\n",
    "    \n",
    "    # Converti le liste in stringhe\n",
    "    nodes_df['ncbi_lineage_names'] = nodes_df['ncbi_lineage_names'].apply(lambda names: ';'.join(names))\n",
    "    nodes_df['ncbi_lineage_ids'] = nodes_df['ncbi_lineage_ids'].apply(lambda ids: ';'.join(ids))\n",
    "    nodes_df['ncbi_lineage_ranks'] = nodes_df['ncbi_lineage_ranks'].apply(lambda ranks: ';'.join(ranks))\n",
    "    \n",
    "    # Definire i ranghi target\n",
    "    target_ranks = {'superkingdom', 'phylum', 'class', 'order', 'family', 'genus', 'species'}\n",
    "    \n",
    "    # Costruire la stringa target basata sui ranghi\n",
    "    def build_target_string(names, ranks):\n",
    "        names = names.split(';')\n",
    "        ranks = ranks.split(';')\n",
    "        return ';'.join(name for name, rank in zip(names, ranks) if rank in target_ranks).lower()\n",
    "    \n",
    "    nodes_df['ncbi_target_string'] = nodes_df.apply(\n",
    "        lambda row: build_target_string(row['ncbi_lineage_names'], row['ncbi_lineage_ranks']), axis=1)\n",
    "    \n",
    "    # Visualizzazione dei risultati\n",
    "    ncbi_full = nodes_df[['ncbi_id', 'ncbi_lineage_names', 'ncbi_lineage_ids', 'ncbi_canonicalName', 'ncbi_rank', 'ncbi_lineage_ranks', 'ncbi_target_string']]\n",
    "    ncbi_subset = ncbi_full.copy()\n",
    "    ncbi_subset['ncbi_target_string'] = ncbi_subset.apply(prepare_ncbi_strings, axis=1)\n",
    "    ncbi_subset[\"ncbi_target_string\"] = ncbi_subset[\"ncbi_target_string\"].apply(remove_extra_separators).str.strip(';')\n",
    "    ncbi_subset = ncbi_subset.drop_duplicates(subset=\"ncbi_target_string\")\n",
    "    \n",
    "    return ncbi_subset, ncbi_full"
   ]
  },
  {
   "cell_type": "code",
   "execution_count": null,
   "id": "38caccd9-e368-434a-acef-f6976a1cb291",
   "metadata": {},
   "outputs": [
    {
     "name": "stderr",
     "output_type": "stream",
     "text": [
      "Downloading NCBI Taxonomic Data: 389kB [00:07, 51.2kB/s] \n",
      "Exception ignored in: <bound method IPythonKernel._clean_thread_parent_frames of <ipykernel.ipkernel.IPythonKernel object at 0x107091df0>>\n",
      "Traceback (most recent call last):\n",
      "  File \"/Users/mleone1/miniconda3/envs/test/lib/python3.12/site-packages/ipykernel/ipkernel.py\", line 770, in _clean_thread_parent_frames\n",
      "    def _clean_thread_parent_frames(\n",
      "\n",
      "KeyboardInterrupt: \n"
     ]
    }
   ],
   "source": [
    "ncbi_dataset = download_ncbi_taxonomy()"
   ]
  },
  {
   "cell_type": "code",
   "execution_count": 91,
   "id": "099ee835-a9e2-4294-8e1b-8d03573363f0",
   "metadata": {},
   "outputs": [
    {
     "data": {
      "text/html": [
       "<div>\n",
       "<style scoped>\n",
       "    .dataframe tbody tr th:only-of-type {\n",
       "        vertical-align: middle;\n",
       "    }\n",
       "\n",
       "    .dataframe tbody tr th {\n",
       "        vertical-align: top;\n",
       "    }\n",
       "\n",
       "    .dataframe thead th {\n",
       "        text-align: right;\n",
       "    }\n",
       "</style>\n",
       "<table border=\"1\" class=\"dataframe\">\n",
       "  <thead>\n",
       "    <tr style=\"text-align: right;\">\n",
       "      <th></th>\n",
       "      <th>ncbi_id</th>\n",
       "      <th>ncbi_lineage_names</th>\n",
       "      <th>ncbi_lineage_ids</th>\n",
       "      <th>ncbi_canonicalName</th>\n",
       "      <th>ncbi_rank</th>\n",
       "      <th>ncbi_lineage_ranks</th>\n",
       "      <th>ncbi_target_string</th>\n",
       "    </tr>\n",
       "  </thead>\n",
       "  <tbody>\n",
       "    <tr>\n",
       "      <th>0</th>\n",
       "      <td>1</td>\n",
       "      <td></td>\n",
       "      <td></td>\n",
       "      <td>root</td>\n",
       "      <td>no rank</td>\n",
       "      <td></td>\n",
       "      <td></td>\n",
       "    </tr>\n",
       "    <tr>\n",
       "      <th>1</th>\n",
       "      <td>2</td>\n",
       "      <td>cellular organisms;Bacteria</td>\n",
       "      <td>131567;2</td>\n",
       "      <td>Bacteria</td>\n",
       "      <td>superkingdom</td>\n",
       "      <td>no rank;superkingdom</td>\n",
       "      <td>bacteria</td>\n",
       "    </tr>\n",
       "    <tr>\n",
       "      <th>2</th>\n",
       "      <td>6</td>\n",
       "      <td>cellular organisms;Bacteria;Pseudomonadota;Alphaproteobacteria;Hyphomicrobiales;Xanthobacteraceae;Azorhizobium</td>\n",
       "      <td>131567;2;1224;28211;356;335928;6</td>\n",
       "      <td>Azorhizobium</td>\n",
       "      <td>genus</td>\n",
       "      <td>no rank;superkingdom;phylum;class;order;family;genus</td>\n",
       "      <td>bacteria;pseudomonadota;alphaproteobacteria;hyphomicrobiales;xanthobacteraceae;azorhizobium</td>\n",
       "    </tr>\n",
       "    <tr>\n",
       "      <th>3</th>\n",
       "      <td>7</td>\n",
       "      <td>cellular organisms;Bacteria;Pseudomonadota;Alphaproteobacteria;Hyphomicrobiales;Xanthobacteraceae;Azorhizobium;Azorhizobium caulinodans</td>\n",
       "      <td>131567;2;1224;28211;356;335928;6;7</td>\n",
       "      <td>Azorhizobium caulinodans</td>\n",
       "      <td>species</td>\n",
       "      <td>no rank;superkingdom;phylum;class;order;family;genus;species</td>\n",
       "      <td>bacteria;pseudomonadota;alphaproteobacteria;hyphomicrobiales;xanthobacteraceae;azorhizobium;azorhizobium caulinodans</td>\n",
       "    </tr>\n",
       "    <tr>\n",
       "      <th>4</th>\n",
       "      <td>9</td>\n",
       "      <td>cellular organisms;Bacteria;Pseudomonadota;Gammaproteobacteria;Enterobacterales;Erwiniaceae;Buchnera;Buchnera aphidicola</td>\n",
       "      <td>131567;2;1224;1236;91347;1903409;32199;9</td>\n",
       "      <td>Buchnera aphidicola</td>\n",
       "      <td>species</td>\n",
       "      <td>no rank;superkingdom;phylum;class;order;family;genus;species</td>\n",
       "      <td>bacteria;pseudomonadota;gammaproteobacteria;enterobacterales;erwiniaceae;buchnera;buchnera aphidicola</td>\n",
       "    </tr>\n",
       "    <tr>\n",
       "      <th>...</th>\n",
       "      <td>...</td>\n",
       "      <td>...</td>\n",
       "      <td>...</td>\n",
       "      <td>...</td>\n",
       "      <td>...</td>\n",
       "      <td>...</td>\n",
       "      <td>...</td>\n",
       "    </tr>\n",
       "    <tr>\n",
       "      <th>2583642</th>\n",
       "      <td>3149255</td>\n",
       "      <td>cellular organisms;Eukaryota;Opisthokonta;Fungi;Dikarya;Basidiomycota;Agaricomycotina;Agaricomycetes;Agaricomycetes incertae sedis;Corticiales;Corticiaceae;Lyomyces;Lyomyces punctatomarginatus</td>\n",
       "      <td>131567;2759;33154;4751;451864;5204;5302;155619;355688;452338;5304;1234780;3149255</td>\n",
       "      <td>Lyomyces punctatomarginatus</td>\n",
       "      <td>species</td>\n",
       "      <td>no rank;superkingdom;clade;kingdom;subkingdom;phylum;subphylum;class;no rank;order;family;genus;species</td>\n",
       "      <td>eukaryota;basidiomycota;agaricomycetes;corticiales;corticiaceae;lyomyces;lyomyces punctatomarginatus</td>\n",
       "    </tr>\n",
       "    <tr>\n",
       "      <th>2583643</th>\n",
       "      <td>3149256</td>\n",
       "      <td>cellular organisms;Eukaryota;Opisthokonta;Fungi;Dikarya;Basidiomycota;Pucciniomycotina;Pucciniomycetes;Pucciniales;Pucciniaceae;Puccinia;Puccinia jaagii</td>\n",
       "      <td>131567;2759;33154;4751;451864;5204;29000;162484;5258;5262;5296;3149256</td>\n",
       "      <td>Puccinia jaagii</td>\n",
       "      <td>species</td>\n",
       "      <td>no rank;superkingdom;clade;kingdom;subkingdom;phylum;subphylum;class;order;family;genus;species</td>\n",
       "      <td>eukaryota;basidiomycota;pucciniomycetes;pucciniales;pucciniaceae;puccinia;puccinia jaagii</td>\n",
       "    </tr>\n",
       "    <tr>\n",
       "      <th>2583644</th>\n",
       "      <td>3149307</td>\n",
       "      <td>cellular organisms;Bacteria;Pseudomonadota;Alphaproteobacteria;Hyphomicrobiales;Salaquimonadaceae</td>\n",
       "      <td>131567;2;1224;28211;356;3149307</td>\n",
       "      <td>Salaquimonadaceae</td>\n",
       "      <td>family</td>\n",
       "      <td>no rank;superkingdom;phylum;class;order;family</td>\n",
       "      <td>bacteria;pseudomonadota;alphaproteobacteria;hyphomicrobiales;salaquimonadaceae</td>\n",
       "    </tr>\n",
       "    <tr>\n",
       "      <th>2583645</th>\n",
       "      <td>3149308</td>\n",
       "      <td>cellular organisms;Bacteria;Pseudomonadota;Alphaproteobacteria;Hyphomicrobiales;Rhodoligotrophaceae</td>\n",
       "      <td>131567;2;1224;28211;356;3149308</td>\n",
       "      <td>Rhodoligotrophaceae</td>\n",
       "      <td>family</td>\n",
       "      <td>no rank;superkingdom;phylum;class;order;family</td>\n",
       "      <td>bacteria;pseudomonadota;alphaproteobacteria;hyphomicrobiales;rhodoligotrophaceae</td>\n",
       "    </tr>\n",
       "    <tr>\n",
       "      <th>2583646</th>\n",
       "      <td>3149309</td>\n",
       "      <td>cellular organisms;Bacteria;Pseudomonadota;Alphaproteobacteria;Hyphomicrobiales;Methylopilaceae</td>\n",
       "      <td>131567;2;1224;28211;356;3149309</td>\n",
       "      <td>Methylopilaceae</td>\n",
       "      <td>family</td>\n",
       "      <td>no rank;superkingdom;phylum;class;order;family</td>\n",
       "      <td>bacteria;pseudomonadota;alphaproteobacteria;hyphomicrobiales;methylopilaceae</td>\n",
       "    </tr>\n",
       "  </tbody>\n",
       "</table>\n",
       "<p>2583647 rows × 7 columns</p>\n",
       "</div>"
      ],
      "text/plain": [
       "         ncbi_id  \\\n",
       "0              1   \n",
       "1              2   \n",
       "2              6   \n",
       "3              7   \n",
       "4              9   \n",
       "...          ...   \n",
       "2583642  3149255   \n",
       "2583643  3149256   \n",
       "2583644  3149307   \n",
       "2583645  3149308   \n",
       "2583646  3149309   \n",
       "\n",
       "                                                                                                                                                                                       ncbi_lineage_names  \\\n",
       "0                                                                                                                                                                                                           \n",
       "1                                                                                                                                                                             cellular organisms;Bacteria   \n",
       "2                                                                                          cellular organisms;Bacteria;Pseudomonadota;Alphaproteobacteria;Hyphomicrobiales;Xanthobacteraceae;Azorhizobium   \n",
       "3                                                                 cellular organisms;Bacteria;Pseudomonadota;Alphaproteobacteria;Hyphomicrobiales;Xanthobacteraceae;Azorhizobium;Azorhizobium caulinodans   \n",
       "4                                                                                cellular organisms;Bacteria;Pseudomonadota;Gammaproteobacteria;Enterobacterales;Erwiniaceae;Buchnera;Buchnera aphidicola   \n",
       "...                                                                                                                                                                                                   ...   \n",
       "2583642  cellular organisms;Eukaryota;Opisthokonta;Fungi;Dikarya;Basidiomycota;Agaricomycotina;Agaricomycetes;Agaricomycetes incertae sedis;Corticiales;Corticiaceae;Lyomyces;Lyomyces punctatomarginatus   \n",
       "2583643                                          cellular organisms;Eukaryota;Opisthokonta;Fungi;Dikarya;Basidiomycota;Pucciniomycotina;Pucciniomycetes;Pucciniales;Pucciniaceae;Puccinia;Puccinia jaagii   \n",
       "2583644                                                                                                 cellular organisms;Bacteria;Pseudomonadota;Alphaproteobacteria;Hyphomicrobiales;Salaquimonadaceae   \n",
       "2583645                                                                                               cellular organisms;Bacteria;Pseudomonadota;Alphaproteobacteria;Hyphomicrobiales;Rhodoligotrophaceae   \n",
       "2583646                                                                                                   cellular organisms;Bacteria;Pseudomonadota;Alphaproteobacteria;Hyphomicrobiales;Methylopilaceae   \n",
       "\n",
       "                                                                          ncbi_lineage_ids  \\\n",
       "0                                                                                            \n",
       "1                                                                                 131567;2   \n",
       "2                                                         131567;2;1224;28211;356;335928;6   \n",
       "3                                                       131567;2;1224;28211;356;335928;6;7   \n",
       "4                                                 131567;2;1224;1236;91347;1903409;32199;9   \n",
       "...                                                                                    ...   \n",
       "2583642  131567;2759;33154;4751;451864;5204;5302;155619;355688;452338;5304;1234780;3149255   \n",
       "2583643             131567;2759;33154;4751;451864;5204;29000;162484;5258;5262;5296;3149256   \n",
       "2583644                                                    131567;2;1224;28211;356;3149307   \n",
       "2583645                                                    131567;2;1224;28211;356;3149308   \n",
       "2583646                                                    131567;2;1224;28211;356;3149309   \n",
       "\n",
       "                  ncbi_canonicalName     ncbi_rank  \\\n",
       "0                               root       no rank   \n",
       "1                           Bacteria  superkingdom   \n",
       "2                       Azorhizobium         genus   \n",
       "3           Azorhizobium caulinodans       species   \n",
       "4                Buchnera aphidicola       species   \n",
       "...                              ...           ...   \n",
       "2583642  Lyomyces punctatomarginatus       species   \n",
       "2583643              Puccinia jaagii       species   \n",
       "2583644            Salaquimonadaceae        family   \n",
       "2583645          Rhodoligotrophaceae        family   \n",
       "2583646              Methylopilaceae        family   \n",
       "\n",
       "                                                                                              ncbi_lineage_ranks  \\\n",
       "0                                                                                                                  \n",
       "1                                                                                           no rank;superkingdom   \n",
       "2                                                           no rank;superkingdom;phylum;class;order;family;genus   \n",
       "3                                                   no rank;superkingdom;phylum;class;order;family;genus;species   \n",
       "4                                                   no rank;superkingdom;phylum;class;order;family;genus;species   \n",
       "...                                                                                                          ...   \n",
       "2583642  no rank;superkingdom;clade;kingdom;subkingdom;phylum;subphylum;class;no rank;order;family;genus;species   \n",
       "2583643          no rank;superkingdom;clade;kingdom;subkingdom;phylum;subphylum;class;order;family;genus;species   \n",
       "2583644                                                           no rank;superkingdom;phylum;class;order;family   \n",
       "2583645                                                           no rank;superkingdom;phylum;class;order;family   \n",
       "2583646                                                           no rank;superkingdom;phylum;class;order;family   \n",
       "\n",
       "                                                                                                           ncbi_target_string  \n",
       "0                                                                                                                              \n",
       "1                                                                                                                    bacteria  \n",
       "2                                 bacteria;pseudomonadota;alphaproteobacteria;hyphomicrobiales;xanthobacteraceae;azorhizobium  \n",
       "3        bacteria;pseudomonadota;alphaproteobacteria;hyphomicrobiales;xanthobacteraceae;azorhizobium;azorhizobium caulinodans  \n",
       "4                       bacteria;pseudomonadota;gammaproteobacteria;enterobacterales;erwiniaceae;buchnera;buchnera aphidicola  \n",
       "...                                                                                                                       ...  \n",
       "2583642                  eukaryota;basidiomycota;agaricomycetes;corticiales;corticiaceae;lyomyces;lyomyces punctatomarginatus  \n",
       "2583643                             eukaryota;basidiomycota;pucciniomycetes;pucciniales;pucciniaceae;puccinia;puccinia jaagii  \n",
       "2583644                                        bacteria;pseudomonadota;alphaproteobacteria;hyphomicrobiales;salaquimonadaceae  \n",
       "2583645                                      bacteria;pseudomonadota;alphaproteobacteria;hyphomicrobiales;rhodoligotrophaceae  \n",
       "2583646                                          bacteria;pseudomonadota;alphaproteobacteria;hyphomicrobiales;methylopilaceae  \n",
       "\n",
       "[2583647 rows x 7 columns]"
      ]
     },
     "execution_count": 91,
     "metadata": {},
     "output_type": "execute_result"
    }
   ],
   "source": [
    "ncbi_dataset"
   ]
  },
  {
   "cell_type": "code",
   "execution_count": 84,
   "id": "01aa3325-dcca-4f11-9db6-fb05b4bb7d26",
   "metadata": {},
   "outputs": [],
   "source": []
  },
  {
   "cell_type": "code",
   "execution_count": 85,
   "id": "4cecdc8f-a182-4155-ad39-308d56393f45",
   "metadata": {},
   "outputs": [],
   "source": []
  },
  {
   "cell_type": "code",
   "execution_count": null,
   "id": "69f922a7-e912-4545-bc96-ff4dd6f4e307",
   "metadata": {},
   "outputs": [],
   "source": []
  },
  {
   "cell_type": "code",
   "execution_count": null,
   "id": "97da8c85-6460-47e1-aefa-32c70af5aee6",
   "metadata": {},
   "outputs": [],
   "source": []
  },
  {
   "cell_type": "code",
   "execution_count": null,
   "id": "b525f94b-ea54-42e3-9b1c-6e2dde069d42",
   "metadata": {},
   "outputs": [],
   "source": []
  },
  {
   "cell_type": "code",
   "execution_count": null,
   "id": "7e4b9cd0-1f74-4d46-8467-73442a5aa42d",
   "metadata": {},
   "outputs": [],
   "source": []
  },
  {
   "cell_type": "code",
   "execution_count": null,
   "id": "3ba6f8da-1dd7-4d6f-bc4d-916d5c27c8d8",
   "metadata": {},
   "outputs": [],
   "source": []
  },
  {
   "cell_type": "code",
   "execution_count": null,
   "id": "4f0660fa-6016-4c59-8d1a-62e3ca2a7e73",
   "metadata": {},
   "outputs": [],
   "source": []
  },
  {
   "cell_type": "code",
   "execution_count": null,
   "id": "60fae0fe-5e43-4261-99b2-ac3796a878eb",
   "metadata": {},
   "outputs": [],
   "source": []
  },
  {
   "cell_type": "code",
   "execution_count": null,
   "id": "eab2ea17-ab59-465f-8db2-7d4f69adeb7f",
   "metadata": {},
   "outputs": [],
   "source": []
  },
  {
   "cell_type": "code",
   "execution_count": null,
   "id": "e91a13b7-a258-47a6-a7f1-4d86b4d00484",
   "metadata": {},
   "outputs": [],
   "source": []
  },
  {
   "cell_type": "code",
   "execution_count": null,
   "id": "ae8e26ea-f0b6-4247-a26c-a9b9e13bc94b",
   "metadata": {},
   "outputs": [],
   "source": []
  },
  {
   "cell_type": "code",
   "execution_count": 3,
   "id": "830e5638-ce49-47e0-8027-bebdb5a1415b",
   "metadata": {},
   "outputs": [],
   "source": [
    "def prepare_ncbi_strings(row):\n",
    "    \"\"\"\n",
    "    Prepare NCBI taxonomy strings.\n",
    "\n",
    "    Args:\n",
    "    row (pd.Series): A row from the NCBI DataFrame.\n",
    "\n",
    "    Returns:\n",
    "    str: A cleaned taxonomy string.\n",
    "    \"\"\"\n",
    "    parts = row['ncbi_target_string'].split(';')\n",
    "    \n",
    "    if row['ncbi_rank'] in ['species', 'subspecies', 'strain']:\n",
    "        new_string = ';'.join(parts[1:-1]) + ';' + row['ncbi_canonicalName']\n",
    "    else:\n",
    "        new_string = ';'.join(parts[1:-1])\n",
    "    \n",
    "    return new_string.lower()\n",
    "\n",
    "def remove_extra_separators(s):\n",
    "    \"\"\"\n",
    "    Remove extra semicolons from a string.\n",
    "\n",
    "    Args:\n",
    "    s (str): The string to process.\n",
    "\n",
    "    Returns:\n",
    "    str: The string with extra semicolons removed.\n",
    "    \"\"\"\n",
    "    return re.sub(r';+', ';', s)\n",
    "\n",
    "\n",
    "\n"
   ]
  },
  {
   "cell_type": "code",
   "execution_count": 4,
   "id": "f670531b-3e0a-4c74-9b1b-ecb97ee0e931",
   "metadata": {},
   "outputs": [],
   "source": [
    "import os\n",
    "import re\n",
    "import time\n",
    "import zipfile\n",
    "import threading\n",
    "import pandas as pd\n",
    "import urllib.request\n",
    "from tqdm import tqdm\n",
    "\n",
    "\n",
    "def download_ncbi_taxonomy(output_folder=None):\n",
    "\n",
    "    \"\"\"\n",
    "    Download, extract, and process NCBI taxonomy data.\n",
    "\n",
    "    This function sets up the necessary directories, downloads the taxonomy dump from NCBI,\n",
    "    extracts the contents, and processes the data to create structured pandas DataFrames \n",
    "    with lineage information.\n",
    "\n",
    "    Args:\n",
    "    output_folder (str, optional): The directory to save NCBI output. Defaults to the current working directory.\n",
    "\n",
    "    Returns:\n",
    "    tuple: A tuple containing two pandas DataFrames:\n",
    "        - ncbi_subset: DataFrame with unique target strings.\n",
    "        - ncbi_full: Full DataFrame with all taxonomy information.\n",
    "    \"\"\"\n",
    "    \n",
    "    # Set the default output folder to the current working directory if none is provided\n",
    "    if output_folder is None:\n",
    "        output_folder = os.getcwd()\n",
    "\n",
    "    # Create a new folder for storing the NCBI taxonomic data\n",
    "    NCBI_output_folder = os.path.join(output_folder, \"NCBI_output\")\n",
    "    os.makedirs(NCBI_output_folder, exist_ok=True)\n",
    "\n",
    "    # Define the URL for the NCBI taxonomic database dump\n",
    "    url = \"https://ftp.ncbi.nlm.nih.gov/pub/taxonomy/taxdmp.zip\"\n",
    "    tf = os.path.join(NCBI_output_folder, \"taxdmp.zip\")\n",
    "\n",
    "    # Check if the taxonomy data file already exists to avoid re-downloading\n",
    "    if os.path.exists(tf):\n",
    "        print(\"NCBI taxonomy data already downloaded.\")\n",
    "    \n",
    "    else:\n",
    "        # Download the zip file with a progress bar\n",
    "        with tqdm(unit='B', unit_scale=True, unit_divisor=1024, miniters=1, desc=\"Downloading NCBI Taxonomic Data\") as pbar:\n",
    "            def report_hook(blocknum, blocksize, totalsize):\n",
    "                pbar.update(blocknum * blocksize - pbar.n)\n",
    "            urllib.request.urlretrieve(url, tf, reporthook=report_hook)\n",
    "    \n",
    "        # Decompress the downloaded zip file\n",
    "        with zipfile.ZipFile(tf, \"r\") as zip_ref:\n",
    "            zip_ref.extractall(NCBI_output_folder)\n",
    "    \n",
    "        # Check if the file was downloaded successfully\n",
    "        if os.path.exists(tf):\n",
    "            print(\"NCBI taxonomy has been downloaded successfully.\")\n",
    "\n",
    "    def animate_dots():\n",
    "    \"\"\"\n",
    "    Animate a sequence of dots on the console to indicate processing activity.\n",
    "        \n",
    "    Args:\n",
    "    None. The function assumes access to a globally defined threading.Event() named 'done_event'.\n",
    "\n",
    "    Returns:\n",
    "    None. This function returns nothing and is intended solely for side effects (console output).\n",
    "    \"\"\"\n",
    "    dots = [\"   \", \".  \", \".. \", \"...\"]  # List of dot states for animation.\n",
    "    idx = 0  # Initialize index to cycle through dot states.\n",
    "    print(\"Processing samples\", end=\"\")  # Initial print statement for processing message.\n",
    "    while not done_event.is_set():  # Loop until the event is set signaling processing is complete.\n",
    "        print(f\"\\rProcessing samples{dots[idx % len(dots)]}\", end=\"\", flush=True)  # Overwrite the previous line with new dot state.\n",
    "        time.sleep(0.5)  # Pause for half a second before updating dot state.\n",
    "        idx += 1  # Increment index to cycle to the next dot state.\n",
    "\n",
    "\n",
    "    # Create and start the dot animation thread\n",
    "    done_event = threading.Event()\n",
    "    thread = threading.Thread(target=animate_dots)\n",
    "    thread.start()\n",
    "\n",
    "    try:\n",
    "        # Read the nodes dump file\n",
    "        nodes_path = os.path.join(NCBI_output_folder, 'nodes.dmp')\n",
    "        names_path = os.path.join(NCBI_output_folder, 'names.dmp')\n",
    "\n",
    "        # Read the nodes file using a specific field separator and specifying no header\n",
    "        nodes_df = pd.read_csv(\n",
    "            nodes_path, \n",
    "            sep=r'\\t\\|\\t',\n",
    "            header=None,\n",
    "            usecols=range(13),\n",
    "            names=[\n",
    "                'ncbi_id', 'parent_tax_id', 'rank', 'embl_code', 'division_id', \n",
    "                'inherited_div_flag', 'genetic_code_id', 'inherited_GC_flag', \n",
    "                'mitochondrial_genetic_code_id', 'inherited_MGC_flag', \n",
    "                'GenBank_hidden_flag', 'hidden_subtree_root_flag', 'comments'\n",
    "            ],\n",
    "            dtype=str,\n",
    "            engine='python'\n",
    "        ).replace(r'\\t\\|$', '', regex=True)\n",
    "\n",
    "        # Read the names dump file\n",
    "        names_df = pd.read_csv(\n",
    "            names_path, \n",
    "            sep=r'\\t\\|\\t',\n",
    "            header=None,\n",
    "            usecols=range(4),\n",
    "            names=['ncbi_id', 'name_txt', 'unique_name', 'name_class'],\n",
    "            dtype=str,\n",
    "            engine='python'\n",
    "        ).replace(r'\\t\\|$', '', regex=True)\n",
    "\n",
    "        # Filter to include only scientific names\n",
    "        scientific_names_df = names_df[names_df['name_class'] == 'scientific name']\n",
    "        \n",
    "        # Map NCBI IDs to parent tax IDs and ranks\n",
    "        name_map = pd.Series(scientific_names_df['name_txt'].values, index=scientific_names_df['ncbi_id']).to_dict()\n",
    "        \n",
    "        # Add columns for canonical name and rank using the maps\n",
    "        parent_map = pd.Series(nodes_df['parent_tax_id'].values, index=nodes_df['ncbi_id']).to_dict()\n",
    "        rank_map = pd.Series(nodes_df['rank'].values, index=nodes_df['ncbi_id']).to_dict()\n",
    "        \n",
    "        # Aggiungere le colonne per il nome scientifico e il rango diretti\n",
    "        nodes_df['ncbi_canonicalName'] = nodes_df['ncbi_id'].apply(lambda x: name_map.get(x, ''))\n",
    "        nodes_df['ncbi_rank'] = nodes_df['ncbi_id'].apply(lambda x: rank_map.get(x, ''))\n",
    "        \n",
    "        # Function to compute the entire lineage, excluding the root\n",
    "        def get_lineage(ncbi_id, map_dict):\n",
    "            lineage = []\n",
    "            while ncbi_id in map_dict and ncbi_id != '1': \n",
    "                lineage.append(ncbi_id)\n",
    "                ncbi_id = map_dict[ncbi_id]\n",
    "            return lineage[::-1]\n",
    "        \n",
    "        # Build lineages\n",
    "        nodes_df['ncbi_lineage_ids'] = nodes_df['ncbi_id'].apply(lambda x: get_lineage(x, parent_map))\n",
    "        nodes_df['ncbi_lineage_names'] = nodes_df['ncbi_lineage_ids'].apply(lambda ids: [name_map.get(id, '') for id in ids])\n",
    "        nodes_df['ncbi_lineage_ranks'] = nodes_df['ncbi_lineage_ids'].apply(lambda ids: [rank_map.get(id, '') for id in ids])\n",
    "        \n",
    "        # Convert list of lineage information to semicolon-separated strings\n",
    "        nodes_df['ncbi_lineage_names'] = nodes_df['ncbi_lineage_names'].apply(lambda names: ';'.join(names))\n",
    "        nodes_df['ncbi_lineage_ids'] = nodes_df['ncbi_lineage_ids'].apply(lambda ids: ';'.join(ids))\n",
    "        nodes_df['ncbi_lineage_ranks'] = nodes_df['ncbi_lineage_ranks'].apply(lambda ranks: ';'.join(ranks))\n",
    "        \n",
    "        # Define target ranks and build target strings based on ranks\n",
    "        target_ranks = {'superkingdom', 'phylum', 'class', 'order', 'family', 'genus', 'species'}\n",
    "        \n",
    "        def build_target_string(names, ranks):\n",
    "            names = names.split(';')\n",
    "            ranks = ranks.split(';')\n",
    "            return ';'.join(name for name, rank in zip(names, ranks) if rank in target_ranks).lower()\n",
    "        \n",
    "        nodes_df['ncbi_target_string'] = nodes_df.apply(\n",
    "            lambda row: build_target_string(row['ncbi_lineage_names'], row['ncbi_lineage_ranks']), axis=1)\n",
    "        \n",
    "        # Prepare final subsets for return\n",
    "        ncbi_full = nodes_df[['ncbi_id', 'ncbi_lineage_names', 'ncbi_lineage_ids', 'ncbi_canonicalName', 'ncbi_rank', 'ncbi_lineage_ranks', 'ncbi_target_string']]\n",
    "        ncbi_subset = ncbi_full.copy()\n",
    "        ncbi_subset['ncbi_target_string'] = ncbi_subset.apply(prepare_ncbi_strings, axis=1)\n",
    "        ncbi_subset[\"ncbi_target_string\"] = ncbi_subset[\"ncbi_target_string\"].apply(remove_extra_separators).str.strip(';')\n",
    "        ncbi_subset = ncbi_subset.drop_duplicates(subset=\"ncbi_target_string\")\n",
    "    \n",
    "    finally:\n",
    "        done_event.set()\n",
    "        thread.join()\n",
    "        print(\"\\rProcessing samples...\")\n",
    "        print(\"Done.\")\n",
    "\n",
    "    return ncbi_subset, ncbi_full"
   ]
  },
  {
   "cell_type": "code",
   "execution_count": null,
   "id": "5b6061cd-1f55-4fd1-8431-772b3b5cb5ab",
   "metadata": {},
   "outputs": [
    {
     "name": "stderr",
     "output_type": "stream",
     "text": [
      "Exception in thread Thread-5 (animate_dots):\n",
      "Traceback (most recent call last):\n",
      "  File \"/Users/mleone1/miniconda3/envs/test/lib/python3.12/threading.py\", line 1073, in _bootstrap_inner\n",
      "    self.run()\n",
      "  File \"/Users/mleone1/miniconda3/envs/test/lib/python3.12/site-packages/ipykernel/ipkernel.py\", line 761, in run_closure\n",
      "    _threading_Thread_run(self)\n",
      "  File \"/Users/mleone1/miniconda3/envs/test/lib/python3.12/threading.py\", line 1010, in run\n",
      "    self._target(*self._args, **self._kwargs)\n",
      "  File \"/var/folders/hh/_8qm31cx4yd3t43862l203c80000gp/T/ipykernel_25081/3478035857.py\", line 45, in animate_dots\n",
      "NameError: name 'done_event' is not defined\n"
     ]
    },
    {
     "name": "stdout",
     "output_type": "stream",
     "text": [
      "NCBI taxonomy data already downloaded.\n",
      "Processing samples"
     ]
    }
   ],
   "source": [
    "ncbi_dataset = download_ncbi_taxonomy()"
   ]
  },
  {
   "cell_type": "code",
   "execution_count": null,
   "id": "80ede648-48bb-4127-b835-bbf86e3f8512",
   "metadata": {},
   "outputs": [],
   "source": []
  },
  {
   "cell_type": "code",
   "execution_count": null,
   "id": "637b3196-e648-4209-81fd-d3d3401b4a84",
   "metadata": {},
   "outputs": [],
   "source": []
  }
 ],
 "metadata": {
  "kernelspec": {
   "display_name": "Python 3 (ipykernel)",
   "language": "python",
   "name": "python3"
  },
  "language_info": {
   "codemirror_mode": {
    "name": "ipython",
    "version": 3
   },
   "file_extension": ".py",
   "mimetype": "text/x-python",
   "name": "python",
   "nbconvert_exporter": "python",
   "pygments_lexer": "ipython3",
   "version": "3.12.1"
  }
 },
 "nbformat": 4,
 "nbformat_minor": 5
}
